{
 "cells": [
  {
   "cell_type": "markdown",
   "metadata": {},
   "source": [
    "# Tarea 16 - Sebastián Negrete Aragón - Física Computacional\n",
    "# Semestre 2017-2"
   ]
  },
  {
   "cell_type": "code",
   "execution_count": 1,
   "metadata": {},
   "outputs": [
    {
     "data": {
      "text/plain": [
       "herramientas"
      ]
     },
     "execution_count": 1,
     "metadata": {},
     "output_type": "execute_result"
    }
   ],
   "source": [
    "include(\"modulos/herramientas.jl\")"
   ]
  },
  {
   "cell_type": "code",
   "execution_count": 2,
   "metadata": {},
   "outputs": [],
   "source": [
    "using PyPlot"
   ]
  },
  {
   "cell_type": "markdown",
   "metadata": {},
   "source": [
    "## Ejercicio 2"
   ]
  },
  {
   "cell_type": "markdown",
   "metadata": {},
   "source": [
    "### ¿Cómo se define una matriz simétrica?"
   ]
  },
  {
   "cell_type": "markdown",
   "metadata": {},
   "source": [
    "Se dice que una una matriz cuadrada es simétrica si es igual a su matriz transpuesta. Escrito en lenguaje matemático:\n",
    "\n",
    "$$A\\in\\{\\mathscr{M}_n(K) \\} \\Longrightarrow A\\in\\{A\\in\\{\\mathscr{M}_n(K)\\}\\:|\\: A=A^T\\} \\Longleftrightarrow a_{ij}=a_{ji}\\:\\forall i,j=1,2,3,...,n$$\n",
    "\n",
    "Donde $a_{ij}$ es el elemento de matriz del _i_-ésimo renglón y de la _j_-ésima columna de $A$ y $K$ es el campo donde definimos a nuestras matrices."
   ]
  },
  {
   "cell_type": "markdown",
   "metadata": {},
   "source": [
    "## Ejercicio 3"
   ]
  },
  {
   "cell_type": "markdown",
   "metadata": {},
   "source": [
    "### ¿Cómo se puede construir una matriz simétrica a partir de una matriz cuadrada?"
   ]
  },
  {
   "cell_type": "markdown",
   "metadata": {},
   "source": [
    "Si $A\\in\\{\\mathscr{M}_n(K) \\}$ podemos construir una matriz $B\\in\\{\\mathscr{M}_n(K)\\}$ a partir de $A$ tal que $B\\in\\{\\mathscr{M}_n(K)\\}\\:|\\: A=A^T\\}$, es decir $B$ sea una matriz simétrica. Dicha construcción es simplemente definir a $B$ como:\n",
    "\n",
    "$$B=A+A^T$$\n",
    "\n",
    "_Demostración_:\n",
    "\n",
    "Sean $A\\in\\{\\mathscr{M}_n(K) \\}$ y $a_{ij}$ el elemento de matriz del _i_-ésimo renglón y de la _j_-ésima columna de $A$ con $i,j=1,2,3,...,n$\n",
    "\n",
    "$\\Longrightarrow$ $a_{ij}^T$ que es el elemento de matriz del _i_-ésimo renglón y de la _j_-ésima columna de $A^T$ cumple:\n",
    "$$a_{ij}^T=a_{ji}$$\n",
    "\n",
    "Por lo que si $B$ es la matriz resultante de la suma de $A$ y $A^T$, y $b_{ij}$ es el elemento de matriz del _i_-ésimo renglón y de la _j_-ésima columna de $B$ se tendría:\n",
    "$$b_{ij}=a_{ij}+a_{ij}^T=a_{ij}+a_{ji}$$\n",
    "\n",
    "Mientras que para $b_{ji}$:\n",
    "$$b_{ji}=a_{ji}+a_{ji}^T=a_{ji}+a_{ij}=a_{ij}+a_{ji}$$\n",
    "\n",
    "$$\\Longrightarrow b_{ij}=b_{ji}$$\n",
    "\n",
    "$$\\therefore B=B^T$$\n",
    "\n",
    "$$\\blacksquare$$"
   ]
  },
  {
   "cell_type": "markdown",
   "metadata": {},
   "source": [
    "## Ejercicio 4"
   ]
  },
  {
   "cell_type": "markdown",
   "metadata": {},
   "source": [
    "Construya el propagador $e^{A t}$ para cada tiempo sobre una malla y uselo para propagar un estado inicial $\\vec x_0$ cualquiera. Utilice:\n",
    "$$A=\\left(\\begin{array}{cc} 1 & 1\\\\ -1 & 1 \\end{array} \\right).$$\n",
    "* Grafique la trayectoria en el espacio de fase."
   ]
  },
  {
   "cell_type": "code",
   "execution_count": 3,
   "metadata": {},
   "outputs": [
    {
     "data": {
      "text/plain": [
       "2×2 Array{Int64,2}:\n",
       "  1  1\n",
       " -1  1"
      ]
     },
     "execution_count": 3,
     "metadata": {},
     "output_type": "execute_result"
    }
   ],
   "source": [
    "#Matriz a usar en la exponencial\n",
    "A=[1 1; -1 1]"
   ]
  },
  {
   "cell_type": "code",
   "execution_count": 4,
   "metadata": {},
   "outputs": [
    {
     "data": {
      "text/plain": [
       "2×2 Array{Complex{Float64},2}:\n",
       " 0.707107+0.0im       0.707107-0.0im     \n",
       "      0.0+0.707107im       0.0-0.707107im"
      ]
     },
     "execution_count": 4,
     "metadata": {},
     "output_type": "execute_result"
    }
   ],
   "source": [
    "#Obtenemos los eigenvectores y hacemos la matriz w\n",
    "w=eigvecs(A)"
   ]
  },
  {
   "cell_type": "code",
   "execution_count": 5,
   "metadata": {},
   "outputs": [
    {
     "data": {
      "text/plain": [
       "2-element Array{Complex{Float64},1}:\n",
       " 1.0+1.0im\n",
       " 1.0-1.0im"
      ]
     },
     "execution_count": 5,
     "metadata": {},
     "output_type": "execute_result"
    }
   ],
   "source": [
    "#Obtenenmos los eigenvalores\n",
    "vals=eigvals(A)"
   ]
  },
  {
   "cell_type": "code",
   "execution_count": 6,
   "metadata": {},
   "outputs": [
    {
     "data": {
      "text/plain": [
       "F (generic function with 1 method)"
      ]
     },
     "execution_count": 6,
     "metadata": {},
     "output_type": "execute_result"
    }
   ],
   "source": [
    "#Nuestra función del propagador, a los eigenvalores se les aplica la exponencial y se usan dichos valores evaluados para\n",
    "#hacer una matriz diagonal que multiplicamos por w y la inversa de w\n",
    "F(t)=w*diagm(exp.(vals*t))*inv(w)"
   ]
  },
  {
   "cell_type": "markdown",
   "metadata": {},
   "source": [
    "### Implementación para $\\vec{x_0}$ cualquiera"
   ]
  },
  {
   "cell_type": "code",
   "execution_count": 7,
   "metadata": {},
   "outputs": [
    {
     "data": {
      "text/plain": [
       "ent (generic function with 1 method)"
      ]
     },
     "execution_count": 7,
     "metadata": {},
     "output_type": "execute_result"
    }
   ],
   "source": [
    "#Función que simplifica la función map\n",
    "function ent(lista,entrada)\n",
    "    listent=map(x->x[entrada],lista)\n",
    "    return listent\n",
    "end"
   ]
  },
  {
   "cell_type": "code",
   "execution_count": 8,
   "metadata": {},
   "outputs": [],
   "source": [
    "#Código que evalua nuestra función aplicada a un rango de valores de t y la multiplica por la condicion inicial x_0\n",
    "a=3*(2*rand(1)-1)\n",
    "b=3*(2*rand(1)-1)\n",
    "M=[a,b]\n",
    "listx=[] #Arreglo sin rango\n",
    "for t in linspace(0,10,1000)\n",
    "    vs=F(t)*M\n",
    "    push!(listx,vs) #Arroja una lista con los valores de la evaluación de F(t) por M\n",
    "end"
   ]
  },
  {
   "cell_type": "code",
   "execution_count": 9,
   "metadata": {},
   "outputs": [
    {
     "data": {
      "text/plain": [
       "1000-element Array{Array{Complex{Float64},1},1}:\n",
       " Complex{Float64}[1.63827+0.0im] \n",
       " Complex{Float64}[1.62737+0.0im] \n",
       " Complex{Float64}[1.61593+0.0im] \n",
       " Complex{Float64}[1.60392+0.0im] \n",
       " Complex{Float64}[1.59135+0.0im] \n",
       " Complex{Float64}[1.5782+0.0im]  \n",
       " Complex{Float64}[1.56447+0.0im] \n",
       " Complex{Float64}[1.55014+0.0im] \n",
       " Complex{Float64}[1.53521+0.0im] \n",
       " Complex{Float64}[1.51966+0.0im] \n",
       " Complex{Float64}[1.50349+0.0im] \n",
       " Complex{Float64}[1.4867+0.0im]  \n",
       " Complex{Float64}[1.46926+0.0im] \n",
       " ⋮                               \n",
       " Complex{Float64}[-4998.78+0.0im]\n",
       " Complex{Float64}[-4420.91+0.0im]\n",
       " Complex{Float64}[-3830.46+0.0im]\n",
       " Complex{Float64}[-3227.29+0.0im]\n",
       " Complex{Float64}[-2611.28+0.0im]\n",
       " Complex{Float64}[-1982.27+0.0im]\n",
       " Complex{Float64}[-1340.15+0.0im]\n",
       " Complex{Float64}[-684.77+0.0im] \n",
       " Complex{Float64}[-15.9993+0.0im]\n",
       " Complex{Float64}[666.299+0.0im] \n",
       " Complex{Float64}[1362.26+0.0im] \n",
       " Complex{Float64}[2072.02+0.0im] "
      ]
     },
     "execution_count": 9,
     "metadata": {},
     "output_type": "execute_result"
    }
   ],
   "source": [
    "listax=ent(listx,1) #Primera entrada de la lista de salida\n",
    "listay=ent(listx,2) #Segunda entrada de la lista de salida"
   ]
  },
  {
   "cell_type": "code",
   "execution_count": 10,
   "metadata": {},
   "outputs": [
    {
     "data": {
      "image/png": "[encoded data removed]",
      "text/plain": [
       "PyPlot.Figure(PyObject <matplotlib.figure.Figure object at 0x7f32c3cc5390>)"
      ]
     },
     "metadata": {},
     "output_type": "display_data"
    },
    {
     "name": "stderr",
     "output_type": "stream",
     "text": [
      "/usr/local/lib/python2.7/dist-packages/numpy/core/numeric.py:531: ComplexWarning: Casting complex values to real discards the imaginary part\n",
      "  return array(a, dtype, copy=False, order=order)\n"
     ]
    },
    {
     "data": {
      "text/plain": [
       "PyObject <matplotlib.text.Text object at 0x7f32bf825890>"
      ]
     },
     "execution_count": 10,
     "metadata": {},
     "output_type": "execute_result"
    }
   ],
   "source": [
    "#Graficamos\n",
    "plot(listax,listay)\n",
    "    title(\"Espacio fase - Ej. 4\")\n",
    "    xlim([-100,100]) #Límite en x\n",
    "    ylim([-100,100]) #Límite en y\n",
    "    xlabel(\"x\")\n",
    "    ylabel(\"y\")"
   ]
  },
  {
   "cell_type": "markdown",
   "metadata": {},
   "source": [
    "FIN"
   ]
  }
 ],
 "metadata": {
  "kernelspec": {
   "display_name": "Julia 0.6.0",
   "language": "julia",
   "name": "julia-0.6"
  },
  "language_info": {
   "file_extension": ".jl",
   "mimetype": "application/julia",
   "name": "julia",
   "version": "0.6.0"
  }
 },
 "nbformat": 4,
 "nbformat_minor": 2
}
