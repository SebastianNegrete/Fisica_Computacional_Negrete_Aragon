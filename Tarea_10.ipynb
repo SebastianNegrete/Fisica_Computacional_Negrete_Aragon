{
 "cells": [
  {
   "cell_type": "markdown",
   "metadata": {},
   "source": [
    "# Tarea 10 - Sebastián Negrete Aragón - Física Computacional\n",
    "# Semestre 2017-2"
   ]
  },
  {
   "cell_type": "markdown",
   "metadata": {},
   "source": [
    "Con este programa haremos un análisis similar al hecho por el profesor con el código para la derivación hacia adelante pero para la derivación simétrica"
   ]
  },
  {
   "cell_type": "code",
   "execution_count": 1,
   "metadata": {
    "collapsed": true
   },
   "outputs": [],
   "source": [
    "#Usaremos SymPy\n",
    "using SymPy"
   ]
  },
  {
   "cell_type": "markdown",
   "metadata": {},
   "source": [
    "Calcularemos los coeficientes de Taylor, en el código del notebook de la clase se usa $log(x+1)$, aquí será con $arcsinh(x)$ el cuál en _SymPy_ es $asinh(x)$."
   ]
  },
  {
   "cell_type": "code",
   "execution_count": 12,
   "metadata": {
    "collapsed": true
   },
   "outputs": [],
   "source": [
    "#Función que nos regresa un Float de Julia\n",
    "function coeff_Taylor_asinh(i)\n",
    "    x=Sym(\"x\")\n",
    "    h=Sym(\"h\")\n",
    "    N(subs(diff(asinh(x),x,i)/factorial(Float64(i)),x=>0))\n",
    "end"
   ]
  },
  {
   "cell_type": "code",
   "execution_count": 13,
   "metadata": {
    "collapsed": true
   },
   "outputs": [],
   "source": [
    "#Función que nos regresa una expresión de SymPy\n",
    "function coeff_Taylor_asinh_rational(i)\n",
    "    x=Sym(\"x\")\n",
    "    h=Sym(\"h\")\n",
    "    subs(diff(asinh(x),x,i)/factorial(i),x=>0)\n",
    "end"
   ]
  },
  {
   "cell_type": "markdown",
   "metadata": {},
   "source": [
    "Ahora damos la función `finite_difference_symmetric` que representa las diferencias finitas simétricas:\n",
    "\n",
    "$\\delta_h:f(x)\\mapsto f(x+h)-f(x-h)$"
   ]
  },
  {
   "cell_type": "code",
   "execution_count": 24,
   "metadata": {
    "collapsed": true
   },
   "outputs": [],
   "source": [
    "#Función diferencia finita simétrica\n",
    "function finite_difference_symmetric(f)\n",
    "    return (x,h)->f(x+h,h)-f(x-h,h) #La notación indica que a (x,h) lo evaluará en lo que va después de la flecha ->\n",
    "end;"
   ]
  },
  {
   "cell_type": "markdown",
   "metadata": {},
   "source": [
    "La justificación del porqué `finite_difference_forward` es una función de dos argumentos es análoga al código expuesto en el notebook de la clase: permite imponer orden en las variables y facilitar la concatenación del operador.\n",
    "Ahora viene el código que nos permitirá concatenar. Así el _output_ tiene la misma forma que el _input_, algo que nos permitirá retroalimentar la función para así concatenar"
   ]
  },
  {
   "cell_type": "code",
   "execution_count": 25,
   "metadata": {
    "collapsed": false
   },
   "outputs": [],
   "source": [
    "#Función g definida como función de SymPy\n",
    "g=SymFunction(\"g\")"
   ]
  },
  {
   "cell_type": "code",
   "execution_count": 26,
   "metadata": {
    "collapsed": true
   },
   "outputs": [],
   "source": [
    "#Definimos la función rr, con esto la función de una variable g(x) ahora tiene dependencia (x,h)\n",
    "rr(x,h)=g(x);"
   ]
  },
  {
   "cell_type": "code",
   "execution_count": 27,
   "metadata": {
    "collapsed": true
   },
   "outputs": [],
   "source": [
    "#La función gg la definimos como `finite_difference_symmetric` aplicado a rr\n",
    "gg=finite_difference_symmetric(rr);"
   ]
  },
  {
   "cell_type": "code",
   "execution_count": 28,
   "metadata": {
    "collapsed": false
   },
   "outputs": [
    {
     "data": {
      "text/latex": [
       "$$- g{\\left (- h + x \\right )} + g{\\left (h + x \\right )}$$"
      ],
      "text/plain": [
       "-g(-h + x) + g(h + x)"
      ]
     },
     "execution_count": 28,
     "metadata": {},
     "output_type": "execute_result"
    }
   ],
   "source": [
    "#Con esto arrojamos la expresión resultante de gg\n",
    "gg(Sym(\"x\"),Sym(\"h\"))"
   ]
  },
  {
   "cell_type": "markdown",
   "metadata": {},
   "source": [
    "Con esto hemos concatenado satisfactoriamente el operador de diferencia finita simétrica. Ahora haciendo la segunda concatenación de `finite_difference_symmetric`:"
   ]
  },
  {
   "cell_type": "code",
   "execution_count": 19,
   "metadata": {
    "collapsed": false
   },
   "outputs": [
    {
     "data": {
      "text/latex": [
       "$$- 2 g{\\left (x \\right )} + g{\\left (- 2 h + x \\right )} + g{\\left (2 h + x \\right )}$$"
      ],
      "text/plain": [
       "-2*g(x) + g(-2*h + x) + g(2*h + x)"
      ]
     },
     "execution_count": 19,
     "metadata": {},
     "output_type": "execute_result"
    }
   ],
   "source": [
    "#Segunda concatenación\n",
    "gg=finite_difference_symmetric(gg);\n",
    "gg(Sym(\"x\"),Sym(\"h\"))"
   ]
  },
  {
   "cell_type": "markdown",
   "metadata": {},
   "source": [
    "Con esto estamos listos para dar las derivaciones con errores de orden superior, para esto recordemos:\n",
    "$$\\:\\left.\\frac{d}{d\\xi}\\right|_{\\substack{\\xi=x}}=\\frac{1}{2h}\\sum_{n=0}^{\\infty}\\frac{(-1)^{n}(2n)!}{4^{2n}(n!)^{2}(2n+1)}\\delta_{h}^{\\:2n+1}=\\frac{1}{2h}\\left(\\delta_{h}-\\frac{1}{24}\\delta_{h}^{\\:2}+\\cdots\\right)\\ \\ldots\\ Obs.\\ 1$$\n",
    "Damos dos expresiones para dicha derivación debido a que tenemos dos funciones para los coeficientes de Taylor:"
   ]
  },
  {
   "cell_type": "code",
   "execution_count": 31,
   "metadata": {
    "collapsed": false
   },
   "outputs": [
    {
     "data": {
      "text/plain": [
       "Derivative_order (generic function with 1 method)"
      ]
     },
     "execution_count": 31,
     "metadata": {},
     "output_type": "execute_result"
    }
   ],
   "source": [
    "#Esta función nos da la derivada numérica simétrica como Float de Julia\n",
    "#Usamos la función de coeficientes de Taylor que arroja Float de Julia\n",
    "#f: función\n",
    "#x: punto a aproximar\n",
    "#h: incremento\n",
    "#order: orden de la aproximación\n",
    "function Derivative_order(f,x,h,order)\n",
    "    g(x,h)=f(x)\n",
    "    der=0\n",
    "    for i in range(1,order)\n",
    "        g=finite_difference_symmetric(g)\n",
    "        der+=coeff_Taylor_asinh(i)*g(x,h)/2^i   #Obs. 1 y se divide entre i por tener la función asinh(x)\n",
    "    end\n",
    "    der/h\n",
    "end"
   ]
  },
  {
   "cell_type": "code",
   "execution_count": 30,
   "metadata": {
    "collapsed": false
   },
   "outputs": [
    {
     "data": {
      "text/plain": [
       "Derivative_order_rational_coefficients (generic function with 1 method)"
      ]
     },
     "execution_count": 30,
     "metadata": {},
     "output_type": "execute_result"
    }
   ],
   "source": [
    "#Esta función nos da la derivada simétrica como expresión de SymPy\n",
    "#Usamos la función de coeficientes de Taylor que la expresión de SymPy\n",
    "#f: función\n",
    "#x: punto a aproximar\n",
    "#h: incremento\n",
    "#order: orden de la aproximación\n",
    "function Derivative_order_rational_coefficients(f,x,h,order)\n",
    "    g(x,h)=f(x)\n",
    "    der=0\n",
    "    for i in range(1,order)\n",
    "        g=finite_difference_symmetric(g)\n",
    "        der+=coeff_Taylor_asinh_rational(i)*g(x,h)/2^i #Obs. 1 y se divide entre i por tener la función asinh(x)\n",
    "    end\n",
    "    der/h\n",
    "end"
   ]
  },
  {
   "cell_type": "markdown",
   "metadata": {},
   "source": [
    "__Prueba__ Con la función que arroja float de Julia"
   ]
  },
  {
   "cell_type": "code",
   "execution_count": 21,
   "metadata": {
    "collapsed": false
   },
   "outputs": [
    {
     "data": {
      "text/plain": [
       "0.5440211108893371"
      ]
     },
     "execution_count": 21,
     "metadata": {},
     "output_type": "execute_result"
    }
   ],
   "source": [
    "#Aplicamos para la función cos(x) en el punto 10 con un incremento 0.01 y un orden 5\n",
    "Derivative_order(cos,10.0,0.01,5)"
   ]
  },
  {
   "cell_type": "code",
   "execution_count": 22,
   "metadata": {
    "collapsed": false
   },
   "outputs": [
    {
     "data": {
      "text/plain": [
       "0.5440211108893698"
      ]
     },
     "execution_count": 22,
     "metadata": {},
     "output_type": "execute_result"
    }
   ],
   "source": [
    "#La derivada de cos(x) es -sin(x), el valor de la derivada de cos(x) es:\n",
    "-sin(10.0)"
   ]
  },
  {
   "cell_type": "markdown",
   "metadata": {},
   "source": [
    "Ahora para conocer como escala el error para comparar con la derivada hacia adelante usamos la función que arroja expresiones en SymPy"
   ]
  },
  {
   "cell_type": "code",
   "execution_count": 32,
   "metadata": {
    "collapsed": false
   },
   "outputs": [
    {
     "data": {
      "text/latex": [
       "$$\\frac{1}{h} \\left(- \\frac{3}{1280} f{\\left (- 5 h + x \\right )} + \\frac{25}{768} f{\\left (- 3 h + x \\right )} - \\frac{75}{128} f{\\left (- h + x \\right )} + \\frac{75}{128} f{\\left (h + x \\right )} - \\frac{25}{768} f{\\left (3 h + x \\right )} + \\frac{3}{1280} f{\\left (5 h + x \\right )}\\right)$$"
      ],
      "text/plain": [
       "  3*f(-5*h + x)   25*f(-3*h + x)   75*f(-h + x)   75*f(h + x)   25*f(3*h + x) \n",
       "- ------------- + -------------- - ------------ + ----------- - ------------- \n",
       "       1280            768             128            128            768      \n",
       "------------------------------------------------------------------------------\n",
       "                                             h                                \n",
       "\n",
       "  3*f(5*h + x)\n",
       "+ ------------\n",
       "      1280    \n",
       "--------------\n",
       "              "
      ]
     },
     "execution_count": 32,
     "metadata": {},
     "output_type": "execute_result"
    }
   ],
   "source": [
    "#Expresión de la derivada para un orden 5\n",
    "approx=Derivative_order_rational_coefficients(SymFunction(\"f\"),Sym(\"x\"),Sym(\"h\"),5)"
   ]
  },
  {
   "cell_type": "code",
   "execution_count": 33,
   "metadata": {
    "collapsed": false
   },
   "outputs": [
    {
     "data": {
      "text/latex": [
       "$$\\left. \\frac{d}{d \\xi_{1}} f{\\left (\\xi_{1} \\right )} \\right|_{\\substack{ \\xi_{1}=x }} + \\frac{5 h^{6}}{112} \\left. \\frac{d^{7}}{d \\xi_{1}^{7}}  f{\\left (\\xi_{1} \\right )} \\right|_{\\substack{ \\xi_{1}=x }} + \\mathcal{O}\\left(h^{8}\\right)$$"
      ],
      "text/plain": [
       "                               /   7           \\|              \n",
       "                             6 |  d            ||              \n",
       "                          5*h *|------(f(xi_1))||              \n",
       "                               |     7         ||              \n",
       "/  d           \\|              \\dxi_1          /|xi_1=x    / 8\\\n",
       "|-----(f(xi_1))||       + ----------------------------- + O\\h /\n",
       "\\dxi_1         /|xi_1=x                112                     "
      ]
     },
     "execution_count": 33,
     "metadata": {},
     "output_type": "execute_result"
    }
   ],
   "source": [
    "#Expandimos en serie de Taylor:\n",
    "series(approx,Sym(\"h\"),0,8)"
   ]
  },
  {
   "cell_type": "markdown",
   "metadata": {},
   "source": [
    "Para la derivada simétrica de orden 5 se tiene que el error escala como $h^{6}$. Se mejoró la aproximación respecto a la derivada hacia adelante propuesta en clase."
   ]
  },
  {
   "cell_type": "markdown",
   "metadata": {},
   "source": [
    "__Fin__"
   ]
  }
 ],
 "metadata": {
  "kernelspec": {
   "display_name": "Julia 0.6.0",
   "language": "julia",
   "name": "julia-0.6"
  },
  "language_info": {
   "file_extension": ".jl",
   "mimetype": "application/julia",
   "name": "julia",
   "version": "0.6.0"
  }
 },
 "nbformat": 4,
 "nbformat_minor": 2
}
