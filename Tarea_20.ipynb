{
 "cells": [
  {
   "cell_type": "markdown",
   "metadata": {},
   "source": [
    "# Tarea 20 - Sebastián Negrete Aragón - Física Computacional\n",
    "# Semestre 2017-2"
   ]
  },
  {
   "cell_type": "code",
   "execution_count": 2,
   "metadata": {},
   "outputs": [],
   "source": [
    "using PyPlot"
   ]
  },
  {
   "cell_type": "markdown",
   "metadata": {},
   "source": [
    "## Ejercicio 1"
   ]
  },
  {
   "cell_type": "markdown",
   "metadata": {},
   "source": [
    "\n",
    "El sistema de ecuaciones resultante es $A \\vec f +\\vec b= \\vec 0$ con $A$ igual a la siguiente matriz\n",
    "\n",
    "$$\n",
    "\\left(\n",
    "\\begin{array}{ccccccccccccccc}\n",
    " -4. & 1. & 0 & 0 & 0 & 1. & 0 & 0 & 0 & 0 & 0 & 0 & 0 & 0 & 0 \\\\\n",
    " 1. & -4. & 1. & 0 & 0 & 0 & 1. & 0 & 0 & 0 & 0 & 0 & 0 & 0 & 0 \\\\\n",
    " 0 & 1. & -4. & 1. & 0 & 0 & 0 & 1. & 0 & 0 & 0 & 0 & 0 & 0 & 0 \\\\\n",
    " 0 & 0 & 1. & -4. & 1. & 0 & 0 & 0 & 1. & 0 & 0 & 0 & 0 & 0 & 0 \\\\\n",
    " 0 & 0 & 0 & 1. & -4. & 0 & 0 & 0 & 0 & 1. & 0 & 0 & 0 & 0 & 0 \\\\\n",
    " 1. & 0 & 0 & 0 & 0 & -4. & 1. & 0 & 0 & 0 & 1. & 0 & 0 & 0 & 0 \\\\\n",
    " 0 & 1. & 0 & 0 & 0 & 1. & -4. & 1. & 0 & 0 & 0 & 1. & 0 & 0 & 0 \\\\\n",
    " 0 & 0 & 1. & 0 & 0 & 0 & 1. & -4. & 1. & 0 & 0 & 0 & 1. & 0 & 0 \\\\\n",
    " 0 & 0 & 0 & 1. & 0 & 0 & 0 & 1. & -4. & 1. & 0 & 0 & 0 & 1. & 0 \\\\\n",
    " 0 & 0 & 0 & 0 & 1. & 0 & 0 & 0 & 1. & -4. & 0 & 0 & 0 & 0 & 1. \\\\\n",
    " 0 & 0 & 0 & 0 & 0 & 1. & 0 & 0 & 0 & 0 & -4. & 1. & 0 & 0 & 0 \\\\\n",
    " 0 & 0 & 0 & 0 & 0 & 0 & 1. & 0 & 0 & 0 & 1. & -4. & 1. & 0 & 0 \\\\\n",
    " 0 & 0 & 0 & 0 & 0 & 0 & 0 & 1. & 0 & 0 & 0 & 1. & -4. & 1. & 0 \\\\\n",
    " 0 & 0 & 0 & 0 & 0 & 0 & 0 & 0 & 1. & 0 & 0 & 0 & 1. & -4. & 1. \\\\\n",
    " 0 & 0 & 0 & 0 & 0 & 0 & 0 & 0 & 0 & 1. & 0 & 0 & 0 & 1. & -4. \\\\\n",
    "\\end{array}\n",
    "\\right)\n",
    "$$\n",
    "y $b$ de la forma\n",
    "\n",
    "$$\n",
    "(0.,0.,0.,0.,70.7107,0.,0.,0.,0.,100.,0.,0.,0.,0.,70.7107)^T.\n",
    "$$\n",
    "\n",
    "La solución a este sistema es $\\vec f=-A^{-1}\\vec b$.\n",
    "\n",
    "__Crear una rutina que construya $A$ y $\\vec b$ para este sistema. Resuelvalo utilizando la función `inv` y grafique $\\vec f$ utilizando la funcion `pcolormesh`. Recuerde que aqui $\\vec f$ es un vector, para volverlo de nuevo una matriz con entradas $f_{i,j}$ pueden usar la función `reshape`.__"
   ]
  },
  {
   "cell_type": "code",
   "execution_count": 14,
   "metadata": {},
   "outputs": [],
   "source": [
    "#Definicion de la matriz A\n",
    "A=zeros(15,15) #Declaramos a A como una matriz de 15x15\n",
    "for i in 1:15\n",
    "    A[i,i]=-4 #Los elementos de la diagonal son -4\n",
    "    if i<15 && i!=5 && i!=10\n",
    "        A[i,i+1]=1\n",
    "        A[i+1,i]=1\n",
    "    end\n",
    "    if i<11\n",
    "        A[i,i+5]=1\n",
    "        A[i+5,i]=1\n",
    "    end\n",
    "end"
   ]
  },
  {
   "cell_type": "code",
   "execution_count": 15,
   "metadata": {},
   "outputs": [
    {
     "data": {
      "text/plain": [
       "15×15 Array{Float64,2}:\n",
       " -4.0   1.0   0.0   0.0   0.0   1.0  …   0.0   0.0   0.0   0.0   0.0   0.0\n",
       "  1.0  -4.0   1.0   0.0   0.0   0.0      0.0   0.0   0.0   0.0   0.0   0.0\n",
       "  0.0   1.0  -4.0   1.0   0.0   0.0      0.0   0.0   0.0   0.0   0.0   0.0\n",
       "  0.0   0.0   1.0  -4.0   1.0   0.0      0.0   0.0   0.0   0.0   0.0   0.0\n",
       "  0.0   0.0   0.0   1.0  -4.0   0.0      1.0   0.0   0.0   0.0   0.0   0.0\n",
       "  1.0   0.0   0.0   0.0   0.0  -4.0  …   0.0   1.0   0.0   0.0   0.0   0.0\n",
       "  0.0   1.0   0.0   0.0   0.0   1.0      0.0   0.0   1.0   0.0   0.0   0.0\n",
       "  0.0   0.0   1.0   0.0   0.0   0.0      0.0   0.0   0.0   1.0   0.0   0.0\n",
       "  0.0   0.0   0.0   1.0   0.0   0.0      1.0   0.0   0.0   0.0   1.0   0.0\n",
       "  0.0   0.0   0.0   0.0   1.0   0.0     -4.0   0.0   0.0   0.0   0.0   1.0\n",
       "  0.0   0.0   0.0   0.0   0.0   1.0  …   0.0  -4.0   1.0   0.0   0.0   0.0\n",
       "  0.0   0.0   0.0   0.0   0.0   0.0      0.0   1.0  -4.0   1.0   0.0   0.0\n",
       "  0.0   0.0   0.0   0.0   0.0   0.0      0.0   0.0   1.0  -4.0   1.0   0.0\n",
       "  0.0   0.0   0.0   0.0   0.0   0.0      0.0   0.0   0.0   1.0  -4.0   1.0\n",
       "  0.0   0.0   0.0   0.0   0.0   0.0      1.0   0.0   0.0   0.0   1.0  -4.0"
      ]
     },
     "execution_count": 15,
     "metadata": {},
     "output_type": "execute_result"
    }
   ],
   "source": [
    "#Así queda A\n",
    "A"
   ]
  },
  {
   "cell_type": "code",
   "execution_count": 16,
   "metadata": {},
   "outputs": [],
   "source": [
    "#Definición de la matriz columna b (de 15x1)\n",
    "b=zeros(15); #Genera una columna de 15 entradas\n",
    "#Definición de las entradas distintas de cero:\n",
    "b[5]=70.7107;\n",
    "b[10]=100;\n",
    "b[15]=70.7107;"
   ]
  },
  {
   "cell_type": "code",
   "execution_count": 17,
   "metadata": {},
   "outputs": [
    {
     "data": {
      "text/plain": [
       "15-element Array{Float64,1}:\n",
       "   0.0   \n",
       "   0.0   \n",
       "   0.0   \n",
       "   0.0   \n",
       "  70.7107\n",
       "   0.0   \n",
       "   0.0   \n",
       "   0.0   \n",
       "   0.0   \n",
       " 100.0   \n",
       "   0.0   \n",
       "   0.0   \n",
       "   0.0   \n",
       "   0.0   \n",
       "  70.7107"
      ]
     },
     "execution_count": 17,
     "metadata": {},
     "output_type": "execute_result"
    }
   ],
   "source": [
    "#Así queda b\n",
    "b"
   ]
  },
  {
   "cell_type": "markdown",
   "metadata": {},
   "source": [
    "Como la solución al sistema es $\\vec f=-A^{-1}\\vec b$ se tiene el código a ejecutar para encontrar $\\vec{f}$:"
   ]
  },
  {
   "cell_type": "code",
   "execution_count": 18,
   "metadata": {},
   "outputs": [
    {
     "data": {
      "text/plain": [
       "15-element Array{Float64,1}:\n",
       "  1.30459\n",
       "  3.37339\n",
       "  7.41827\n",
       " 15.8087 \n",
       " 33.4596 \n",
       "  1.84497\n",
       "  4.77069\n",
       " 10.491  \n",
       " 22.3568 \n",
       " 47.319  \n",
       "  1.30459\n",
       "  3.37339\n",
       "  7.41827\n",
       " 15.8087 \n",
       " 33.4596 "
      ]
     },
     "execution_count": 18,
     "metadata": {},
     "output_type": "execute_result"
    }
   ],
   "source": [
    "f=-inv(A)*b\n",
    "#Nos arroja una matriz columna de 15x1"
   ]
  },
  {
   "cell_type": "code",
   "execution_count": 19,
   "metadata": {},
   "outputs": [
    {
     "data": {
      "text/plain": [
       "5×3 Array{Float64,2}:\n",
       "  1.30459   1.84497   1.30459\n",
       "  3.37339   4.77069   3.37339\n",
       "  7.41827  10.491     7.41827\n",
       " 15.8087   22.3568   15.8087 \n",
       " 33.4596   47.319    33.4596 "
      ]
     },
     "execution_count": 19,
     "metadata": {},
     "output_type": "execute_result"
    }
   ],
   "source": [
    "f=reshape(f,(5,3))"
   ]
  },
  {
   "cell_type": "code",
   "execution_count": 20,
   "metadata": {},
   "outputs": [
    {
     "data": {
      "image/png": "[encoded data removed]",
      "text/plain": [
       "PyPlot.Figure(PyObject <matplotlib.figure.Figure object at 0x7feaac2eea90>)"
      ]
     },
     "metadata": {},
     "output_type": "display_data"
    },
    {
     "data": {
      "text/plain": [
       "PyObject <matplotlib.colorbar.Colorbar object at 0x7feaabf9fa50>"
      ]
     },
     "execution_count": 20,
     "metadata": {},
     "output_type": "execute_result"
    }
   ],
   "source": [
    "pcolormesh(f)\n",
    "colorbar()"
   ]
  },
  {
   "cell_type": "markdown",
   "metadata": {},
   "source": [
    "__FIN__"
   ]
  },
  {
   "cell_type": "markdown",
   "metadata": {},
   "source": [
    "Los ejercicios 2 y 3 que son puntos extras los subiré en los próximos días"
   ]
  }
 ],
 "metadata": {
  "kernelspec": {
   "display_name": "Julia 0.6.0",
   "language": "julia",
   "name": "julia-0.6"
  },
  "language_info": {
   "file_extension": ".jl",
   "mimetype": "application/julia",
   "name": "julia",
   "version": "0.6.0"
  }
 },
 "nbformat": 4,
 "nbformat_minor": 2
}
