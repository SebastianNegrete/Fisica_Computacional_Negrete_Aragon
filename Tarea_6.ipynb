{
 "cells": [
  {
   "cell_type": "markdown",
   "metadata": {},
   "source": [
    "# Tarea 5 - Sebastián Negrete Aragón - Física Computacional\n",
    "# Semestre 2017-2"
   ]
  },
  {
   "cell_type": "markdown",
   "metadata": {},
   "source": [
    "## Métodos de Integración."
   ]
  },
  {
   "cell_type": "markdown",
   "metadata": {},
   "source": [
    "### Integración por Método de Riemann"
   ]
  },
  {
   "cell_type": "markdown",
   "metadata": {},
   "source": [
    "La **integral de Riemann** es una de las definiciones de Cálculo para integrar funciones de $[a,b]$ $\\subset$ $\\mathbb{R}$ $\\rightarrow$ $\\mathbb{R}$.\n",
    "\n",
    "Dicho concepto se basa en las **particiones $P=\\{a=t_0<t_1<...<t_n=b\\}$ de un intervalo $[a,b]$** para generar rectángulos que se aproximen al área bajo la curva de la función $f$ **considerando la longitud de los subintervalos $[t_{i-1},t_i]$ y un conjunto de puntos $\\{x_i\\}^n_{i=1}$ los cuales cumplen que $x_i\\in[t_{i-1},t_i)$**.\n",
    "\n",
    "Dada una partición $P\\subset\\mathbb{P}_{[a,b]}$ se da el conjunto de puntos $\\{x_i\\}^n_{i=1}$ descrito anteriormente para dar una partición que los incluya sin afectar las longitudes de la $P$ que llamaremos **partición emparejada**:\n",
    "\n",
    "$(P,\\{x_i\\})=P\\cup\\{x_i\\}^n_{i=1}$.\n",
    "\n",
    "Con la partición emparejada $(P,\\{x_i\\})$ generamos los subintervalos $[t_{i-1},t_i]$ que servirán como base de nuestros rectángulos y damos además el punto $x_i\\in[t_{i-1},t_i)$ que servirá de altura para estos en cada subintervalo gracias a que los incluimos explícitamente en el conjunto $\\{x_i\\}^n_{i=1}$.\n",
    "\n",
    "La suma de Riemann para la función $f$ en el intervalo $[a,b]$ dada la partición emparejada $(P,\\{x_i\\})$ se denota por la siguiente expresión:\n",
    "\n",
    "$R(f,(P,\\{x_i\\}))=\\sum_{i=1}^nf(x_i)(t_i-t_{i-1})$\n",
    "\n",
    "Podemos notar que podemos mejorar la aproximación dada al área bajo la gráfica de la función reduciendo el tamaño de nuestros subintervalos generados. Dado que $P$ es arbitraria respecto a la distribución de puntos que la compone tenemos que la longitud de cada subintervalo $[t_{i-1},t_i]$ puede tomar valores distintos, por eso definimos la norma de la partición (o mesh) $||P||$ como la distancia máxima inducida por la partición $P$ en los subintervalos $[t_{i-1},t_i]$:\n",
    "\n",
    "$||P||=max\\{t_{i-1},t_i\\}_{i=1}^n$\n",
    "\n",
    "Con esto apreciamos que cuando $||P||\\rightarrow0$ se cumple $[t_{i-1},t_i]\\rightarrow0$, garantizando el punto propuesto en el párrafo anterior.\n",
    "\n",
    "La utilidad del modelo de suma de Riemann surge cuando se tiene una función cuya integral en un intervalo $[a,b]$ no tenga una expresión analítica pues simplemente debemos seguir los siguientes pasos para dar un programa que nos arroje el valor de dicha integración:\n",
    "* Considerar para correr el programa la función a evaluar y el intervalo de integración.\n",
    "* Introducir una partición homogénea con un valor $||P||$ cercano a cero (algo del tipo $||P||=\\displaystyle\\frac{b-a}{n}$ funciona), dependiendo de que tan preciso se quiera ser.\n",
    "* Proponer un valor fijo para cada $\\{x_i\\}^n_{i=1}$ en cada subintervalo, por ejemplo que sea el punto medio de cada subintervalo $\\{x_i\\}^n_{i=1}={\\displaystyle\\frac{t_i-t_{i-1}}{2}}$\n",
    "* Establecer una iteración para dar el valor de $R(f,(P,\\{x_i\\}))$ considerando:\n",
    "    * El número de subintervalos generados sabiendo que con $N$ puntos se inducen $N-1$ subintervalos.\n",
    "    * El valor de $f(x_i)$ correspondiente a cada subintervalo.\n",
    "    * Arrojar un mensaje de error en caso de tener una función indefinida en $[a,b]$ o bien que uno de los puntos de $\\{x_i\\}^n_{i=1}$ no esté definido.\n",
    "    \n",
    "Finalmente comparto la siguiente definición de integral de Riemann usando sumas de Riemann (pues también existe la construcción de integral por el método de Darboux):\n",
    "\n",
    "**Definición**: Decimos que una función $f:[a,b]\\rightarrow\\mathbb{R}$ es Riemann Integrable $(f\\in\\mathbb{R-I})$ y $\\int_a^b f(x)dx=s$ sí y sólo sí:\n",
    "\n",
    "$\\forall \\varepsilon>0\\ \\ \\exists\\ \\delta>0\\ \\ \\centerdot\\ni\\centerdot\\ \\ si\\ \\ ||P||<\\delta \\Longrightarrow|R(f,(P,\\{x_i\\}))-s|<\\varepsilon$"
   ]
  },
  {
   "cell_type": "markdown",
   "metadata": {
    "collapsed": true
   },
   "source": [
    "### Integración por Método de Trapecios"
   ]
  },
  {
   "cell_type": "markdown",
   "metadata": {},
   "source": [
    "También conocida como **\"Regla del trapecio compuesta\" o \"Regla de los Trapecios\"** es una forma de dar una estimación a la integral para una función $f$ continua y definida positiva (o negativa) en un intervalo $[a,b]$. El método consiste en aproximar la gráfica de $f$ por medio de rectas definidas por los extremos de cada subintervalo inducido dada una partición $P$ de $[a,b]$ con las cuáles se pueden formar junto con los propios subintervalos trapecios rectángulos cuya suma de áreas se acercan al área bajo la gráfica:\n",
    "\n",
    "$\\int_a^b f(x)dx=\\sum_iA_{Trapecios}$\n",
    "\n",
    "Donde el área de un trapecio se denota por la siguiente expresión:\n",
    "\n",
    "$Área=\\displaystyle\\frac{(b_1+b_2)h}{2}$\n",
    "\n",
    "Siendo $b_i\\ \\ (i=1,2)$ las bases del trapecio y $h$ la altura, para nuestro interés $b_i$ son los valores de la función evaluada en los extremos de cada subintervalo evaluados y $h$ la longitud de cada subintervalo.\n",
    "\n",
    "Para desarrollar de manera sencilla el método de trapecios damos una **partición homogénea** $P$ de $[a,b]$ tal que $||P||=\\displaystyle\\frac{b-a}{n}$ donde $n$ es el número de subintervalos a inducir deseados (tendremos una mejor aproximación si el valor de $n$ es muy grande). De aquí tendríamos haciendo $h=\\displaystyle\\frac{b-a}{2n}$:\n",
    "\n",
    "$\\int_a^b f(x)dx\\approx h[(f(a)+f(a+h))+(f(a+h)+f(a+2h))+\\ldots+(f(a+(n-2)h)+f(a+(n-1)h))+(f(a+(n-1)h)+f(b))]$\n",
    "\n",
    "Esta igualdad la cuál solo expresa la suma de áreas se puede simplificar notando que $f(a)$ y $f(b)$ se repiten una vez mientras que la función evaluada en los puntos intermedios dados por la partición aparecen dos veces cada uno, quedando:\n",
    "\n",
    "$\\int_a^b f(x)dx\\approx h[\\displaystyle\\frac{f(a)+f(b)}{2}+\\sum_{k=1}^{n-1}f(a+kh)]=\\displaystyle\\frac{b-a}{n}[\\displaystyle\\frac{f(a)+f(b)}{2}+\\sum_{k=1}^{n-1}f(a+k\\displaystyle\\frac{b-a}{n})]$\n",
    "\n",
    "Cumpliéndose que:\n",
    "\n",
    "$\\int_a^b f(x)dx=\\lim_{n\\rightarrow\\infty}\\displaystyle\\frac{b-a}{n}[\\displaystyle\\frac{f(a)+f(b)}{2}+\\sum_{k=1}^{n-1}f(a+k\\displaystyle\\frac{b-a}{n})]$\n",
    "\n",
    "Pues $f$ es integrable en [a,b]."
   ]
  },
  {
   "cell_type": "markdown",
   "metadata": {
    "collapsed": true
   },
   "source": [
    "### Integración por Método de Simpson"
   ]
  },
  {
   "cell_type": "markdown",
   "metadata": {},
   "source": [
    "Este método es parecido al Método de Trapecios, solo que en vez de aproximar por medio de polinomios de primer grado (pues las rectas se pueden expresar como funciones de este tipo en cada subintervalo generado por la partición $P$ elegida) lo hacemos por polinomios de segundo grado. Para esto ocuparemos polinomios de Lagrange que son aquellos que interpolan un conjunto de puntos dado. Este polinomio para el grado deseado es:\n",
    "\n",
    "$P_2(x)=f(a)\\displaystyle\\frac{(x-m)(x-b)}{(a-m)(a-b)}+f(m)\\displaystyle\\frac{(x-a)(x-b)}{(m-a)(m-b)}+f(b)\\displaystyle\\frac{(x-a)(x-m)}{(b-a)(b-m)}$\n",
    "\n",
    "Donde $a$ y $b$ son los extremos del intervalo donde aproximaremos y $m$ es un punto intermedio en el intervalo.\n",
    "\n",
    "Entonces se tiene usando integración por substitución:\n",
    "\n",
    "$\\int_a^b f(x)dx\\approx\\int_a^b P_2(x)=\\displaystyle\\frac{b-a}{6}[f(a)+4f(m)+f(b)]$\n",
    "\n",
    "Como en general $[a,b]$ no tiene por que tener una longitud pequeña para evitar un error considerable en la aproximación usando una partición $P$ homogénea de $[a,b]$ podremos acercarnos mejor al valor de la integral en cuestión. Sea entonces $P$ tal que $||P||=\\displaystyle\\frac{b-a}{n}$. con $i=1,2,...,n$, en el intervalo $[x_{j-1},x_{j+1}]\\in[a,b]$ con $j=1,3,5,...,n-1$ tenemos:\n",
    "\n",
    "$\\int_{x_{j-1}}^{x_{j+1}} f(x)dx\\approx\\displaystyle\\frac{x_{j+1}-x_{j-1}}{3}[f(x_{j-1})+4f(x_j)+f(x_{i+j})]$\n",
    "\n",
    "Sumando todos los intervalos $[x_{j-1},x_{j+1}]\\in[a,b]$ tendremos haciendo $h=\\displaystyle\\frac{b-a}{n}$:\n",
    "\n",
    "$\\int_a^b f(x)dx\\approx\\displaystyle\\frac{h}{3}[f(x_0)+2\\sum_{j=1}^{\\small\\displaystyle\\frac{n}{2}-1}f(x_{2j})+4\\sum_{j=1}^{\\small\\displaystyle\\frac{n}{2}}f(x_{2j-1})+f(x_n)]$"
   ]
  },
  {
   "cell_type": "markdown",
   "metadata": {},
   "source": [
    "# Tarea 6 - Sebastián Negrete Aragón - Física Computacional\n",
    "# Semestre 2017-2"
   ]
  },
  {
   "cell_type": "markdown",
   "metadata": {},
   "source": [
    "## Integración por Método de Riemann"
   ]
  },
  {
   "cell_type": "markdown",
   "metadata": {},
   "source": [
    "Implementando el proceso descrito en la parte de la Tarea 5 sobre este método:"
   ]
  },
  {
   "cell_type": "code",
   "execution_count": 65,
   "metadata": {
    "collapsed": true
   },
   "outputs": [],
   "source": [
    "using SymPy #Usaremos SymPy para esto"
   ]
  },
  {
   "cell_type": "code",
   "execution_count": 70,
   "metadata": {
    "collapsed": false
   },
   "outputs": [
    {
     "data": {
      "text/plain": [
       "integralriemann (generic function with 2 methods)"
      ]
     },
     "execution_count": 70,
     "metadata": {},
     "output_type": "execute_result"
    }
   ],
   "source": [
    "#Con este programa damos una aproximación a la integral de f(x) por Método de Riemann usando particiones homogéneas\n",
    "#Se consideran 5 parámetros para dar una mayor libertad al usuario al momento de generar el valor de la integral:\n",
    "# f -> Se da la función a integrar\n",
    "# a -> Punto inicial del intervalo de integración\n",
    "# b -> Punto final del intervalo de integración, por convención a<b\n",
    "# n -> Cantidad de subintervalos inducidos deseados del intervalo [a,b] n natural\n",
    "function integralriemann(f,a,b,n)\n",
    "    x=symbols(\"x\") #Declaramos la variable simbólica x\n",
    "    longitud=abs((b-a)/n) #La longitud de cada subintervalo dada la partición\n",
    "    g(x)=f(x) #La función f definida con la variable x\n",
    "    st=0 #Acumulador del valor de la suma del área de los rectángulos en cada subintervalo\n",
    "    for i in 1:n #Ciclo for, se detiene al completar los n subintervalos inducidos\n",
    "        punto=((2*a)+longitud)/2 #Definimos el punto a evaluar en la función, este valor (para ejemplificar tomamos el punto medio de cada subintervalo)\n",
    "        si=g(punto)*longitud #Hacemos el área del rectangulo inducido en el i-ésimo subintervalo\n",
    "        st=st+si #Acumulamos el valor en st\n",
    "        a=a+longitud #Para irnos al siguiente intervalo redefinimos el valor de a\n",
    "    end\n",
    "    return st #Muestra el valor final de la suma de Riemann finita\n",
    "end     "
   ]
  },
  {
   "cell_type": "code",
   "execution_count": 71,
   "metadata": {
    "collapsed": false
   },
   "outputs": [
    {
     "data": {
      "text/plain": [
       "f (generic function with 1 method)"
      ]
     },
     "execution_count": 71,
     "metadata": {},
     "output_type": "execute_result"
    }
   ],
   "source": [
    "f(x)=x^2 #Función prueba"
   ]
  },
  {
   "cell_type": "code",
   "execution_count": 72,
   "metadata": {
    "collapsed": false
   },
   "outputs": [
    {
     "data": {
      "text/plain": [
       "#f"
      ]
     },
     "execution_count": 72,
     "metadata": {},
     "output_type": "execute_result"
    }
   ],
   "source": [
    "typeof(ans)"
   ]
  },
  {
   "cell_type": "code",
   "execution_count": 73,
   "metadata": {
    "collapsed": false
   },
   "outputs": [
    {
     "data": {
      "text/plain": [
       "0.3333332500000003"
      ]
     },
     "execution_count": 73,
     "metadata": {},
     "output_type": "execute_result"
    }
   ],
   "source": [
    "integralriemann(f,0,1,1000) #Prueba"
   ]
  },
  {
   "cell_type": "markdown",
   "metadata": {},
   "source": [
    "## Integración por Método de Trapecios"
   ]
  },
  {
   "cell_type": "code",
   "execution_count": 76,
   "metadata": {
    "collapsed": true
   },
   "outputs": [],
   "source": [
    "using SymPy #Usaremos SymPy para esto"
   ]
  },
  {
   "cell_type": "code",
   "execution_count": 77,
   "metadata": {
    "collapsed": false
   },
   "outputs": [
    {
     "data": {
      "text/plain": [
       "integraltrapecios (generic function with 1 method)"
      ]
     },
     "execution_count": 77,
     "metadata": {},
     "output_type": "execute_result"
    }
   ],
   "source": [
    "#Con este programa damos una aproximación a la integral de f(x) por Método de Trapecios usando particiones homogéneas\n",
    "#Se consideran 5 parámetros para dar una mayor libertad al usuario al momento de generar el valor de la integral:\n",
    "# f -> Se da la función a integrar\n",
    "# a -> Punto inicial del intervalo de integración\n",
    "# b -> Punto final del intervalo de integración, por convención a<b\n",
    "# n -> Cantidad de subintervalos inducidos deseados del intervalo [a,b] n natural\n",
    "function integraltrapecios(f,a,b,n)\n",
    "    x=symbols(\"x\") #Declaramos la variable simbólica x\n",
    "    longitud=abs((b-a)/n) #La longitud de cada subintervalo dada la partición\n",
    "    g(x)=f(x) #La función f definida con la variable x\n",
    "    factor=(f(a)+f(b))/2 #Factor que se suma a la suma parcial\n",
    "    sp=0 #Acumulador representando la suma parcial\n",
    "    for i in 1:(n-1) #Ciclo for para realizar la suma parcial que tiene como límite n-1\n",
    "        argumento=a+(i*longitud) #Argumento a evaluar en f(x)\n",
    "        sp=sp+g(argumento) #Suma parcial hasta la i-ésima iteración\n",
    "    end\n",
    "    st=longitud*(factor+sp) #Suma total con todos los valores definidos\n",
    "    return st #Muestra el valor final de la iteración para trapecios\n",
    "end     "
   ]
  },
  {
   "cell_type": "code",
   "execution_count": 78,
   "metadata": {
    "collapsed": false
   },
   "outputs": [
    {
     "data": {
      "text/plain": [
       "f (generic function with 1 method)"
      ]
     },
     "execution_count": 78,
     "metadata": {},
     "output_type": "execute_result"
    }
   ],
   "source": [
    "f(x)=x^2 #Función prueba"
   ]
  },
  {
   "cell_type": "code",
   "execution_count": 79,
   "metadata": {
    "collapsed": false
   },
   "outputs": [
    {
     "data": {
      "text/plain": [
       "#f"
      ]
     },
     "execution_count": 79,
     "metadata": {},
     "output_type": "execute_result"
    }
   ],
   "source": [
    "typeof(ans)"
   ]
  },
  {
   "cell_type": "code",
   "execution_count": 81,
   "metadata": {
    "collapsed": false
   },
   "outputs": [
    {
     "data": {
      "text/plain": [
       "0.33333349999999995"
      ]
     },
     "execution_count": 81,
     "metadata": {},
     "output_type": "execute_result"
    }
   ],
   "source": [
    "integraltrapecios(f,0,1,1000) #Prueba"
   ]
  }
 ],
 "metadata": {
  "kernelspec": {
   "display_name": "Julia 0.6.0",
   "language": "julia",
   "name": "julia-0.6"
  },
  "language_info": {
   "file_extension": ".jl",
   "mimetype": "application/julia",
   "name": "julia",
   "version": "0.6.0"
  }
 },
 "nbformat": 4,
 "nbformat_minor": 2
}
