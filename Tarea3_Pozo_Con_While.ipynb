{
 "cells": [
  {
   "cell_type": "code",
   "execution_count": 1,
   "metadata": {
    "collapsed": false
   },
   "outputs": [
    {
     "data": {
      "text/plain": [
       "eigenewtonpozofinito"
      ]
     },
     "execution_count": 1,
     "metadata": {},
     "output_type": "execute_result"
    }
   ],
   "source": [
    "\"\"\"\n",
    "Funcion que calcula las energias propias de un pozo finito cuadrado usando el método de Newton resolviendo la ecuación trascendental ``(`` ``f(x)=x\\\\tan(x)-\\\\sqrt{A-x^2}=0`` ``)``, la función puede  definirse en tres entradas ``(`` ``a,b,e`` ``)``, la primera sirve para comenzar la iteración, la segunda es la constante de la ecuación y la tercera para definir un valor de error aceptable el cual en caso de no definirse queda como 0.5 por defaul.\n",
    "\"\"\"\n",
    "function eigenewtonpozofinito(a,b,e=0.5)\n",
    "    f(x)=x*tan(x)-sqrt(complex(b-x*x))\n",
    "    z=a-f(a)/tan(a)+a*sec(a)+a/sqrt(complex(b-a*a))\n",
    "    G=abs(f(z))\n",
    "    while(e<G)\n",
    "        z=z-f(z)/(tan(z)+z*sec(z)*sec(z)+z/sqrt(b-z*z))\n",
    "        G=abs(f(z))\n",
    "    end\n",
    "    return z,f(z)\n",
    "end\n",
    "    "
   ]
  },
  {
   "cell_type": "code",
   "execution_count": null,
   "metadata": {
    "collapsed": false
   },
   "outputs": [],
   "source": [
    "eigenewtonpozofinito(1,100)"
   ]
  },
  {
   "cell_type": "code",
   "execution_count": null,
   "metadata": {
    "collapsed": true
   },
   "outputs": [],
   "source": [
    "?eigenewtonpozofinito"
   ]
  },
  {
   "cell_type": "code",
   "execution_count": null,
   "metadata": {
    "collapsed": true
   },
   "outputs": [],
   "source": []
  }
 ],
 "metadata": {
  "kernelspec": {
   "display_name": "Julia 0.6.0",
   "language": "julia",
   "name": "julia-0.6"
  },
  "language_info": {
   "file_extension": ".jl",
   "mimetype": "application/julia",
   "name": "julia",
   "version": "0.6.0"
  }
 },
 "nbformat": 4,
 "nbformat_minor": 2
}
