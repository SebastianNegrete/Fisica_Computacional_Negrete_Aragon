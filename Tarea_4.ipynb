{
 "cells": [
  {
   "cell_type": "markdown",
   "metadata": {},
   "source": [
    "# Tarea 4 - Sebastián Negrete Aragón - Física Computacional\n",
    "# Semestre 2017-2"
   ]
  },
  {
   "cell_type": "markdown",
   "metadata": {},
   "source": [
    "## Convergencia de $4$ condiciones iniciales a las raiz real de $x^3 - x^2 - x - 1$ "
   ]
  },
  {
   "cell_type": "markdown",
   "metadata": {},
   "source": [
    "### Método de Newton"
   ]
  },
  {
   "cell_type": "markdown",
   "metadata": {},
   "source": [
    "El siguiente código sirve para dar aproximaciones a la raíz del polinomio $x^3 - x^2 - x - 1$ usando el método de Newton.\n",
    "Usando wolframalpha se halla que la única raíz que tiene es aproximadamente $r=1.124992$ como notaremos en la siguiente línea de código que arroja el valor de la expresión dada por el programa anteriormente mencionado:"
   ]
  },
  {
   "cell_type": "code",
   "execution_count": 70,
   "metadata": {
    "collapsed": false
   },
   "outputs": [
    {
     "data": {
      "text/plain": [
       "1.839286755214161"
      ]
     },
     "execution_count": 70,
     "metadata": {},
     "output_type": "execute_result"
    }
   ],
   "source": [
    "r=(1/3)*(1+(19-3*sqrt(33))^(1/3)+(19+3*sqrt(33))^(1/3))\n",
    "return r"
   ]
  },
  {
   "cell_type": "markdown",
   "metadata": {},
   "source": [
    "Con esto en mente propondremos un programa en Julia que realice lo mismo que hace wolframalpha tomando la expresión en general para el método de Newton y la función f(x):\n",
    "\n",
    "Si tenemos la función $f(x)=P_n(x)$ con $P_n(x)$ un polinomio de grado $n$ y tiene una raíz $s_n$ de tal forma que la raíz aproximada en la iteración $n+1$ será:\n",
    "\n",
    "$x_{n+1}=x_n-\\displaystyle\\frac{f(x)}{f'(x)}$\n",
    "\n",
    "Siendo el código propuesto el siguiente:"
   ]
  },
  {
   "cell_type": "code",
   "execution_count": 54,
   "metadata": {
    "collapsed": false
   },
   "outputs": [
    {
     "name": "stderr",
     "output_type": "stream",
     "text": [
      "\u001b[1m\u001b[36mINFO: \u001b[39m\u001b[22m\u001b[36mPackage PyPlot is already installed\n",
      "\u001b[39m\u001b[1m\u001b[36mINFO: \u001b[39m\u001b[22m\u001b[36mMETADATA is out-of-date — you may not have the latest version of PyPlot\n",
      "\u001b[39m\u001b[1m\u001b[36mINFO: \u001b[39m\u001b[22m\u001b[36mUse `Pkg.update()` to get the latest versions of your packages\n",
      "\u001b[39m"
     ]
    }
   ],
   "source": [
    "Pkg.add(\"PyPlot\")"
   ]
  },
  {
   "cell_type": "code",
   "execution_count": 26,
   "metadata": {
    "collapsed": false
   },
   "outputs": [
    {
     "data": {
      "text/plain": [
       "raizdelpolinomio (generic function with 1 method)"
      ]
     },
     "execution_count": 26,
     "metadata": {},
     "output_type": "execute_result"
    }
   ],
   "source": [
    "#Definimos la función 'raizdelpolinomio' para realizar la iteración con método de Newton que pide dos variables: 'x0' es el valor inicial de la iteración, 'j' es la cantidad de iteraciones a realizar por el ciclo for y tiene que ser un número natural\n",
    "function raizdelpolinomio(x0,j)\n",
    "    #Damos valor a r como la raíz del polinomio para evitar cargar con la expresión en todo el código\n",
    "    r=(1/3)*(1+(19-3*sqrt(33))^(1/3)+(19+3*sqrt(33))^(1/3))\n",
    "    #Procedemos a declarar la función con la haremos la iteración y corresponde a la expresión de cociente de h(x)/h'(x) descrita en el texto anterior\n",
    "    f(x)=complex((x*x*x)-(x*x)-x-1)/complex((3*x*x)-(2*x)-1)\n",
    "    #Proponemos la función 'error(x)' la cuál nos dará el error relativo asociado de nuestra medición\n",
    "    error(x)=(complex(x-r))/r\n",
    "    #Evaluamos f(x) en x0 y usamos dicho valor en la igualdad de la variable a, la cual es igual a la expresión x_n+1 enunciada anteriormente\n",
    "    a=x0-f(x0)\n",
    "    #Aqui se evalua el error relativo en x=a y se guarda dicho valor en la variable b\n",
    "    b=error(a)\n",
    "    #Damos la lista de ceros que generará nuestra iteración\n",
    "    list=zeros(Complex64,j);\n",
    "    #Aquí se corre el ciclo for de i=1 a i=j\n",
    "    for i in 1:j\n",
    "        #Redefinimos los valores de a y b\n",
    "        a=a-f(a)\n",
    "        b=error(a)\n",
    "        #Guardamos los valores iterados en la siguiente lista\n",
    "        list[i]=a\n",
    "    end\n",
    "     #Regresa la lista de ceros que generó la función\n",
    "    return list\n",
    "#Fin de la función\n",
    "end    "
   ]
  },
  {
   "cell_type": "code",
   "execution_count": 27,
   "metadata": {
    "collapsed": false
   },
   "outputs": [
    {
     "data": {
      "text/plain": [
       "20-element Array{Complex{Float32},1}:\n",
       " 1.83954-0.0im\n",
       " 1.83929-0.0im\n",
       " 1.83929-0.0im\n",
       " 1.83929-0.0im\n",
       " 1.83929-0.0im\n",
       " 1.83929-0.0im\n",
       " 1.83929-0.0im\n",
       " 1.83929-0.0im\n",
       " 1.83929-0.0im\n",
       " 1.83929-0.0im\n",
       " 1.83929-0.0im\n",
       " 1.83929-0.0im\n",
       " 1.83929-0.0im\n",
       " 1.83929-0.0im\n",
       " 1.83929-0.0im\n",
       " 1.83929-0.0im\n",
       " 1.83929-0.0im\n",
       " 1.83929-0.0im\n",
       " 1.83929-0.0im\n",
       " 1.83929-0.0im"
      ]
     },
     "execution_count": 27,
     "metadata": {},
     "output_type": "execute_result"
    }
   ],
   "source": [
    "#Prueba\n",
    "raizdelpolinomio(2,20)"
   ]
  },
  {
   "cell_type": "code",
   "execution_count": 28,
   "metadata": {
    "collapsed": true
   },
   "outputs": [],
   "source": [
    "using PyPlot"
   ]
  },
  {
   "cell_type": "code",
   "execution_count": 29,
   "metadata": {
    "collapsed": false
   },
   "outputs": [],
   "source": [
    "#Vamos a hacer nuestra aproximación usando 20 iteraciones con puntos iniciales 2, 1.5, 1.25 y 1.75 \n",
    "list1=raizdelpolinomio(2,20);\n",
    "list2=raizdelpolinomio(1.5,20);\n",
    "list3=raizdelpolinomio(1.25,20);\n",
    "list4=raizdelpolinomio(1.75,20);"
   ]
  },
  {
   "cell_type": "code",
   "execution_count": 30,
   "metadata": {
    "collapsed": false
   },
   "outputs": [
    {
     "data": {
      "image/png": "[encoded data removed]",
      "text/plain": [
       "PyPlot.Figure(PyObject <matplotlib.figure.Figure object at 0x7fda7da83190>)"
      ]
     },
     "metadata": {},
     "output_type": "display_data"
    }
   ],
   "source": [
    "title(\"Evolución Iterativa de las Raíces por Newton\")\n",
    "xlabel(\"Número de Iteraciones\")\n",
    "ylabel(\"Valor de la raíz\")\n",
    "ylim(1.5,2.25)\n",
    "scatter(1:20,list1)\n",
    "scatter(1:20,list2)\n",
    "scatter(1:20,list3)\n",
    "scatter(1:20,list4)\n",
    "show();"
   ]
  },
  {
   "cell_type": "code",
   "execution_count": 31,
   "metadata": {
    "collapsed": false
   },
   "outputs": [
    {
     "data": {
      "text/plain": [
       "errorraizdelpolinomio (generic function with 1 method)"
      ]
     },
     "execution_count": 31,
     "metadata": {},
     "output_type": "execute_result"
    }
   ],
   "source": [
    "#Definimos la función 'errorraizdelpolinomio' para realizar la iteración con método de Newton que pide dos variables: 'x0' es el valor inicial de la iteración, 'j' es la cantidad de iteraciones a realizar por el ciclo for y tiene que ser un número natural\n",
    "function errorraizdelpolinomio(x0,j)\n",
    "    #Damos valor a r como la raíz del polinomio para evitar cargar con la expresión en todo el código\n",
    "    r=(1/3)*(1+(19-3*sqrt(33))^(1/3)+(19+3*sqrt(33))^(1/3))\n",
    "    #Procedemos a declarar la función con la haremos la iteración y corresponde a la expresión de cociente de h(x)/h'(x) descrita en el texto anterior\n",
    "    f(x)=complex((x*x*x)-(x*x)-x-1)/complex((3*x*x)-(2*x)-1)\n",
    "    #Proponemos la función 'error(x)' la cuál nos dará el error relativo asociado de nuestra medición\n",
    "    error(x)=complex(x-r)/r\n",
    "    #Evaluamos f(x) en x0 y usamos dicho valor en la igualdad de la variable a, la cual es igual a la expresión x_n+1 enunciada anteriormente\n",
    "    a=x0-f(x0)\n",
    "    #Aqui se evalua el error relativo en x=a y se guarda dicho valor en la variable b\n",
    "    b=error(a)\n",
    "    #Damos la lista de error relativo asociado a los ceros que generará nuestra iteración\n",
    "    list=zeros(Complex64,j);\n",
    "    #Aquí se corre el ciclo for de i=1 a i=j\n",
    "    for i in 1:j\n",
    "        #Redefinimos los valores de a y b\n",
    "        a=a-f(a)\n",
    "        b=error(a)\n",
    "        #Guardamos los valores iterados del error en la siguiente lista\n",
    "        list[i]=b\n",
    "    end\n",
    "     #Regresa la lista de errores relativos que generó la función\n",
    "    return list\n",
    "#Fin de la función\n",
    "end "
   ]
  },
  {
   "cell_type": "code",
   "execution_count": 32,
   "metadata": {
    "collapsed": false
   },
   "outputs": [
    {
     "data": {
      "text/plain": [
       "20-element Array{Complex{Float32},1}:\n",
       "  0.00014014-0.0im\n",
       "  2.98234f-8-0.0im\n",
       " 1.44868f-15-0.0im\n",
       " 1.20723f-16-0.0im\n",
       " 1.20723f-16-0.0im\n",
       " 1.20723f-16-0.0im\n",
       " 1.20723f-16-0.0im\n",
       " 1.20723f-16-0.0im\n",
       " 1.20723f-16-0.0im\n",
       " 1.20723f-16-0.0im\n",
       " 1.20723f-16-0.0im\n",
       " 1.20723f-16-0.0im\n",
       " 1.20723f-16-0.0im\n",
       " 1.20723f-16-0.0im\n",
       " 1.20723f-16-0.0im\n",
       " 1.20723f-16-0.0im\n",
       " 1.20723f-16-0.0im\n",
       " 1.20723f-16-0.0im\n",
       " 1.20723f-16-0.0im\n",
       " 1.20723f-16-0.0im"
      ]
     },
     "execution_count": 32,
     "metadata": {},
     "output_type": "execute_result"
    }
   ],
   "source": [
    "errorraizdelpolinomio(2,20)"
   ]
  },
  {
   "cell_type": "code",
   "execution_count": 33,
   "metadata": {
    "collapsed": true
   },
   "outputs": [],
   "source": [
    "using PyPlot"
   ]
  },
  {
   "cell_type": "code",
   "execution_count": 34,
   "metadata": {
    "collapsed": true
   },
   "outputs": [],
   "source": [
    "#Vamos a hacer nuestra aproximación usando 20 iteraciones con puntos iniciales 2, 1.5, 1.25 y 1.75 \n",
    "list5=errorraizdelpolinomio(2,20);\n",
    "list6=errorraizdelpolinomio(1.5,20);\n",
    "list7=errorraizdelpolinomio(1.25,20);\n",
    "list8=errorraizdelpolinomio(1.75,20);"
   ]
  },
  {
   "cell_type": "code",
   "execution_count": 35,
   "metadata": {
    "collapsed": false
   },
   "outputs": [
    {
     "data": {
      "image/png": "[encoded data removed]",
      "text/plain": [
       "PyPlot.Figure(PyObject <matplotlib.figure.Figure object at 0x7fda7d4dc8d0>)"
      ]
     },
     "metadata": {},
     "output_type": "display_data"
    }
   ],
   "source": [
    "title(\"Evolución iterativa del error relativo por Newton\")\n",
    "xlabel(\"Número de Iteraciones\")\n",
    "ylabel(\"Error relativo\")\n",
    "ylim(-0.01,0.25)\n",
    "scatter(1:20,list5)\n",
    "scatter(1:20,list6)\n",
    "scatter(1:20,list7)\n",
    "scatter(1:20,list8)\n",
    "show();"
   ]
  },
  {
   "cell_type": "markdown",
   "metadata": {},
   "source": [
    "Notamos que los valores para el error relativo y la aproximación dada son muy cercanos a la raíz real."
   ]
  },
  {
   "cell_type": "markdown",
   "metadata": {},
   "source": [
    "### Método de bisección"
   ]
  },
  {
   "cell_type": "markdown",
   "metadata": {},
   "source": [
    "Ahora daremos un código que nos calcule las raíces del polinomio $x^3 - x^2 - x - 1$ por método de bisección puesto que dado $f(x)=x^3 - x^2 - x - 1$ sabemos que es continua en cualquier intervalo en los reales.\n",
    "\n",
    "El algoritmo a seguir una vez dado el intervalo $[a,b]$ que contenga la raíz de nuestro interés:\n",
    "* Calcular el punto medio $p$ y evaluarlo en $f$\n",
    "* Teniendo el intervalo partido en dos ahora hay que saber en cuál de los subintervalos hubo un cambio de signo pues debido al Teorema de Valor Intermedio sabremos que en ese subintervalo está la raíz. Se analiza entonces $f(a)f(p)\\ $ y $\\ f(b)f(p)$ buscando el intervalo donde no haya cambio de signo para poder redefinir el intervalo donde trabajaremos\n",
    "* Salvar el valor aproximado de la raíz $p$ en una lista para ver su evolución conforme la iteración avance\n",
    "* Realizar esto tantas veces como se haya pedido en la declaración de variables de $f$ usando una variable de control para el ciclo for\n",
    "\n",
    "He aquí dicha función."
   ]
  },
  {
   "cell_type": "code",
   "execution_count": 36,
   "metadata": {
    "collapsed": false
   },
   "outputs": [
    {
     "data": {
      "text/plain": [
       "biseccion (generic function with 1 method)"
      ]
     },
     "execution_count": 36,
     "metadata": {},
     "output_type": "execute_result"
    }
   ],
   "source": [
    "#Llamaremos a la función 'biseccion' con tres variables: a es el valor mínimo del intervalo, b es el valor máximo y j el número de iteraciones a realizar. Recordemos que el método trabaja con intervalos cerrados.\n",
    "function biseccion(a,b,j)\n",
    "    #Encontramos el punto medio en el intervalo inicial dado [a.b]\n",
    "    p=(a+b)/2\n",
    "    #Declaramos la función f(x) que es igual al polinomio en cuestión\n",
    "    f(x)=x^3-x-2-x-1\n",
    "    #Damos a conocer que enlistaremos los resultados iterativos de nuestra función\n",
    "    list=zeros(Complex64,j);\n",
    "    #Aqui está el ciclo for que rige la iteración donde construiremos los intervalos anidados para encerrar a la raíz, se detiene cuando i=j\n",
    "    for i in 1:j\n",
    "        #Primera evaluación del cambio de signo para a,p\n",
    "        if  f(a)*f(p)>0\n",
    "            #En caso de cumplirse que se  mantiene el signo se recorta el intervalo, el nuevo subintervalo tendría como valor mínimo la p estimada\n",
    "            a=p\n",
    "        end\n",
    "        #Segunda comparación del cambio de signo ahora para p,b\n",
    "        if f(b)*f(p)>0\n",
    "        #En caso de cumplirse que se  mantiene el signo se recorta el intervalo, el nuevo subintervalo tendría como valor mánimo la p estimada\n",
    "            b=p\n",
    "        end\n",
    "        #Con el nuevo intervalo definido se vuelve a estima su punto medio p\n",
    "        p=(a+b)/2\n",
    "        #Se guarda ese valor en lista y se procede a repetir el proceso tantas veces como j\n",
    "        list[i]=p\n",
    "    #Fin del ciclo for\n",
    "    end\n",
    "    #Da a conocer la lista de valores de p por cada iteración\n",
    "    return list\n",
    "#Fin del programa\n",
    "end"
   ]
  },
  {
   "cell_type": "code",
   "execution_count": 37,
   "metadata": {
    "collapsed": false
   },
   "outputs": [
    {
     "data": {
      "text/plain": [
       "20-element Array{Complex{Float32},1}:\n",
       "     1.5+0.0im\n",
       "    1.75+0.0im\n",
       "   1.875+0.0im\n",
       "  1.9375+0.0im\n",
       " 1.90625+0.0im\n",
       " 1.89063+0.0im\n",
       " 1.89844+0.0im\n",
       " 1.89453+0.0im\n",
       " 1.89258+0.0im\n",
       " 1.89355+0.0im\n",
       " 1.89307+0.0im\n",
       " 1.89331+0.0im\n",
       " 1.89319+0.0im\n",
       " 1.89325+0.0im\n",
       " 1.89328+0.0im\n",
       "  1.8933+0.0im\n",
       " 1.89329+0.0im\n",
       " 1.89329+0.0im\n",
       " 1.89329+0.0im\n",
       " 1.89329+0.0im"
      ]
     },
     "execution_count": 37,
     "metadata": {},
     "output_type": "execute_result"
    }
   ],
   "source": [
    "#Prueba\n",
    "biseccion(0,2,20)"
   ]
  },
  {
   "cell_type": "code",
   "execution_count": 38,
   "metadata": {
    "collapsed": false
   },
   "outputs": [
    {
     "data": {
      "text/plain": [
       "errorbiseccion (generic function with 1 method)"
      ]
     },
     "execution_count": 38,
     "metadata": {},
     "output_type": "execute_result"
    }
   ],
   "source": [
    "#Comparando con la funcion biseccion se tiene la misma base de código para el proceso pero arroja en la lista los errores relativos por iteración\n",
    "function errorbiseccion(a,b,j)\n",
    "    p=(a+b)/2\n",
    "    #Este es el valor de la raíz dado por wolframalpha\n",
    "    r=(1/3)*(1+(19-3*sqrt(33))^(1/3)+(19+3*sqrt(33))^(1/3))\n",
    "    f(x)=x^3-x-2-x-1\n",
    "    #Damos a conocer la función error para saber los errores relativos\n",
    "    error(x)=f(x)/r\n",
    "    list=zeros(Complex64,j);\n",
    "    for i in 1:j\n",
    "        if  f(a)*f(p)>0\n",
    "            a=p\n",
    "        end\n",
    "        \n",
    "        if f(b)*f(p)>0\n",
    "            b=p\n",
    "        end\n",
    "        p=(a+b)/2\n",
    "        #Una vez redefinida la p guardamos su evaluación en la función error(x)\n",
    "        list[i]=error(p)\n",
    "    end\n",
    "    #Arroja el valor del error en cada iteración\n",
    "    return list\n",
    "end"
   ]
  },
  {
   "cell_type": "code",
   "execution_count": 39,
   "metadata": {
    "collapsed": false
   },
   "outputs": [
    {
     "data": {
      "text/plain": [
       "20-element Array{Complex{Float32},1}:\n",
       "     -1.42718+0.0im\n",
       "    -0.620145+0.0im\n",
       "   -0.0860133+0.0im\n",
       "     0.216493+0.0im\n",
       "    0.0622037+0.0im\n",
       "   -0.0126577+0.0im\n",
       "     0.024584+0.0im\n",
       "   0.00591601+0.0im\n",
       "  -0.00338261+0.0im\n",
       "   0.00126376+0.0im\n",
       "  -0.00106016+0.0im\n",
       "  0.000101614+0.0im\n",
       " -0.000479319+0.0im\n",
       " -0.000188864+0.0im\n",
       "  -4.36279f-5+0.0im\n",
       "   2.89924f-5+0.0im\n",
       "  -7.31788f-6+0.0im\n",
       "   1.08372f-5+0.0im\n",
       "   1.75967f-6+0.0im\n",
       "  -2.77911f-6+0.0im"
      ]
     },
     "execution_count": 39,
     "metadata": {},
     "output_type": "execute_result"
    }
   ],
   "source": [
    "#Prueba\n",
    "errorbiseccion(0,2,20)"
   ]
  },
  {
   "cell_type": "markdown",
   "metadata": {},
   "source": [
    "Y a continuación las gráficas de la evolución con la iteración del valor de la raíz aproximada y su error iterando 20 veces. Los intervalos elegidos son [0,2], [1,2], [1.5,2] y [1.5,3]"
   ]
  },
  {
   "cell_type": "code",
   "execution_count": 40,
   "metadata": {
    "collapsed": true
   },
   "outputs": [],
   "source": [
    "using PyPlot"
   ]
  },
  {
   "cell_type": "code",
   "execution_count": 41,
   "metadata": {
    "collapsed": true
   },
   "outputs": [],
   "source": [
    "#Listas enumeradas del 9 al 12, para evitar redefinir listas existentes. Estas son para los valores de la raíz\n",
    "list9=biseccion(0,2,20);\n",
    "list10=biseccion(1,2,20);\n",
    "list11=biseccion(1.5,2,20);\n",
    "list12=biseccion(1.5,3,20);"
   ]
  },
  {
   "cell_type": "code",
   "execution_count": 42,
   "metadata": {
    "collapsed": false
   },
   "outputs": [
    {
     "data": {
      "image/png": "[encoded data removed]",
      "text/plain": [
       "PyPlot.Figure(PyObject <matplotlib.figure.Figure object at 0x7fda7d4700d0>)"
      ]
     },
     "metadata": {},
     "output_type": "display_data"
    }
   ],
   "source": [
    "title(\"Evolución Iterativa de las Raíces por Bisección\")\n",
    "xlabel(\"Número de Iteraciones\")\n",
    "ylabel(\"Valor de la raíz\")\n",
    "ylim(1,2.5)\n",
    "scatter(1:20,list9)\n",
    "scatter(1:20,list10)\n",
    "scatter(1:20,list11)\n",
    "scatter(1:20,list12)\n",
    "show();"
   ]
  },
  {
   "cell_type": "code",
   "execution_count": 43,
   "metadata": {
    "collapsed": true
   },
   "outputs": [],
   "source": [
    "#Listas enumeradas del 13 al 16, para evitar redefinir listas existentes. Estas son para los valores del error relativo\n",
    "list13=errorbiseccion(0,2,20);\n",
    "list14=errorbiseccion(1,2,20);\n",
    "list15=errorbiseccion(1.5,2,20);\n",
    "list16=errorbiseccion(1.5,3,20);"
   ]
  },
  {
   "cell_type": "code",
   "execution_count": 45,
   "metadata": {
    "collapsed": false
   },
   "outputs": [
    {
     "data": {
      "image/png": "[encoded data removed]",
      "text/plain": [
       "PyPlot.Figure(PyObject <matplotlib.figure.Figure object at 0x7fda7d25b6d0>)"
      ]
     },
     "metadata": {},
     "output_type": "display_data"
    }
   ],
   "source": [
    "title(\"Evolución Iterativa del Error Relativo por Bisección\")\n",
    "xlabel(\"Número de Iteraciones\")\n",
    "ylabel(\"Error Relativo\")\n",
    "ylim(-0.01,1)\n",
    "scatter(1:20,list13)\n",
    "scatter(1:20,list14)\n",
    "scatter(1:20,list15)\n",
    "scatter(1:20,list16)\n",
    "show();"
   ]
  },
  {
   "cell_type": "markdown",
   "metadata": {},
   "source": [
    "A diferencia del método de Newton, por Bisección el número de iteraciones requeridas para lograr aproximar el valor real fue alrededor de $8$ mientras que por Newton $3$."
   ]
  },
  {
   "cell_type": "markdown",
   "metadata": {},
   "source": [
    "## Método de Newton para funciones arbitrarias"
   ]
  },
  {
   "cell_type": "markdown",
   "metadata": {},
   "source": [
    "Ahora daremos un programa con el cuál podamos dar la función, su derivada y la condición inicial para obtener raíces por el método de Newton. Este programa tendrá problemas en caso de tomar intervalos que contengan más de una raíz.\n",
    "\n",
    "Comencemos agregando la paquetería \"SymPy\""
   ]
  },
  {
   "cell_type": "code",
   "execution_count": 1,
   "metadata": {
    "collapsed": false
   },
   "outputs": [
    {
     "name": "stderr",
     "output_type": "stream",
     "text": [
      "\u001b[1m\u001b[36mINFO: \u001b[39m\u001b[22m\u001b[36mPackage SymPy is already installed\n",
      "\u001b[39m\u001b[1m\u001b[36mINFO: \u001b[39m\u001b[22m\u001b[36mMETADATA is out-of-date — you may not have the latest version of SymPy\n",
      "\u001b[39m\u001b[1m\u001b[36mINFO: \u001b[39m\u001b[22m\u001b[36mUse `Pkg.update()` to get the latest versions of your packages\n",
      "\u001b[39m"
     ]
    }
   ],
   "source": [
    "Pkg.add(\"SymPy\")"
   ]
  },
  {
   "cell_type": "code",
   "execution_count": 1,
   "metadata": {
    "collapsed": false
   },
   "outputs": [],
   "source": [
    "using SymPy"
   ]
  },
  {
   "cell_type": "markdown",
   "metadata": {},
   "source": [
    "Declaramos las variable simbólica $x$"
   ]
  },
  {
   "cell_type": "code",
   "execution_count": 2,
   "metadata": {
    "collapsed": false
   },
   "outputs": [
    {
     "data": {
      "text/latex": [
       "$$x$$"
      ],
      "text/plain": [
       "x"
      ]
     },
     "execution_count": 2,
     "metadata": {},
     "output_type": "execute_result"
    }
   ],
   "source": [
    "x=symbols(\"x\")"
   ]
  },
  {
   "cell_type": "code",
   "execution_count": 3,
   "metadata": {
    "collapsed": false
   },
   "outputs": [
    {
     "data": {
      "text/plain": [
       "metodo_newton (generic function with 1 method)"
      ]
     },
     "execution_count": 3,
     "metadata": {},
     "output_type": "execute_result"
    }
   ],
   "source": [
    "#Declaramos la función metodo_newton, las variables a declarar son f,df funciones y x0 condicion inicial\n",
    "function metodo_newton(f,df,x0)\n",
    "    #Defino la función auxiliar h\n",
    "    h(x)=f(x)/df(x)\n",
    "    #Con ayuda de la función auxiliar h declaro la función n que es la que se usa para iterar por método de Newton\n",
    "    n(x)=x-h(x)\n",
    "    #Evaluo en la condición incial\n",
    "    a=n(x0)\n",
    "    #Ciclo for de 3 iteraciones (usando lo sugerido por los datos del procedimiento anterior)\n",
    "    for i in 1:200\n",
    "        #Redefine a evaluando con el valor previo de a\n",
    "        a=n(a)\n",
    "        #Fin de proceso\n",
    "    end\n",
    "    #Devolver valor calculado de a\n",
    "    return a\n",
    "#Fin de programa\n",
    "end"
   ]
  },
  {
   "cell_type": "code",
   "execution_count": 4,
   "metadata": {
    "collapsed": false
   },
   "outputs": [
    {
     "data": {
      "text/plain": [
       "#metodo_newton"
      ]
     },
     "execution_count": 4,
     "metadata": {},
     "output_type": "execute_result"
    }
   ],
   "source": [
    "typeof(metodo_newton)"
   ]
  },
  {
   "cell_type": "code",
   "execution_count": 5,
   "metadata": {
    "collapsed": false
   },
   "outputs": [
    {
     "data": {
      "text/plain": [
       "f (generic function with 1 method)"
      ]
     },
     "execution_count": 5,
     "metadata": {},
     "output_type": "execute_result"
    }
   ],
   "source": [
    "#Definimos la función\n",
    "f(x)=x^3-x^2-x-1"
   ]
  },
  {
   "cell_type": "code",
   "execution_count": 6,
   "metadata": {
    "collapsed": false
   },
   "outputs": [
    {
     "data": {
      "text/latex": [
       "$$x$$"
      ],
      "text/plain": [
       "x"
      ]
     },
     "execution_count": 6,
     "metadata": {},
     "output_type": "execute_result"
    }
   ],
   "source": [
    "#reiteramos que x es simbolo\n",
    "x=symbols(\"x\")"
   ]
  },
  {
   "cell_type": "code",
   "execution_count": 7,
   "metadata": {
    "collapsed": false
   },
   "outputs": [
    {
     "data": {
      "text/latex": [
       "$$3 x^{2} - 2 x - 1$$"
      ],
      "text/plain": [
       "   2          \n",
       "3*x  - 2*x - 1"
      ]
     },
     "execution_count": 7,
     "metadata": {},
     "output_type": "execute_result"
    }
   ],
   "source": [
    "#Damos la derivada usando la función diff(f,x)\n",
    "df=diff(f(x),x)"
   ]
  },
  {
   "cell_type": "code",
   "execution_count": 8,
   "metadata": {
    "collapsed": false
   },
   "outputs": [
    {
     "name": "stderr",
     "output_type": "stream",
     "text": [
      "WARNING: Compat.UTF8String is deprecated, use String instead.\n",
      "  likely near In[8]:2\n",
      "WARNING: Compat.UTF8String is deprecated, use String instead.\n",
      "  likely near In[8]:2\n",
      "WARNING: Compat.UTF8String is deprecated, use String instead.\n",
      "  likely near In[8]:2\n",
      "in jprint at /home/juser/.julia/v0.6/SymPy/src/display.jl\n"
     ]
    }
   ],
   "source": [
    "#La convertimos en función de Julia\n",
    "fjulia=lambdify(df,[x]);"
   ]
  },
  {
   "cell_type": "code",
   "execution_count": 9,
   "metadata": {
    "collapsed": false
   },
   "outputs": [
    {
     "data": {
      "text/plain": [
       "-1.17"
      ]
     },
     "execution_count": 9,
     "metadata": {},
     "output_type": "execute_result"
    }
   ],
   "source": [
    "#Prueba\n",
    "fjulia(0.1)"
   ]
  },
  {
   "cell_type": "code",
   "execution_count": 10,
   "metadata": {
    "collapsed": false
   },
   "outputs": [
    {
     "data": {
      "text/plain": [
       "1.8392867552141612"
      ]
     },
     "execution_count": 10,
     "metadata": {},
     "output_type": "execute_result"
    }
   ],
   "source": [
    "#Evaluamos nuestra función\n",
    "metodo_newton(f,fjulia,4)"
   ]
  },
  {
   "cell_type": "code",
   "execution_count": 11,
   "metadata": {
    "collapsed": false
   },
   "outputs": [
    {
     "data": {
      "text/plain": [
       "Float64"
      ]
     },
     "execution_count": 11,
     "metadata": {},
     "output_type": "execute_result"
    }
   ],
   "source": [
    "#Hemos garantizado que nuestra función dé un número y no un SymPy-\n",
    "typeof(ans)"
   ]
  },
  {
   "cell_type": "markdown",
   "metadata": {
    "collapsed": true
   },
   "source": [
    "#### Evaluando intervalos"
   ]
  },
  {
   "cell_type": "code",
   "execution_count": 12,
   "metadata": {
    "collapsed": false
   },
   "outputs": [
    {
     "data": {
      "text/plain": [
       "1.5:0.1111111111111111:2.5"
      ]
     },
     "execution_count": 12,
     "metadata": {},
     "output_type": "execute_result"
    }
   ],
   "source": [
    "#Damos un arreglo de puntos tipo linspace\n",
    "x0=linspace(1.5,2.5,10)"
   ]
  },
  {
   "cell_type": "code",
   "execution_count": 13,
   "metadata": {
    "collapsed": false
   },
   "outputs": [
    {
     "data": {
      "text/plain": [
       "10-element Array{Float64,1}:\n",
       " 1.83929\n",
       " 1.83929\n",
       " 1.83929\n",
       " 1.83929\n",
       " 1.83929\n",
       " 1.83929\n",
       " 1.83929\n",
       " 1.83929\n",
       " 1.83929\n",
       " 1.83929"
      ]
     },
     "execution_count": 13,
     "metadata": {},
     "output_type": "execute_result"
    }
   ],
   "source": [
    "#Evaluamos los elementos del intervalo en nuestra función\n",
    "metodo_newton.(f,fjulia,x0)"
   ]
  },
  {
   "cell_type": "code",
   "execution_count": 14,
   "metadata": {
    "collapsed": false
   },
   "outputs": [
    {
     "data": {
      "text/plain": [
       "10-element Array{Float64,1}:\n",
       " 1.83929\n",
       " 1.83929\n",
       " 1.83929\n",
       " 1.83929\n",
       " 1.83929\n",
       " 1.83929\n",
       " 1.83929\n",
       " 1.83929\n",
       " 1.83929\n",
       " 1.83929"
      ]
     },
     "execution_count": 14,
     "metadata": {},
     "output_type": "execute_result"
    }
   ],
   "source": [
    "#Hacemos una lista a partir de los valores arrojados\n",
    "list=metodo_newton.(f,fjulia,x0)"
   ]
  },
  {
   "cell_type": "code",
   "execution_count": 15,
   "metadata": {
    "collapsed": false
   },
   "outputs": [
    {
     "data": {
      "text/plain": [
       "0-element Array{Any,1}"
      ]
     },
     "execution_count": 15,
     "metadata": {},
     "output_type": "execute_result"
    }
   ],
   "source": [
    "t=[] #Declaramos el arreglo t"
   ]
  },
  {
   "cell_type": "code",
   "execution_count": 16,
   "metadata": {
    "collapsed": false
   },
   "outputs": [
    {
     "data": {
      "text/plain": [
       "10"
      ]
     },
     "execution_count": 16,
     "metadata": {},
     "output_type": "execute_result"
    }
   ],
   "source": [
    "length(list) #La función length nos ayuda a saber la cantidad de elementos en la lista definida 'list'"
   ]
  },
  {
   "cell_type": "code",
   "execution_count": 17,
   "metadata": {
    "collapsed": false
   },
   "outputs": [
    {
     "data": {
      "text/plain": [
       "revision_epsilon (generic function with 1 method)"
      ]
     },
     "execution_count": 17,
     "metadata": {},
     "output_type": "execute_result"
    }
   ],
   "source": [
    "#Declaramos la función revision_epsilon con las siguientes variables:\n",
    "#l es la lista a revisar\n",
    "#c es la longitud de dicha lista, se puede saber si aplicamos length()\n",
    "#epsilon es la vecindad alrededor de la raíz r que consideramos aceptable\n",
    "function revision_epsilon(l,c,epsilon)\n",
    "    r=(1/3)*(1+(19-3*sqrt(33))^(1/3)+(19+3*sqrt(33))^(1/3)) #El valor de la raíz según wolframalpha\n",
    "    for i in 1:c #Ciclo for, se hará hasta revisar toda la lista\n",
    "            if abs(l[i]-r)<epsilon #Condicional que se ejecuta si la diferencia entre el valor real y el aproximado en la posición i de la lista es menor que la epsilon dada a la función\n",
    "                push!(t,l[i]) #Cumple? lo agregamos a la lista\n",
    "            end \n",
    "    end\n",
    "    return t #Regresa la lista con los valores aprobados\n",
    "end"
   ]
  },
  {
   "cell_type": "code",
   "execution_count": 18,
   "metadata": {
    "collapsed": false
   },
   "outputs": [
    {
     "data": {
      "text/plain": [
       "10-element Array{Any,1}:\n",
       " 1.83929\n",
       " 1.83929\n",
       " 1.83929\n",
       " 1.83929\n",
       " 1.83929\n",
       " 1.83929\n",
       " 1.83929\n",
       " 1.83929\n",
       " 1.83929\n",
       " 1.83929"
      ]
     },
     "execution_count": 18,
     "metadata": {},
     "output_type": "execute_result"
    }
   ],
   "source": [
    "#Prueba\n",
    "revision_epsilon(list,10,1)"
   ]
  },
  {
   "cell_type": "markdown",
   "metadata": {
    "collapsed": true
   },
   "source": [
    "Ahora hagamos esto pero con una función que solo necesite la función a evaluar más la condición inicial"
   ]
  },
  {
   "cell_type": "code",
   "execution_count": 24,
   "metadata": {
    "collapsed": false
   },
   "outputs": [
    {
     "data": {
      "text/plain": [
       "metodo_newton_funcion (generic function with 1 method)"
      ]
     },
     "execution_count": 24,
     "metadata": {},
     "output_type": "execute_result"
    }
   ],
   "source": [
    "#Declaramos la función metodo_newton, las variables a declarar son f,df funciones y x0 condicion inicial\n",
    "function metodo_newton_funcion(f,x0)\n",
    "    #Usando SymPy\n",
    "    x=symbols(\"x\")\n",
    "    df=diff(f(x),x)\n",
    "    #Conversion a Julia\n",
    "    fjulia=lambdify(df,[x]);\n",
    "    #---Proceso anterior\n",
    "    #Defino la función auxiliar h\n",
    "    h(x)=f(x)/fjulia(x)\n",
    "    #Con ayuda de la función auxiliar h declaro la función n que es la que se usa para iterar por método de Newton\n",
    "    n(x)=x-h(x)\n",
    "    #Evaluo en la condición incial\n",
    "    a=n(x0)\n",
    "    #Ciclo for de 3 iteraciones (usando lo sugerido por los datos del procedimiento anterior)\n",
    "    for i in 1:200\n",
    "        #Redefine a evaluando con el valor previo de a\n",
    "        a=n(a)\n",
    "        #Fin de proceso\n",
    "    end\n",
    "    #Devolver valor calculado de a\n",
    "    return a\n",
    "#Fin de programa\n",
    "end"
   ]
  },
  {
   "cell_type": "code",
   "execution_count": 25,
   "metadata": {
    "collapsed": false
   },
   "outputs": [
    {
     "data": {
      "text/plain": [
       "f (generic function with 1 method)"
      ]
     },
     "execution_count": 25,
     "metadata": {},
     "output_type": "execute_result"
    }
   ],
   "source": [
    "f(x)=x^3-x^2-x-1"
   ]
  },
  {
   "cell_type": "code",
   "execution_count": 27,
   "metadata": {
    "collapsed": false
   },
   "outputs": [
    {
     "data": {
      "text/plain": [
       "1.8392867552141612"
      ]
     },
     "execution_count": 27,
     "metadata": {},
     "output_type": "execute_result"
    }
   ],
   "source": [
    "#prueba\n",
    "metodo_newton_funcion(f,2)"
   ]
  },
  {
   "cell_type": "markdown",
   "metadata": {},
   "source": [
    "FIN"
   ]
  }
 ],
 "metadata": {
  "kernelspec": {
   "display_name": "Julia 0.6.0",
   "language": "julia",
   "name": "julia-0.6"
  },
  "language_info": {
   "file_extension": ".jl",
   "mimetype": "application/julia",
   "name": "julia",
   "version": "0.6.0"
  }
 },
 "nbformat": 4,
 "nbformat_minor": 2
}
