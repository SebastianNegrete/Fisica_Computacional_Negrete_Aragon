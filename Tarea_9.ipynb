{
 "cells": [
  {
   "cell_type": "markdown",
   "metadata": {},
   "source": [
    "# Tarea 9 - Sebastián Negrete Aragón - Física Computacional\n",
    "# Semestre 2017-2"
   ]
  },
  {
   "cell_type": "markdown",
   "metadata": {},
   "source": [
    "## Ejercicio 2"
   ]
  },
  {
   "cell_type": "markdown",
   "metadata": {},
   "source": [
    "Utiliza tu función `derivadaNumerica` para calcular la derivada de la función $\\cos$ en un punto $x_0\\in[0,1)$. Compara tu resultado con el que indica el cálculo exacto. Utiliza valores de $h$ cada vez más pequeños, grafica el comportamiento de la derivada y muestra como converge al valor exacto conforme tomamos $h$'s cada vez más pequeño. Para ello pueden graficar el resultado de la derivada numérica contra $1/h$. Observa el resultado de la aproximación y comenta. ¿El error es del orden de $h$?, para ver esto grafica el error relativo a $f'(x_0)$:\n",
    "$$\\epsilon=\\frac{\\Delta f(x_0,h)/h-f'(x_0)}{f'(x_0)},$$\n",
    "respecto a $h$."
   ]
  },
  {
   "cell_type": "markdown",
   "metadata": {},
   "source": [
    "Ocupo la función $derivadaNumerica(f,x_0,h_0)$ del ejercicio $1$"
   ]
  },
  {
   "cell_type": "code",
   "execution_count": 1,
   "metadata": {
    "collapsed": false
   },
   "outputs": [
    {
     "data": {
      "text/plain": [
       "derivadaNumerica (generic function with 1 method)"
      ]
     },
     "execution_count": 1,
     "metadata": {},
     "output_type": "execute_result"
    }
   ],
   "source": [
    "#Defino la función derivadaNumerica con la cual dada la función f, el punto x0 y una lista de incrementos h0 se puede dar una aproximación al valor de la derivada.\n",
    "#Esta función la defino para recibir arreglos e intervalos para así poder usarla en el ejercicio 2\n",
    "function derivadaNumerica(f,x0,h0)\n",
    "    #Defino la variable longitud que me da la cantidad de elementos del arreglo h0\n",
    "    longitud=length(h0)\n",
    "    #Propongo un arreglo en el cuál iré guardando las aproximaciones de la derivada dados distintos valores del arreglo h0\n",
    "    arreglo=[]\n",
    "    #Hago la función g(x) a partir de f\n",
    "    g(x)=f(x)\n",
    "    #Doy la función d(h) la cuál es simplemente la fórmula de derivada de Newton sin el límite\n",
    "    d(h)=(g(x0+h)-g(x0))/h\n",
    "    for i in 1:longitud #Ciclo for que aplica la función d(h) a los elementos de la lista\n",
    "        dif=d(h0[i]) #Variable dif que almacena el valor de la función d(h) aplicada al i-ésimo elemento del arreglo h0\n",
    "        push!(arreglo,dif) #Guardamos el valor de dif en el arreglo declarado anteriormente\n",
    "    end\n",
    "    #Doy como resultado el arreglo con todas las aproximaciones\n",
    "    return arreglo\n",
    "end"
   ]
  },
  {
   "cell_type": "code",
   "execution_count": 2,
   "metadata": {
    "collapsed": false
   },
   "outputs": [
    {
     "data": {
      "text/plain": [
       "t (generic function with 1 method)"
      ]
     },
     "execution_count": 2,
     "metadata": {},
     "output_type": "execute_result"
    }
   ],
   "source": [
    "#Propongo la función cos.(x) para que acepte la evaluación del arreglo\n",
    "t(x)=cos.(x)"
   ]
  },
  {
   "cell_type": "code",
   "execution_count": 3,
   "metadata": {
    "collapsed": false
   },
   "outputs": [
    {
     "data": {
      "text/plain": [
       "1.0:10.1010101010101:1001.0"
      ]
     },
     "execution_count": 3,
     "metadata": {},
     "output_type": "execute_result"
    }
   ],
   "source": [
    "#Doy un arreglo a partir de un linspace partiendo el intervalo [1,100001] 100 veces (tendremos 100 valores)\n",
    "l=linspace(1,1001,100)"
   ]
  },
  {
   "cell_type": "code",
   "execution_count": 4,
   "metadata": {
    "collapsed": false
   },
   "outputs": [
    {
     "data": {
      "text/plain": [
       "k (generic function with 1 method)"
      ]
     },
     "execution_count": 4,
     "metadata": {},
     "output_type": "execute_result"
    }
   ],
   "source": [
    "#Defino la función k(x)=1/x\n",
    "k(x)=1/x"
   ]
  },
  {
   "cell_type": "code",
   "execution_count": 5,
   "metadata": {
    "collapsed": false
   },
   "outputs": [
    {
     "data": {
      "text/plain": [
       "0-element Array{Any,1}"
      ]
     },
     "execution_count": 5,
     "metadata": {},
     "output_type": "execute_result"
    }
   ],
   "source": [
    "#Declaro el arreglo 'lista'\n",
    "lista=[]"
   ]
  },
  {
   "cell_type": "code",
   "execution_count": 6,
   "metadata": {
    "collapsed": false
   },
   "outputs": [
    {
     "data": {
      "text/plain": [
       "100-element Array{Float64,1}:\n",
       " 1.0        \n",
       " 0.0900819  \n",
       " 0.0471653  \n",
       " 0.0319458  \n",
       " 0.0241522  \n",
       " 0.0194156  \n",
       " 0.0162322  \n",
       " 0.0139456  \n",
       " 0.0122237  \n",
       " 0.0108803  \n",
       " 0.00980295 \n",
       " 0.00891972 \n",
       " 0.00818249 \n",
       " ⋮          \n",
       " 0.00112374 \n",
       " 0.00111112 \n",
       " 0.00109879 \n",
       " 0.00108673 \n",
       " 0.00107493 \n",
       " 0.00106338 \n",
       " 0.00105208 \n",
       " 0.00104102 \n",
       " 0.00103019 \n",
       " 0.00101958 \n",
       " 0.00100918 \n",
       " 0.000999001"
      ]
     },
     "execution_count": 6,
     "metadata": {},
     "output_type": "execute_result"
    }
   ],
   "source": [
    "#Usando el arreglo 'lista' guardo los valores del arreglo l. Esto debido a que quiero ir evaluando valores de h que tiendan a cero, lo cual notaremos en la lista, tendremos un arreglo 'lista' con valores decrecientes que cumplen lo anterior.\n",
    "lista=k(l)"
   ]
  },
  {
   "cell_type": "code",
   "execution_count": 7,
   "metadata": {
    "collapsed": false
   },
   "outputs": [
    {
     "data": {
      "text/plain": [
       "100-element Array{Any,1}:\n",
       " -0.541408\n",
       " -0.144484\n",
       " -0.123257\n",
       " -0.115708\n",
       " -0.111839\n",
       " -0.109486\n",
       " -0.107904\n",
       " -0.106768\n",
       " -0.105912\n",
       " -0.105244\n",
       " -0.104709\n",
       " -0.10427 \n",
       " -0.103903\n",
       "  ⋮       \n",
       " -0.100392\n",
       " -0.100386\n",
       " -0.10038 \n",
       " -0.100374\n",
       " -0.100368\n",
       " -0.100362\n",
       " -0.100357\n",
       " -0.100351\n",
       " -0.100346\n",
       " -0.100341\n",
       " -0.100335\n",
       " -0.10033 "
      ]
     },
     "execution_count": 7,
     "metadata": {},
     "output_type": "execute_result"
    }
   ],
   "source": [
    "#Evaluo la función derivadaNumerica con la función t(x)=cos.(x), el punto x0=0 y con una lista h0=lista\n",
    "d=derivadaNumerica(t,0.1,lista)"
   ]
  },
  {
   "cell_type": "markdown",
   "metadata": {},
   "source": [
    "Esta parte de aquí es para poder graficar el valor de la derivada del $cos(x)$ en $0.1$ que es $-sin(0.1)=-0.09983341664\\ldots$"
   ]
  },
  {
   "cell_type": "code",
   "execution_count": 8,
   "metadata": {
    "collapsed": false
   },
   "outputs": [
    {
     "data": {
      "text/plain": [
       "vds (generic function with 1 method)"
      ]
     },
     "execution_count": 8,
     "metadata": {},
     "output_type": "execute_result"
    }
   ],
   "source": [
    "vds(x)=x*0-0.09983341664 #Función que a todo valor lo multiplica por cero y suma una constante, en este caso el valor de la derivada en 0.1"
   ]
  },
  {
   "cell_type": "code",
   "execution_count": 9,
   "metadata": {
    "collapsed": false
   },
   "outputs": [
    {
     "data": {
      "text/plain": [
       "0-element Array{Any,1}"
      ]
     },
     "execution_count": 9,
     "metadata": {},
     "output_type": "execute_result"
    }
   ],
   "source": [
    "valorreal=[] #Arreglo para graficar"
   ]
  },
  {
   "cell_type": "code",
   "execution_count": 10,
   "metadata": {
    "collapsed": false
   },
   "outputs": [
    {
     "data": {
      "text/plain": [
       "-0.09983341664:0.0:-0.09983341664"
      ]
     },
     "execution_count": 10,
     "metadata": {},
     "output_type": "execute_result"
    }
   ],
   "source": [
    "valorreal=vds(l) #Arreglo lleno de ceros (tantos como el linspace que tomé)"
   ]
  },
  {
   "cell_type": "markdown",
   "metadata": {},
   "source": [
    "A continuación la gráfica que compara 1/h (los valores del $linspace$ sin aplicar su inversa) contra los valores arrojados por la función $derivacionNumerica$ para la función $cos(x)$ en $0.1$"
   ]
  },
  {
   "cell_type": "code",
   "execution_count": 11,
   "metadata": {
    "collapsed": true
   },
   "outputs": [],
   "source": [
    "using PyPlot #Invocamos a PyPlot"
   ]
  },
  {
   "cell_type": "code",
   "execution_count": 12,
   "metadata": {
    "collapsed": false,
    "scrolled": true
   },
   "outputs": [
    {
     "data": {
      "image/png": "[encoded data removed]",
      "text/plain": [
       "PyPlot.Figure(PyObject <matplotlib.figure.Figure object at 0x7f585f0261d0>)"
      ]
     },
     "metadata": {},
     "output_type": "display_data"
    },
    {
     "data": {
      "text/plain": [
       "1-element Array{Any,1}:\n",
       " PyObject <matplotlib.lines.Line2D object at 0x7f5880c47e90>"
      ]
     },
     "execution_count": 12,
     "metadata": {},
     "output_type": "execute_result"
    }
   ],
   "source": [
    "#De azul va la gráfica de los valores dados por la derivación numérica contra las h tomadas\n",
    "#De naranja el valor de la derivada del cos(x) en 0 que es 0\n",
    "xlabel(L\"$1/h$\")\n",
    "ylabel(L\"$f'(0)$\")\n",
    "plot(l,abs.(d))\n",
    "plot(l,abs.(valorreal))"
   ]
  },
  {
   "cell_type": "markdown",
   "metadata": {},
   "source": [
    "__Nota: Para poder obtener el valor del error $\\epsilon=\\left|\\frac{\\Delta f(x_0,h)/h-f'(x_0)}{f'(x_0)}\\right|,$ dado que $\\Delta f(x_0,h)/h$ no es más que la función _derivadaNumerica_ y este código acepta cualquier función $f$ con derivada definida para generar el código del error epsilon es necesario que éste pueda calcular el valor de $f'$ por lo que ocupo SymPy forzosamente.__"
   ]
  },
  {
   "cell_type": "code",
   "execution_count": 13,
   "metadata": {
    "collapsed": true
   },
   "outputs": [],
   "source": [
    "using SymPy"
   ]
  },
  {
   "cell_type": "code",
   "execution_count": 14,
   "metadata": {
    "collapsed": false
   },
   "outputs": [
    {
     "data": {
      "text/plain": [
       "errorepsilon (generic function with 1 method)"
      ]
     },
     "execution_count": 14,
     "metadata": {},
     "output_type": "execute_result"
    }
   ],
   "source": [
    "#Función que arroja los valores del error epsilón asociado a nuestra aproximación. Requiere una función f, el punto x0 de la aproximación y el valor del incremento h0.\n",
    "function errorepsilon(f,x0,h0)\n",
    "    #Defino la variable longitud que me da la cantidad de elementos del arreglo h0\n",
    "    longitud=length(h0)\n",
    "    #Doy la función d(h) la cuál es la misma usada en la funcion derivadaNumerica\n",
    "    d(h)=(g(x0+h)-g(x0))/h\n",
    "    ### Aqui es donde aplico SymPy pues este programa debe funcionar para cualquier f que yo quiera, calculo la derivada de la función introducida\n",
    "    ### Variable simbólica x\n",
    "    x = Sym(\"x\")\n",
    "    ### Función con variable x\n",
    "    g = f(x)\n",
    "    ### Aplico la diferenciación a g(x)\n",
    "    dg = diff(g(x))\n",
    "    ### La vuelvo una función de Julia\n",
    "    df = lambdify(dg,[x]) \n",
    "    ###Dejo de usar SymPy\n",
    "    #Aquí está el arreglo donde guardaré los valores del error\n",
    "    listaerror=[]\n",
    "    for i in 1:longitud #Ciclo for que calculará el valor epsilon a cada valor de la lista introducida\n",
    "        epsilon=(d(h0[i])-df(x0))/df(x0) #Formula del error epsilon\n",
    "        push!(listaerror,epsilon) #Guardo el valor de dicha epsilon en mi arreglo\n",
    "    #Fin de iteración\n",
    "    end\n",
    "    #Como resultado arrojo la listaerror\n",
    "    return listaerror\n",
    "#Fin\n",
    "end"
   ]
  },
  {
   "cell_type": "code",
   "execution_count": 15,
   "metadata": {
    "collapsed": false
   },
   "outputs": [
    {
     "name": "stderr",
     "output_type": "stream",
     "text": [
      "WARNING: Compat.UTF8String is deprecated, use String instead.\n",
      "  likely near In[15]:2\n",
      "WARNING: Compat.UTF8String is deprecated, use String instead.\n",
      "  likely near In[15]:2\n",
      "WARNING: Compat.UTF8String is deprecated, use String instead.\n",
      "  likely near In[15]:2\n",
      "in jprint at /home/juser/.julia/v0.6/SymPy/src/display.jl\n"
     ]
    },
    {
     "data": {
      "text/plain": [
       "100-element Array{Any,1}:\n",
       "    4.42311444441233\n",
       "   0.447251705273009\n",
       "   0.234625682348977\n",
       "   0.159012541196940\n",
       "   0.120255285946336\n",
       "  0.0966881840235135\n",
       "  0.0808444399654365\n",
       "  0.0694620091347586\n",
       "  0.0608891302533036\n",
       "  0.0541998579921000\n",
       "  0.0488348549597492\n",
       "  0.0444362963475309\n",
       "  0.0407646198564611\n",
       "                   ⋮\n",
       " 0.00559972650503747\n",
       " 0.00553688048838865\n",
       " 0.00547542946285136\n",
       " 0.00541532749369614\n",
       " 0.00535653063581970\n",
       " 0.00529899683744296\n",
       " 0.00524268583150908\n",
       " 0.00518755904342831\n",
       " 0.00513357950874315\n",
       " 0.00508071178047389\n",
       " 0.00502892185881078\n",
       " 0.00497817711971926"
      ]
     },
     "execution_count": 15,
     "metadata": {},
     "output_type": "execute_result"
    }
   ],
   "source": [
    "#Prueba\n",
    "error=errorepsilon(t,0.1,lista)"
   ]
  },
  {
   "cell_type": "code",
   "execution_count": 16,
   "metadata": {
    "collapsed": true
   },
   "outputs": [],
   "source": [
    "#Para graficar usamos PyPlot\n",
    "using PyPlot"
   ]
  },
  {
   "cell_type": "markdown",
   "metadata": {},
   "source": [
    "Para graficar el valor cero en mi gráfica realizo lo siguiente:"
   ]
  },
  {
   "cell_type": "code",
   "execution_count": 17,
   "metadata": {
    "collapsed": false
   },
   "outputs": [
    {
     "data": {
      "text/plain": [
       "cero (generic function with 1 method)"
      ]
     },
     "execution_count": 17,
     "metadata": {},
     "output_type": "execute_result"
    }
   ],
   "source": [
    "cero(x)=x*0 #Función que a todo valor lo multiplica por cero"
   ]
  },
  {
   "cell_type": "code",
   "execution_count": 18,
   "metadata": {
    "collapsed": false
   },
   "outputs": [
    {
     "data": {
      "text/plain": [
       "0-element Array{Any,1}"
      ]
     },
     "execution_count": 18,
     "metadata": {},
     "output_type": "execute_result"
    }
   ],
   "source": [
    "zero=[] #Arreglo que guardará tantos ceros como sean evaluados en mi función cero(x)"
   ]
  },
  {
   "cell_type": "code",
   "execution_count": 19,
   "metadata": {
    "collapsed": false
   },
   "outputs": [
    {
     "data": {
      "text/plain": [
       "0.0:0.0:0.0"
      ]
     },
     "execution_count": 19,
     "metadata": {},
     "output_type": "execute_result"
    }
   ],
   "source": [
    "zero=cero(l)"
   ]
  },
  {
   "cell_type": "code",
   "execution_count": 20,
   "metadata": {
    "collapsed": false
   },
   "outputs": [
    {
     "data": {
      "image/png": "[encoded data removed]",
      "text/plain": [
       "PyPlot.Figure(PyObject <matplotlib.figure.Figure object at 0x7f585bf26550>)"
      ]
     },
     "metadata": {},
     "output_type": "display_data"
    },
    {
     "data": {
      "text/plain": [
       "1-element Array{Any,1}:\n",
       " PyObject <matplotlib.lines.Line2D object at 0x7f585be0f050>"
      ]
     },
     "execution_count": 20,
     "metadata": {},
     "output_type": "execute_result"
    }
   ],
   "source": [
    "#De azul va la gráfica de los valores del error epsilon\n",
    "#De naranja la constante cero el cual es el valor al que se debería aproximar mi error cuando 1/h aumente\n",
    "xlabel(L\"$1/h$\")\n",
    "ylabel(L\"$\\epsilon$\")\n",
    "plot(l,error);\n",
    "plot(l,zero)"
   ]
  },
  {
   "cell_type": "markdown",
   "metadata": {},
   "source": [
    "## Ejercicio 3"
   ]
  },
  {
   "cell_type": "markdown",
   "metadata": {},
   "source": [
    "Teniendo en mente la serie de Taylor para $f(x+h)$ ¿existe alguna forma de mejorar el cálculo de la derivada numérica? Comenta.\n",
    "\n",
    "__Tip:__ ¿Que pasa con los términos pares de la serie cuando la calculamos para $f(x-h)$?, ¿Como podemos despejar la derivada exacta de $f$ combinando ambas series?"
   ]
  },
  {
   "cell_type": "markdown",
   "metadata": {},
   "source": [
    "Para mejorar el cálculo de la derivada debemos hacer que nuestro error vaya del orden de $h^2$. Para esto consideremos la expresión para la serie de Taylor de $f(x+h)$:\n",
    "$$f(x+h)=f{\\left (x \\right )} + h \\left. \\frac{d}{d \\xi} f{\\left (\\xi \\right )} \\right|_{\\substack{ \\xi=x }} + \\frac{h^{2}}{2} \\left. \\frac{d^{2}}{d \\xi^{2}}  f{\\left (\\xi \\right )} \\right|_{\\substack{ \\xi=x }} + \\frac{h^{3}}{6} \\left. \\frac{d^{3}}{d \\xi^{3}}  f{\\left (\\xi \\right )} \\right|_{\\substack{ \\xi=x }} + \\mathcal{O}\\left(h^{4}\\right)$$\n",
    "En el caso $f(x-h)$ dicha expresión es:\n",
    "$$f(x-h)=f{\\left (x \\right )} - h \\left. \\frac{d}{d \\xi} f{\\left (\\xi \\right )} \\right|_{\\substack{ \\xi=x }} + \\frac{h^{2}}{2} \\left. \\frac{d^{2}}{d \\xi^{2}}  f{\\left (\\xi \\right )} \\right|_{\\substack{ \\xi=x }} - \\frac{h^{3}}{6} \\left. \\frac{d^{3}}{d \\xi^{3}}  f{\\left (\\xi \\right )} \\right|_{\\substack{ \\xi=x }} + \\mathcal{O}\\left(h^{4}\\right)$$\n",
    "Restandole la segunda expresión a la primera se obtiene:\n",
    "$$f(x+h)-f(x-h)=2hf'(x) + \\frac{h^{3}}{3} \\left. \\frac{d^{3}}{d \\xi^{3}}  f{\\left (\\xi \\right )} \\right|_{\\substack{ \\xi=x }} + \\mathcal{O}\\left(h^{5}\\right)$$\n",
    "Dividiendo toda la expresión entre $2h$ notamos que reducimos un grado al exponente de las $h$ teniendo un error de orden $4$:\n",
    "$$\\frac{f(x+h)-f(x-h)}{2h}=f'(x) + \\frac{h^{2}}{6} \\left. \\frac{d^{3}}{d \\xi^{3}}  f{\\left (\\xi \\right )} \\right|_{\\substack{ \\xi=x }} + \\mathcal{O}\\left(h^{4}\\right)$$\n",
    "De aquí:\n",
    "$$\\mathcal{O}\\left(h^{2}\\right)=\\frac{f(x+h)-f(x-h)}{2h}-f'(x)$$\n",
    "Si definimos la _derivada numérica simétrica (la derivada hacia adelante menos la derivada hacia atrás)_ con lo hecho probamos que el orden es de $h^2$ y por ende tendremos una mejoría de nuestro cálculo usándola. Esto se debe a que considera la vecindad total alrededor del punto donde estimo (dos direcciones) y no solo la parcialidad por un extremo (una dirección)."
   ]
  },
  {
   "cell_type": "markdown",
   "metadata": {},
   "source": [
    "## Ejercicio 4"
   ]
  },
  {
   "cell_type": "markdown",
   "metadata": {},
   "source": [
    "Implementa la _derivada simétrica_ en `Julia` como `derivada_Simetrica` y repite la comparativa que realizaste en el __ejercicio 2__."
   ]
  },
  {
   "cell_type": "code",
   "execution_count": 21,
   "metadata": {
    "collapsed": false
   },
   "outputs": [
    {
     "data": {
      "text/plain": [
       "derivadaSimetrica (generic function with 1 method)"
      ]
     },
     "execution_count": 21,
     "metadata": {},
     "output_type": "execute_result"
    }
   ],
   "source": [
    "#Defino la función derivadaSimetrica (usando exactamente el mismo codigo que para la derivadaNumerica) con la cual dada la función f, el punto x0 y una lista de incrementos h0 se puede dar una aproximación al valor de la derivada.\n",
    "#Esta función la defino para recibir arreglos e intervalos para así poder usarla en el ejercicio 2\n",
    "function derivadaSimetrica(f,x0,h0)\n",
    "    #Defino la variable longitud que me da la cantidad de elementos del arreglo h0\n",
    "    longitud=length(h0)\n",
    "    #Propongo un arreglo en el cuál iré guardando las aproximaciones de la derivada dados distintos valores del arreglo h0\n",
    "    arreglo=[]\n",
    "    #Hago la función g(x) a partir de f\n",
    "    g(x)=f(x)\n",
    "    ### Aquí en vez del término \"g(x0)\" se pone el término \"g(x0-h)\" apelando al ejercicio 3, se divide entre \"(2*h)\" en vez de \"h\"\n",
    "    ds(h)=(g(x0+h)-g(x0-h))/(2*h)\n",
    "    for i in 1:longitud #Ciclo for que aplica la función d(h) a los elementos de la lista\n",
    "        dif=ds(h0[i]) #Variable dif que almacena el valor de la función d(h) aplicada al i-ésimo elemento del arreglo h0\n",
    "        push!(arreglo,dif) #Guardamos el valor de dif en el arreglo declarado anteriormente\n",
    "    end\n",
    "    #Doy como resultado el arreglo con todas las aproximaciones\n",
    "    return arreglo\n",
    "end"
   ]
  },
  {
   "cell_type": "code",
   "execution_count": 22,
   "metadata": {
    "collapsed": false
   },
   "outputs": [
    {
     "data": {
      "text/plain": [
       "100-element Array{Any,1}:\n",
       " -0.0840069\n",
       " -0.0996985\n",
       " -0.0997964\n",
       " -0.0998164\n",
       " -0.0998237\n",
       " -0.0998271\n",
       " -0.099829 \n",
       " -0.0998302\n",
       " -0.0998309\n",
       " -0.0998314\n",
       " -0.0998318\n",
       " -0.0998321\n",
       " -0.0998323\n",
       "  ⋮        \n",
       " -0.0998334\n",
       " -0.0998334\n",
       " -0.0998334\n",
       " -0.0998334\n",
       " -0.0998334\n",
       " -0.0998334\n",
       " -0.0998334\n",
       " -0.0998334\n",
       " -0.0998334\n",
       " -0.0998334\n",
       " -0.0998334\n",
       " -0.0998334"
      ]
     },
     "execution_count": 22,
     "metadata": {},
     "output_type": "execute_result"
    }
   ],
   "source": [
    "#Prueba usando la lista del ejercicio 2, como función cos(x) y evaluando en el punto 0.1\n",
    "derivsim=derivadaSimetrica(t,0.1,lista)"
   ]
  },
  {
   "cell_type": "markdown",
   "metadata": {},
   "source": [
    "La derivada de $cos(x)$ es $-sin(x)$ la cuál evaluada en $0.1$ resulta igual a $-0.09983341664\\ldots$"
   ]
  },
  {
   "cell_type": "markdown",
   "metadata": {},
   "source": [
    "A continuación la gráfica que compara 1/h (los valores del $linspace$ sin aplicar su inversa) contra los valores arrojados por la función $derivacionSimetrica$ para la función $cos(x)$ en $0.1$, usando el arreglo valorreal calculado en el ejercicio $2$."
   ]
  },
  {
   "cell_type": "code",
   "execution_count": 23,
   "metadata": {
    "collapsed": true
   },
   "outputs": [],
   "source": [
    "#Para graficar usamos PyPlot\n",
    "using PyPlot"
   ]
  },
  {
   "cell_type": "code",
   "execution_count": 24,
   "metadata": {
    "collapsed": false
   },
   "outputs": [
    {
     "data": {
      "image/png": "[encoded data removed]",
      "text/plain": [
       "PyPlot.Figure(PyObject <matplotlib.figure.Figure object at 0x7f585bc241d0>)"
      ]
     },
     "metadata": {},
     "output_type": "display_data"
    },
    {
     "data": {
      "text/plain": [
       "1-element Array{Any,1}:\n",
       " PyObject <matplotlib.lines.Line2D object at 0x7f585bae4fd0>"
      ]
     },
     "execution_count": 24,
     "metadata": {},
     "output_type": "execute_result"
    }
   ],
   "source": [
    "#De azul va la gráfica de los valores dados por la derivación simétrica contra las h tomadas\n",
    "#De naranja el valor de la derivada del cos(x) en 0.1 que es aproximadamente 0.09983341664\n",
    "xlabel(L\"$1/h$\")\n",
    "ylabel(L\"$f'(0)$\")\n",
    "plot(l,abs.(derivsim))\n",
    "plot(l,abs.(valorreal))"
   ]
  },
  {
   "cell_type": "markdown",
   "metadata": {},
   "source": [
    "Notamos que la derivada simétrica converge muy rápido al valor de la derivada (casi lineal con pendiente muy grande en valor) y de hecho mucho más rápido que la derivada numérica del ejercicio 2.\n",
    "Ahora para el error epsilon adecuamos la función anterior para que concuerde con la definición de la derivada simétrica reiterando que en el ejercicio 2 establecí el motivo de usar SymPy."
   ]
  },
  {
   "cell_type": "code",
   "execution_count": 25,
   "metadata": {
    "collapsed": true
   },
   "outputs": [],
   "source": [
    "using SymPy"
   ]
  },
  {
   "cell_type": "code",
   "execution_count": 26,
   "metadata": {
    "collapsed": false
   },
   "outputs": [
    {
     "data": {
      "text/plain": [
       "errorepsilonsim (generic function with 1 method)"
      ]
     },
     "execution_count": 26,
     "metadata": {},
     "output_type": "execute_result"
    }
   ],
   "source": [
    "#Función que arroja los valores del error epsilón asociado a nuestra aproximación. Requiere una función f, el punto x0 de la aproximación y el valor del incremento h0. ###Adecuada a la derivación simétrica\n",
    "function errorepsilonsim(f,x0,h0)\n",
    "    #Defino la variable longitud que me da la cantidad de elementos del arreglo h0\n",
    "    longitud=length(h0)\n",
    "    #Doy la función d(h) la cuál es la misma usada en la funcion derivadaSimetrica\n",
    "    ####Este es el unico cambio en el código respecto a la función errorepsilon\n",
    "    d(h)=(g(x0+h)-g(x0-h))/(2*h)\n",
    "    ### Aqui es donde aplico SymPy pues este programa debe funcionar para cualquier f que yo quiera, calculo la derivada de la función introducida\n",
    "    ### Variable simbólica x\n",
    "    x = Sym(\"x\")\n",
    "    ### Función con variable x\n",
    "    g = f(x)\n",
    "    ### Aplico la diferenciación a g(x)\n",
    "    dg = diff(g(x))\n",
    "    ### La vuelvo una función de Julia\n",
    "    df = lambdify(dg,[x]) \n",
    "    ###Dejo de usar SymPy\n",
    "    #Aquí está el arreglo donde guardaré los valores del error\n",
    "    listaerror=[]\n",
    "    for i in 1:longitud #Ciclo for que calculará el valor epsilon a cada valor de la lista introducida\n",
    "        epsilon=(d(h0[i])-df(x0))/df(x0) #Formula del error epsilon\n",
    "        push!(listaerror,epsilon) #Guardo el valor de dicha epsilon en mi arreglo\n",
    "    #Fin de iteración\n",
    "    end\n",
    "    #Como resultado arrojo la listaerror\n",
    "    return listaerror\n",
    "#Fin\n",
    "end"
   ]
  },
  {
   "cell_type": "code",
   "execution_count": 27,
   "metadata": {
    "collapsed": false
   },
   "outputs": [
    {
     "data": {
      "text/plain": [
       "100-element Array{Any,1}:\n",
       "    -0.158529015192103\n",
       "  -0.00135190925992709\n",
       " -0.000370719948104193\n",
       " -0.000170080226561450\n",
       "  -9.72188848883414e-5\n",
       "  -6.28262197868269e-5\n",
       "  -4.39133076774476e-5\n",
       "  -3.24130995990473e-5\n",
       "  -2.49030818559172e-5\n",
       "  -1.97300978266558e-5\n",
       "  -1.60162304119865e-5\n",
       "  -1.32601888162292e-5\n",
       "  -1.11588317647624e-5\n",
       "                     ⋮\n",
       "  -2.10463652836723e-7\n",
       "  -2.05765963910212e-7\n",
       "  -2.01223756908558e-7\n",
       "  -1.96829938735836e-7\n",
       "  -1.92579346720281e-7\n",
       "  -1.88464503821884e-7\n",
       "  -1.84479569280806e-7\n",
       "  -1.80620555472119e-7\n",
       "  -1.76880755607145e-7\n",
       "  -1.73256469532485e-7\n",
       "  -1.69742716261720e-7\n",
       "  -1.66333823931486e-7"
      ]
     },
     "execution_count": 27,
     "metadata": {},
     "output_type": "execute_result"
    }
   ],
   "source": [
    "#Prueba\n",
    "errorsim=errorepsilonsim(t,0.1,lista)"
   ]
  },
  {
   "cell_type": "code",
   "execution_count": 28,
   "metadata": {
    "collapsed": false
   },
   "outputs": [
    {
     "data": {
      "image/png": "[encoded data removed]",
      "text/plain": [
       "PyPlot.Figure(PyObject <matplotlib.figure.Figure object at 0x7f585b928790>)"
      ]
     },
     "metadata": {},
     "output_type": "display_data"
    },
    {
     "data": {
      "text/plain": [
       "1-element Array{Any,1}:\n",
       " PyObject <matplotlib.lines.Line2D object at 0x7f585b928d50>"
      ]
     },
     "execution_count": 28,
     "metadata": {},
     "output_type": "execute_result"
    }
   ],
   "source": [
    "#De azul va la gráfica de los valores del error epsilon simétrico\n",
    "#De naranja la constante cero el cual es el valor al que se debería aproximar mi error cuando 1/h aumente\n",
    "xlabel(L\"$1/h$\")\n",
    "ylabel(L\"$\\epsilon_s$\")\n",
    "plot(l,abs.(errorsim));\n",
    "plot(l,zero)"
   ]
  },
  {
   "cell_type": "markdown",
   "metadata": {},
   "source": [
    "Se aprecia que comparado al error de la derivada numérica el de la derivada simétrica se aproxima más rápido a cero."
   ]
  },
  {
   "cell_type": "markdown",
   "metadata": {},
   "source": [
    "## Ejercicio 5"
   ]
  },
  {
   "cell_type": "markdown",
   "metadata": {},
   "source": [
    "Demuestre que $\\Delta_h$ es un operador lineal y que podemos \"factorizar\" la función a la derecha del operador. Hecho esto podemos quitar de ambos lados la función $f$ para obtener lo siguiente:\n",
    "$$\\Delta_h=\\sum_{n=1}^{\\infty} \\frac{1}{n!}h^n\\left.\\frac{d^n}{d\\xi^n}\\right|_{\\substack{ \\xi=x }}$$"
   ]
  },
  {
   "cell_type": "markdown",
   "metadata": {},
   "source": [
    "Sea el operador $\\Delta_h:\\:f(x)\\mapsto\\:f(x+h)-f(x)$. Sean $\\:f,g :\\mathbb{R} \\rightarrow \\mathbb{R},\\ 2$ funciones, y sean $\\alpha,\\beta\\in\\mathbb{R}$\n",
    "\n",
    "_P.D. $\\Delta_h$ es lineal._\n",
    "\n",
    "Aplicando el operador $\\Delta_h$ a $(\\alpha\\:f+\\beta\\:g)(x)$:\n",
    "\n",
    "$$\\Delta_{h}\\left[(\\alpha\\:f+\\beta\\:g)(x)\\right]=(\\alpha\\:f+\\beta\\:g)(x+h)-(\\alpha\\:f+\\beta\\:g)(x)=\\alpha\\:f(x+h)+\\beta\\:g(x+h)-\\alpha\\:f(x)-\\beta\\:g(x)$$\n",
    "Entonces\n",
    "$$\\Delta_{h}\\left[(\\alpha\\:f+\\beta\\:g)(x)\\right]=\\alpha\\left[\\:f(x+h)-f(x)\\right]+\\beta\\left[g(x+h)-g(x)\\right]=\\alpha\\Delta_{h}\\:f(x)+\\beta\\Delta_{h}\\:g(x)$$\n",
    "Por lo tanto\n",
    "$$\\:\\:\\Delta_{h}\\left[(\\alpha\\:f+\\beta\\:g)(x)\\right]=\\alpha\\Delta_{h}\\:f(x)+\\beta\\Delta_{h}\\:g(x)$$\n",
    "$$\\blacksquare$$\n",
    "Ahora retomando lo visto en clase:\n",
    "\n",
    "\\begin{eqnarray}\n",
    "\\Delta_{h}\\left[f(x)\\right]=f(x+h)-f(x)&=& \\left[h \\left. \\frac{d}{d \\xi}  \\right|_{\\substack{ \\xi=x }} + \\frac{h^{2}}{2} \\left. \\frac{d^{2}}{d \\xi^{2}}   \\right|_{\\substack{ \\xi_{1}=x }} + \\frac{h^{3}}{6} \\left. \\frac{d^{3}}{d \\xi^{3}}   \\right|_{\\substack{ \\xi=x }} + \\mathcal{O}\\left(h^{4}\\right)\\right]f{\\left (x \\right )}\\\\\n",
    "&=&\\left[ \\sum_{n=1}^{\\infty} \\frac{1}{n!}h^n\\left.\\frac{d^n}{d\\xi^n}\\right|_{\\substack{ \\xi=x }} \\right]f(x)\n",
    "\\end{eqnarray}\n",
    "Y por lo tanto\n",
    "$$\\:\\:\\Delta_h=\\sum_{n=1}^{\\infty} \\frac{1}{n!}h^n\\left.\\frac{d^n}{d\\xi^n}\\right|_{\\substack{\\xi=x}}$$"
   ]
  },
  {
   "cell_type": "markdown",
   "metadata": {},
   "source": [
    "## Ejercicio 6"
   ]
  },
  {
   "cell_type": "markdown",
   "metadata": {},
   "source": [
    "Para saber como se relaciona el _operador derivada exacta_ con el _operador diferencia finita hacia adelante_ es necesario invertir la serie $\\Delta_h=\\sum_{n=1}^{\\infty} \\frac{1}{n!}h^n\\left.\\frac{d^n}{d\\xi^n}\\right|_{\\substack{ \\xi=x }}$. Una forma directa de hacerlo es identificar la función para la cual es esa serie. Entonces, pensando en el operador derivada como un número, la serie se identifica como función evaluada en $\\left. h\\frac{d}{d_\\xi}\\right|_{\\substack{ \\xi=x }}$, ¿cual es esa función?. Si llamamos $\\phi$ a dicha función, deberiamos de tener una relación de la siguiente forma:\n",
    "$$\\Delta_h=\\phi\\left(h\\left.\\frac{d}{d\\xi}\\right|_{\\substack{ \\xi=x }}\\right)$$.\n",
    "    \n",
    "* __Nota:__ En la clase se demostró que $\\phi(x)=e^x-1$, escriba el razonamiento en $\\LaTeX$ de como se llegó a esto.\n",
    "\n",
    "Demostrado lo anterior es fácil ver que:\n",
    "\\begin{eqnarray}\n",
    "\\left.\\frac{d}{d\\xi}\\right|_{\\substack{ \\xi=x }}&=&\\frac{1}{h}\\log\\left(1+\\Delta_h\\right)\\\\\n",
    "&=&\\frac{1}{h}\\left( \\Delta_h-\\frac{1}{2}\\Delta^2_h +\\dots\\right).\n",
    "\\end{eqnarray}"
   ]
  },
  {
   "cell_type": "markdown",
   "metadata": {},
   "source": [
    "__Razonamiento__\n",
    "\n",
    "Para relacionar el operador derivada exacta con el operador diferencia finita hacia adelante primero identifiquemos a este último como una función $\\phi$\n",
    "\n",
    "$$\\Delta_{h}=\\phi\\left(h\\left.\\frac{d}{d\\xi}\\right|_{\\substack{\\xi=x}}\\right)=\\sum_{n=1}^{\\infty} \\frac{1}{n!}h^n\\left.\\frac{d^n}{d\\xi^n}\\right|_{\\substack{\\xi=x}}.$$\n",
    "\n",
    "Recordando que para el caso un operador $\\Theta$ (operador derivada) se tiene que $\\Theta^{2}=\\Theta \\circ \\Theta$, entonces:\n",
    "\n",
    "$$\\phi\\left(h\\left.\\frac{d}{d\\xi}\\right|_{\\substack{\\xi=x}}\\right)=\\sum_{n=1}^{\\infty} \\frac{1}{n!}\\left(h\\left.\\frac{d}{d\\xi}\\right|_{\\substack{\\xi=x}}\\right)^{n}.$$\n",
    "\n",
    "Ahora por lo que sabemos de expansión en series:\n",
    "\n",
    "$$\\displaystyle e^{x}-1=\\sum_{n=1}^{\\infty}\\frac{x^{n}}{n!}$$\n",
    "\n",
    "Por lo tanto:\n",
    "\n",
    "$$\\Delta_{h}=\\exp\\left(h\\left.\\frac{d}{d\\xi}\\right|_{\\substack{\\xi=x}}\\right)-1,$$\n",
    "\n",
    "__De aqui podemos poner al operador derivada exacta en términos del operador diferencia finita hacia adelante:__\n",
    "\n",
    "$$\\left.\\frac{d}{d\\xi}\\right|_{\\substack{\\xi=x}}=\\frac{1}{h}\\log\\left(1+\\Delta_{h}\\right)$$\n",
    "Por lo tanto\n",
    "$$\\:\\:\\left.\\frac{d}{d\\xi}\\right|_{\\substack{\\xi=x}}=\\frac{1}{h}\\sum_{n=1}^{\\infty}\\frac{(-1)^{n+1}}{n}\\Delta_{h}^{\\:n}=\\frac{1}{h}\\left(\\Delta_{h}-\\frac{1}{2}\\Delta_{h}^{\\:2}+\\cdots\\right).$$\n",
    "\n",
    "De esta expresión (y justo como se planteó en el notebook de este tema), notamos que si se toma la serie hasta $n=1$ se obtiene la aproximación de la derivada numérica hacia adelante presentada el el ejercicio 1. Concluimos entonces que entre más términos se tomen de la serie, la aproximación será mejor."
   ]
  }
 ],
 "metadata": {
  "kernelspec": {
   "display_name": "Julia 0.6.0",
   "language": "julia",
   "name": "julia-0.6"
  },
  "language_info": {
   "file_extension": ".jl",
   "mimetype": "application/julia",
   "name": "julia",
   "version": "0.6.0"
  }
 },
 "nbformat": 4,
 "nbformat_minor": 2
}
