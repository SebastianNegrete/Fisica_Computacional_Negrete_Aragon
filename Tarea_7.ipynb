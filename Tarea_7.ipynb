{
 "cells": [
  {
   "cell_type": "markdown",
   "metadata": {},
   "source": [
    "# Tarea 5 - Sebastián Negrete Aragón - Física Computacional\n",
    "# Semestre 2017-2"
   ]
  },
  {
   "cell_type": "markdown",
   "metadata": {},
   "source": [
    "## Métodos de Integración."
   ]
  },
  {
   "cell_type": "markdown",
   "metadata": {},
   "source": [
    "### Integración por Método de Riemann"
   ]
  },
  {
   "cell_type": "markdown",
   "metadata": {},
   "source": [
    "La **integral de Riemann** es una de las definiciones de Cálculo para integrar funciones de $[a,b]$ $\\subset$ $\\mathbb{R}$ $\\rightarrow$ $\\mathbb{R}$.\n",
    "\n",
    "Dicho concepto se basa en las **particiones $P=\\{a=t_0<t_1<...<t_n=b\\}$ de un intervalo $[a,b]$** para generar rectángulos que se aproximen al área bajo la curva de la función $f$ **considerando la longitud de los subintervalos $[t_{i-1},t_i]$ y un conjunto de puntos $\\{x_i\\}^n_{i=1}$ los cuales cumplen que $x_i\\in[t_{i-1},t_i)$**.\n",
    "\n",
    "Dada una partición $P\\subset\\mathbb{P}_{[a,b]}$ se da el conjunto de puntos $\\{x_i\\}^n_{i=1}$ descrito anteriormente para dar una partición que los incluya sin afectar las longitudes de la $P$ que llamaremos **partición emparejada**:\n",
    "\n",
    "$(P,\\{x_i\\})=P\\cup\\{x_i\\}^n_{i=1}$.\n",
    "\n",
    "Con la partición emparejada $(P,\\{x_i\\})$ generamos los subintervalos $[t_{i-1},t_i]$ que servirán como base de nuestros rectángulos y damos además el punto $x_i\\in[t_{i-1},t_i)$ que servirá de altura para estos en cada subintervalo gracias a que los incluimos explícitamente en el conjunto $\\{x_i\\}^n_{i=1}$.\n",
    "\n",
    "La suma de Riemann para la función $f$ en el intervalo $[a,b]$ dada la partición emparejada $(P,\\{x_i\\})$ se denota por la siguiente expresión:\n",
    "\n",
    "$R(f,(P,\\{x_i\\}))=\\sum_{i=1}^nf(x_i)(t_i-t_{i-1})$\n",
    "\n",
    "Podemos notar que podemos mejorar la aproximación dada al área bajo la gráfica de la función reduciendo el tamaño de nuestros subintervalos generados. Dado que $P$ es arbitraria respecto a la distribución de puntos que la compone tenemos que la longitud de cada subintervalo $[t_{i-1},t_i]$ puede tomar valores distintos, por eso definimos la norma de la partición (o mesh) $||P||$ como la distancia máxima inducida por la partición $P$ en los subintervalos $[t_{i-1},t_i]$:\n",
    "\n",
    "$||P||=max\\{t_{i-1},t_i\\}_{i=1}^n$\n",
    "\n",
    "Con esto apreciamos que cuando $||P||\\rightarrow0$ se cumple $[t_{i-1},t_i]\\rightarrow0$, garantizando el punto propuesto en el párrafo anterior.\n",
    "\n",
    "La utilidad del modelo de suma de Riemann surge cuando se tiene una función cuya integral en un intervalo $[a,b]$ no tenga una expresión analítica pues simplemente debemos seguir los siguientes pasos para dar un programa que nos arroje el valor de dicha integración:\n",
    "* Considerar para correr el programa la función a evaluar y el intervalo de integración.\n",
    "* Introducir una partición homogénea con un valor $||P||$ cercano a cero (algo del tipo $||P||=\\displaystyle\\frac{b-a}{n}$ funciona), dependiendo de que tan preciso se quiera ser.\n",
    "* Proponer un valor fijo para cada $\\{x_i\\}^n_{i=1}$ en cada subintervalo, por ejemplo que sea el punto medio de cada subintervalo $\\{x_i\\}^n_{i=1}={\\displaystyle\\frac{t_i-t_{i-1}}{2}}$\n",
    "* Establecer una iteración para dar el valor de $R(f,(P,\\{x_i\\}))$ considerando:\n",
    "    * El número de subintervalos generados sabiendo que con $N$ puntos se inducen $N-1$ subintervalos.\n",
    "    * El valor de $f(x_i)$ correspondiente a cada subintervalo.\n",
    "    * Arrojar un mensaje de error en caso de tener una función indefinida en $[a,b]$ o bien que uno de los puntos de $\\{x_i\\}^n_{i=1}$ no esté definido.\n",
    "    \n",
    "Finalmente comparto la siguiente definición de integral de Riemann usando sumas de Riemann (pues también existe la construcción de integral por el método de Darboux):\n",
    "\n",
    "**Definición**: Decimos que una función $f:[a,b]\\rightarrow\\mathbb{R}$ es Riemann Integrable $(f\\in\\mathbb{R-I})$ y $\\int_a^b f(x)dx=s$ sí y sólo sí:\n",
    "\n",
    "$\\forall \\varepsilon>0\\ \\ \\exists\\ \\delta>0\\ \\ \\centerdot\\ni\\centerdot\\ \\ si\\ \\ ||P||<\\delta \\Longrightarrow|R(f,(P,\\{x_i\\}))-s|<\\varepsilon$"
   ]
  },
  {
   "cell_type": "markdown",
   "metadata": {
    "collapsed": true
   },
   "source": [
    "### Integración por Método de Trapecios"
   ]
  },
  {
   "cell_type": "markdown",
   "metadata": {},
   "source": [
    "También conocida como **\"Regla del trapecio compuesta\" o \"Regla de los Trapecios\"** es una forma de dar una estimación a la integral para una función $f$ continua y definida positiva (o negativa) en un intervalo $[a,b]$. El método consiste en aproximar la gráfica de $f$ por medio de rectas definidas por los extremos de cada subintervalo inducido dada una partición $P$ de $[a,b]$ con las cuáles se pueden formar junto con los propios subintervalos trapecios rectángulos cuya suma de áreas se acercan al área bajo la gráfica:\n",
    "\n",
    "$\\int_a^b f(x)dx=\\sum_iA_{Trapecios}$\n",
    "\n",
    "Donde el área de un trapecio se denota por la siguiente expresión:\n",
    "\n",
    "$Área=\\displaystyle\\frac{(b_1+b_2)h}{2}$\n",
    "\n",
    "Siendo $b_i\\ \\ (i=1,2)$ las bases del trapecio y $h$ la altura, para nuestro interés $b_i$ son los valores de la función evaluada en los extremos de cada subintervalo evaluados y $h$ la longitud de cada subintervalo.\n",
    "\n",
    "Para desarrollar de manera sencilla el método de trapecios damos una **partición homogénea** $P$ de $[a,b]$ tal que $||P||=\\displaystyle\\frac{b-a}{n}$ donde $n$ es el número de subintervalos a inducir deseados (tendremos una mejor aproximación si el valor de $n$ es muy grande). De aquí tendríamos haciendo $h=\\displaystyle\\frac{b-a}{2n}$:\n",
    "\n",
    "$\\int_a^b f(x)dx\\approx h[(f(a)+f(a+h))+(f(a+h)+f(a+2h))+\\ldots+(f(a+(n-2)h)+f(a+(n-1)h))+(f(a+(n-1)h)+f(b))]$\n",
    "\n",
    "Esta igualdad la cuál solo expresa la suma de áreas se puede simplificar notando que $f(a)$ y $f(b)$ se repiten una vez mientras que la función evaluada en los puntos intermedios dados por la partición aparecen dos veces cada uno, quedando:\n",
    "\n",
    "$\\int_a^b f(x)dx\\approx h[\\displaystyle\\frac{f(a)+f(b)}{2}+\\sum_{k=1}^{n-1}f(a+kh)]=\\displaystyle\\frac{b-a}{n}[\\displaystyle\\frac{f(a)+f(b)}{2}+\\sum_{k=1}^{n-1}f(a+k\\displaystyle\\frac{b-a}{n})]$\n",
    "\n",
    "Cumpliéndose que:\n",
    "\n",
    "$\\int_a^b f(x)dx=\\lim_{n\\rightarrow\\infty}\\displaystyle\\frac{b-a}{n}[\\displaystyle\\frac{f(a)+f(b)}{2}+\\sum_{k=1}^{n-1}f(a+k\\displaystyle\\frac{b-a}{n})]$\n",
    "\n",
    "Pues $f$ es integrable en [a,b]."
   ]
  },
  {
   "cell_type": "markdown",
   "metadata": {
    "collapsed": true
   },
   "source": [
    "### Integración por Método de Simpson"
   ]
  },
  {
   "cell_type": "markdown",
   "metadata": {},
   "source": [
    "Este método es parecido al Método de Trapecios, solo que en vez de aproximar por medio de polinomios de primer grado (pues las rectas se pueden expresar como funciones de este tipo en cada subintervalo generado por la partición $P$ elegida) lo hacemos por polinomios de segundo grado. Para esto ocuparemos polinomios de Lagrange que son aquellos que interpolan un conjunto de puntos dado. Este polinomio para el grado deseado es:\n",
    "\n",
    "$P_2(x)=f(a)\\displaystyle\\frac{(x-m)(x-b)}{(a-m)(a-b)}+f(m)\\displaystyle\\frac{(x-a)(x-b)}{(m-a)(m-b)}+f(b)\\displaystyle\\frac{(x-a)(x-m)}{(b-a)(b-m)}$\n",
    "\n",
    "Donde $a$ y $b$ son los extremos del intervalo donde aproximaremos y $m$ es un punto intermedio en el intervalo.\n",
    "\n",
    "Entonces se tiene usando integración por substitución:\n",
    "\n",
    "$\\int_a^b f(x)dx\\approx\\int_a^b P_2(x)=\\displaystyle\\frac{b-a}{6}[f(a)+4f(m)+f(b)]$\n",
    "\n",
    "Como en general $[a,b]$ no tiene por que tener una longitud pequeña para evitar un error considerable en la aproximación usando una partición $P$ homogénea de $[a,b]$ podremos acercarnos mejor al valor de la integral en cuestión. Sea entonces $P$ tal que $||P||=\\displaystyle\\frac{b-a}{n}$. con $i=1,2,...,n$, en el intervalo $[x_{j-1},x_{j+1}]\\in[a,b]$ con $j=1,3,5,...,n-1$ tenemos:\n",
    "\n",
    "$\\int_{x_{j-1}}^{x_{j+1}} f(x)dx\\approx\\displaystyle\\frac{x_{j+1}-x_{j-1}}{3}[f(x_{j-1})+4f(x_j)+f(x_{i+j})]$\n",
    "\n",
    "Sumando todos los intervalos $[x_{j-1},x_{j+1}]\\in[a,b]$ tendremos haciendo $h=\\displaystyle\\frac{b-a}{n}$:\n",
    "\n",
    "$\\int_a^b f(x)dx\\approx\\displaystyle\\frac{h}{3}[f(x_0)+2\\sum_{j=1}^{\\small\\displaystyle\\frac{n}{2}-1}f(x_{2j})+4\\sum_{j=1}^{\\small\\displaystyle\\frac{n}{2}}f(x_{2j-1})+f(x_n)]$"
   ]
  },
  {
   "cell_type": "markdown",
   "metadata": {},
   "source": [
    "# Tarea 6 - Sebastián Negrete Aragón - Física Computacional\n",
    "# Semestre 2017-2"
   ]
  },
  {
   "cell_type": "markdown",
   "metadata": {},
   "source": [
    "## Integración por Método de Riemann"
   ]
  },
  {
   "cell_type": "markdown",
   "metadata": {},
   "source": [
    "Implementando el proceso descrito en la parte de la Tarea 5 sobre este método:"
   ]
  },
  {
   "cell_type": "code",
   "execution_count": 65,
   "metadata": {
    "collapsed": true
   },
   "outputs": [],
   "source": [
    "using SymPy #Usaremos SymPy para esto"
   ]
  },
  {
   "cell_type": "code",
   "execution_count": 12,
   "metadata": {
    "collapsed": false
   },
   "outputs": [
    {
     "data": {
      "text/plain": [
       "integralriemann (generic function with 1 method)"
      ]
     },
     "execution_count": 12,
     "metadata": {},
     "output_type": "execute_result"
    }
   ],
   "source": [
    "#Con este programa damos una aproximación a la integral de f(x) por Método de Riemann usando particiones homogéneas\n",
    "#Se consideran 4 parámetros para dar una mayor libertad al usuario al momento de generar el valor de la integral:\n",
    "# f -> Se da la función a integrar\n",
    "# a -> Punto inicial del intervalo de integración\n",
    "# b -> Punto final del intervalo de integración, por convención a<b\n",
    "# n -> Cantidad de subintervalos inducidos deseados del intervalo [a,b] n natural\n",
    "function integralriemann(f,a,b,n)\n",
    "    x=symbols(\"x\") #Declaramos la variable simbólica x\n",
    "    longitud=abs((b-a)/n) #La longitud de cada subintervalo dada la partición\n",
    "    g(x)=f(x) #La función f definida con la variable x\n",
    "    st=0 #Acumulador del valor de la suma del área de los rectángulos en cada subintervalo\n",
    "    for i in 1:n #Ciclo for, se detiene al completar los n subintervalos inducidos\n",
    "        punto=((2*a)+longitud)/2 #Definimos el punto a evaluar en la función, este valor (para ejemplificar tomamos el punto medio de cada subintervalo)\n",
    "        si=g(punto)*longitud #Hacemos el área del rectangulo inducido en el i-ésimo subintervalo\n",
    "        st=st+si #Acumulamos el valor en st\n",
    "        a=a+longitud #Para irnos al siguiente intervalo redefinimos el valor de a\n",
    "    end\n",
    "    return st #Muestra el valor final de la suma de Riemann finita\n",
    "end     "
   ]
  },
  {
   "cell_type": "code",
   "execution_count": 71,
   "metadata": {
    "collapsed": false
   },
   "outputs": [
    {
     "data": {
      "text/plain": [
       "f (generic function with 1 method)"
      ]
     },
     "execution_count": 71,
     "metadata": {},
     "output_type": "execute_result"
    }
   ],
   "source": [
    "f(x)=x^2 #Función prueba"
   ]
  },
  {
   "cell_type": "code",
   "execution_count": 72,
   "metadata": {
    "collapsed": false
   },
   "outputs": [
    {
     "data": {
      "text/plain": [
       "#f"
      ]
     },
     "execution_count": 72,
     "metadata": {},
     "output_type": "execute_result"
    }
   ],
   "source": [
    "typeof(ans)"
   ]
  },
  {
   "cell_type": "code",
   "execution_count": 73,
   "metadata": {
    "collapsed": false
   },
   "outputs": [
    {
     "data": {
      "text/plain": [
       "0.3333332500000003"
      ]
     },
     "execution_count": 73,
     "metadata": {},
     "output_type": "execute_result"
    }
   ],
   "source": [
    "integralriemann(f,0,1,1000) #Prueba"
   ]
  },
  {
   "cell_type": "markdown",
   "metadata": {},
   "source": [
    "## Integración por Método de Trapecios"
   ]
  },
  {
   "cell_type": "code",
   "execution_count": 4,
   "metadata": {
    "collapsed": true
   },
   "outputs": [],
   "source": [
    "using SymPy #Usaremos SymPy para esto"
   ]
  },
  {
   "cell_type": "code",
   "execution_count": 17,
   "metadata": {
    "collapsed": false
   },
   "outputs": [
    {
     "data": {
      "text/plain": [
       "integraltrapecios (generic function with 1 method)"
      ]
     },
     "execution_count": 17,
     "metadata": {},
     "output_type": "execute_result"
    }
   ],
   "source": [
    "#Con este programa damos una aproximación a la integral de f(x) por Método de Trapecios usando particiones homogéneas\n",
    "#Se consideran 4 parámetros para dar una mayor libertad al usuario al momento de generar el valor de la integral:\n",
    "# f -> Se da la función a integrar\n",
    "# a -> Punto inicial del intervalo de integración\n",
    "# b -> Punto final del intervalo de integración, por convención a<b\n",
    "# n -> Cantidad de subintervalos inducidos deseados del intervalo [a,b] n natural\n",
    "function integraltrapecios(f,a,b,n)\n",
    "    x=symbols(\"x\") #Declaramos la variable simbólica x\n",
    "    longitud=abs((b-a)/n) #La longitud de cada subintervalo dada la partición\n",
    "    g(x)=f(x) #La función f definida con la variable x\n",
    "    factor=(f(a)+f(b))/2 #Factor que se suma a la suma parcial\n",
    "    sp=0 #Acumulador representando la suma parcial\n",
    "    for i in 1:(n-1) #Ciclo for para realizar la suma parcial que tiene como límite n-1\n",
    "        argumento=a+(i*longitud) #Argumento a evaluar en f(x)\n",
    "        sp=sp+g(argumento) #Suma parcial hasta la i-ésima iteración\n",
    "    end\n",
    "    st=longitud*(factor+sp) #Suma total con todos los valores definidos\n",
    "    return st #Muestra el valor final de la iteración para trapecios\n",
    "end     "
   ]
  },
  {
   "cell_type": "code",
   "execution_count": 6,
   "metadata": {
    "collapsed": false
   },
   "outputs": [
    {
     "data": {
      "text/plain": [
       "f (generic function with 1 method)"
      ]
     },
     "execution_count": 6,
     "metadata": {},
     "output_type": "execute_result"
    }
   ],
   "source": [
    "f(x)=x^2 #Función prueba"
   ]
  },
  {
   "cell_type": "code",
   "execution_count": 7,
   "metadata": {
    "collapsed": false
   },
   "outputs": [
    {
     "data": {
      "text/plain": [
       "#f"
      ]
     },
     "execution_count": 7,
     "metadata": {},
     "output_type": "execute_result"
    }
   ],
   "source": [
    "typeof(ans)"
   ]
  },
  {
   "cell_type": "code",
   "execution_count": 8,
   "metadata": {
    "collapsed": false
   },
   "outputs": [
    {
     "data": {
      "text/plain": [
       "0.33333349999999995"
      ]
     },
     "execution_count": 8,
     "metadata": {},
     "output_type": "execute_result"
    }
   ],
   "source": [
    "integraltrapecios(f,0,1,1000) #Prueba"
   ]
  },
  {
   "cell_type": "markdown",
   "metadata": {},
   "source": [
    "# Integración por Método de Simpson"
   ]
  },
  {
   "cell_type": "code",
   "execution_count": 2,
   "metadata": {
    "collapsed": true
   },
   "outputs": [],
   "source": [
    "using SymPy #Corremos SymPy"
   ]
  },
  {
   "cell_type": "code",
   "execution_count": 18,
   "metadata": {
    "collapsed": false
   },
   "outputs": [
    {
     "data": {
      "text/plain": [
       "integralsimpson (generic function with 1 method)"
      ]
     },
     "execution_count": 18,
     "metadata": {},
     "output_type": "execute_result"
    }
   ],
   "source": [
    "#Con este programa damos una aproximación a la integral de f(x) por Método de Simpson usando particiones homogéneas\n",
    "#Se consideran 4 parámetros para dar una mayor libertad al usuario al momento de generar el valor de la integral:\n",
    "# f -> Se da la función a integrar\n",
    "# a -> Punto inicial del intervalo de integración\n",
    "# b -> Punto final del intervalo de integración, por convención a<b\n",
    "# n -> Cantidad de subintervalos inducidos deseados del intervalo [a,b] n natural\n",
    "# El objetivo es aplicar el Método de Simpson en cada subintervalo e ir sumando\n",
    "function integralsimpson(f,a,b,n)\n",
    "    x=symbols(\"x\") #Declaramos la variable simbólica x\n",
    "    longitud=abs((b-a)/n) #La longitud de cada subintervalo dada la partición\n",
    "    g(x)=f(x) #La función f definida con la variable x\n",
    "    st=0 #Acumulador de los valores de las integrales en cada subintervalo\n",
    "    c=a+longitud #Variable que nos define el supremo (punto final) de cada subintevralo\n",
    "    for i in 1:n #Ciclo for que corre de 1 a n para evaluar los n intervalos\n",
    "        aint=((c-a)/6)*(f(a)+4f((a+c)/2)+f(c)) #Aplicando Método de Simpson en cada subintervalo\n",
    "        st=st+aint #Representación de la suma parcial a la iésima iteración\n",
    "        a=c #Redefinimos a para analizar el proximo intervalo\n",
    "        c=c+longitud #Redefinimos c para analizar el proximo intervalo\n",
    "    end #Fin de for\n",
    "    return st #Arrojar el resultado de st\n",
    "end #Fin"
   ]
  },
  {
   "cell_type": "code",
   "execution_count": 18,
   "metadata": {
    "collapsed": false
   },
   "outputs": [
    {
     "data": {
      "text/plain": [
       "f (generic function with 1 method)"
      ]
     },
     "execution_count": 18,
     "metadata": {},
     "output_type": "execute_result"
    }
   ],
   "source": [
    "f(x)=x^2 #Función prueba"
   ]
  },
  {
   "cell_type": "code",
   "execution_count": 19,
   "metadata": {
    "collapsed": false
   },
   "outputs": [
    {
     "data": {
      "text/plain": [
       "0.33333333333333415"
      ]
     },
     "execution_count": 19,
     "metadata": {},
     "output_type": "execute_result"
    }
   ],
   "source": [
    "integralsimpson(f,0,1,1000)"
   ]
  },
  {
   "cell_type": "markdown",
   "metadata": {},
   "source": [
    "# Tarea 7 - Sebastián Negrete Aragón - Física Computacional\n",
    "# Semestre 2017-2"
   ]
  },
  {
   "cell_type": "markdown",
   "metadata": {},
   "source": [
    "# Interpolación polinomial en la forma de Lagrange"
   ]
  },
  {
   "cell_type": "markdown",
   "metadata": {},
   "source": [
    "Dado un conjunto de $k+1$ puntos\n",
    "\n",
    "$$(x_0,y_0),\\ldots,(x_j,y_j),\\ldots,(x_k,y_k)$$\n",
    "\n",
    "donde las $x_j$ no son iguales, la interpolación polinomial en la forma de Lagrange es una combinación lineal\n",
    "\n",
    "$$L(x):= \\sum_{j=0}^{k}y_jl_j(x)$$\n",
    "\n",
    "de las bases polinomiales de Lagrange\n",
    "\n",
    "$$l_j(x) = \\prod_{0 \\le m \\le k \\atop m \\ne j} \\frac{x-x_m}{x_j-x_m}.$$\n"
   ]
  },
  {
   "cell_type": "code",
   "execution_count": 3,
   "metadata": {
    "collapsed": false
   },
   "outputs": [],
   "source": [
    "using SymPy  #Ocupamos SymPy"
   ]
  },
  {
   "cell_type": "code",
   "execution_count": 4,
   "metadata": {
    "collapsed": false
   },
   "outputs": [
    {
     "data": {
      "text/plain": [
       "0.0:0.6981317007977318:6.283185307179586"
      ]
     },
     "execution_count": 4,
     "metadata": {},
     "output_type": "execute_result"
    }
   ],
   "source": [
    "x0=linspace(0,2*pi,10) #Generamos una lista a evaluar en x, con intervalos regulares"
   ]
  },
  {
   "cell_type": "code",
   "execution_count": 5,
   "metadata": {
    "collapsed": false
   },
   "outputs": [
    {
     "data": {
      "text/plain": [
       "generadorlistay (generic function with 1 method)"
      ]
     },
     "execution_count": 5,
     "metadata": {},
     "output_type": "execute_result"
    }
   ],
   "source": [
    "#Esta función genera los puntos en y a partir de una función de nuestro agrado f(x)\n",
    "function generadorlistay(f,x0)\n",
    "    x=symbols(\"x\") #Declaramos la variable simbólica\n",
    "    g(x)=f(x) #Función en términos de x\n",
    "    a=g(x0) #Evaluamos el valor introducido\n",
    "    return a #Arrojamos la lista de valores\n",
    "end    "
   ]
  },
  {
   "cell_type": "code",
   "execution_count": 6,
   "metadata": {
    "collapsed": false
   },
   "outputs": [
    {
     "data": {
      "text/plain": [
       "f (generic function with 1 method)"
      ]
     },
     "execution_count": 6,
     "metadata": {},
     "output_type": "execute_result"
    }
   ],
   "source": [
    "f(x)=cos.(x) #Función que evalua listas (por eso el \".\")"
   ]
  },
  {
   "cell_type": "code",
   "execution_count": 7,
   "metadata": {
    "collapsed": false
   },
   "outputs": [
    {
     "data": {
      "text/plain": [
       "10-element Array{Float64,1}:\n",
       "  1.0     \n",
       "  0.766044\n",
       "  0.173648\n",
       " -0.5     \n",
       " -0.939693\n",
       " -0.939693\n",
       " -0.5     \n",
       "  0.173648\n",
       "  0.766044\n",
       "  1.0     "
      ]
     },
     "execution_count": 7,
     "metadata": {},
     "output_type": "execute_result"
    }
   ],
   "source": [
    "generadorlistay(f,x0) #Prueba"
   ]
  },
  {
   "cell_type": "code",
   "execution_count": 9,
   "metadata": {
    "collapsed": false
   },
   "outputs": [
    {
     "data": {
      "text/plain": [
       "interpolacion (generic function with 1 method)"
      ]
     },
     "execution_count": 9,
     "metadata": {},
     "output_type": "execute_result"
    }
   ],
   "source": [
    "function interpolacion(x,y,x0)\n",
    "    #Declaramos la variable simbólica w (estan ocupadas ya x,y)\n",
    "    z=Sym(\"z\")\n",
    "    #Aquí sabremos la longitud de la lista generada con linspace x0 y podremos usarlo como control de los ciclos de base y suma\n",
    "    k=length(x)\n",
    "    #A continuación declaramos donde se guardarán las bases polinomiales generadas tipo arreglo.\n",
    "    l=[]\n",
    "    #Con esto generaremos la interpolación\n",
    "    Lagrange=0\n",
    "    for j in 1:k #Ciclo generador de las bases\n",
    "        #Declaramos la variable g que generará las bases y le asignamos el valor inicial de 1\n",
    "        g=1\n",
    "        #Partiremos la iteración de bases con dos for: uno de 1 a j-1 y otro de j+1 hasta k, esto para cumplir la fórmula evitando la igualdad m=j y con ello la indeterminación correspondiente\n",
    "        for m in 1:j-1 #Ciclo de 1 -> j-1\n",
    "            g=g*(z-x[m])/(x[j]-x[m])   # Fórmula para obtener las bases, es una multiplicación de j-1 elementos\n",
    "        end\n",
    "        for m in j+1:k #Ciclo de j-1 -> k\n",
    "            g=g*(z-x[m])/(x[j]-x[m])   #Aquí obtendremos la multiplicación de los k-1 elementos correspondientes\n",
    "        end\n",
    "        #Generada la base, la incluiremos en el arreglo\n",
    "        push!(l,g)\n",
    "    #Hemos generado todas las bases requeridas\n",
    "    end\n",
    "    for j in 1:k #Ciclo for de 1 a k que representa la interpolación de Lagrange\n",
    "        Lagrange=Lagrange+y[j]*l[j]       #Fórmula de dicha interpolación\n",
    "    end\n",
    "    #Convertimos \"Lagrange\" a Julia para evaluarla en nuestro punto de interés\n",
    "    #Global permitirá invocar a L en otros códigos dentro de este notebook\n",
    "    global L=lambdify(Lagrange,[z])\n",
    "    #Damos el valor de la interpolación en x0\n",
    "    return Lagrange(x0)\n",
    "#Fin de programa\n",
    "end"
   ]
  },
  {
   "cell_type": "code",
   "execution_count": 10,
   "metadata": {
    "collapsed": false
   },
   "outputs": [
    {
     "name": "stderr",
     "output_type": "stream",
     "text": [
      "WARNING: Compat.UTF8String is deprecated, use String instead.\n",
      "  likely near In[10]:1\n",
      "WARNING: Compat.UTF8String is deprecated, use String instead.\n",
      "  likely near In[10]:1\n",
      "WARNING: Compat.UTF8String is deprecated, use String instead.\n",
      "  likely near In[10]:1\n",
      "in jprint at /home/juser/.julia/v0.6/SymPy/src/display.jl\n"
     ]
    },
    {
     "data": {
      "text/latex": [
       "$$1.0$$"
      ],
      "text/plain": [
       "1.00000000000000"
      ]
     },
     "execution_count": 10,
     "metadata": {},
     "output_type": "execute_result"
    }
   ],
   "source": [
    "interpolacion(x0,generadorlistay(f,x0),0) #Prueba"
   ]
  },
  {
   "cell_type": "code",
   "execution_count": 26,
   "metadata": {
    "collapsed": false
   },
   "outputs": [],
   "source": [
    "using PyPlot #Invocamos PyPlot"
   ]
  },
  {
   "cell_type": "code",
   "execution_count": 12,
   "metadata": {
    "collapsed": false
   },
   "outputs": [
    {
     "data": {
      "image/png": "[encoded data removed]",
      "text/plain": [
       "PyPlot.Figure(PyObject <matplotlib.figure.Figure object at 0x7f62df6cde50>)"
      ]
     },
     "metadata": {},
     "output_type": "display_data"
    }
   ],
   "source": [
    "#Graficamos: Scatter con los elementos de las listas, Plot usando lo obtenido en las interpolaciones\n",
    "scatter(x0,generadorlistay(f,x0))\n",
    "plot(x0,L(x0));"
   ]
  },
  {
   "cell_type": "markdown",
   "metadata": {},
   "source": [
    "Aquí notamos el comportamiento de la interpolación al variar el punto de interés.\n",
    "Notemos que cercanos a $\\pi$ la partición hace una mala aproximación al cero, esto se mejoraría si tuvieramos una norma de partición más fina.\n",
    "\n",
    "Para la función $cos^2(x)$:"
   ]
  },
  {
   "cell_type": "code",
   "execution_count": 13,
   "metadata": {
    "collapsed": false
   },
   "outputs": [
    {
     "data": {
      "text/plain": [
       "g (generic function with 1 method)"
      ]
     },
     "execution_count": 13,
     "metadata": {},
     "output_type": "execute_result"
    }
   ],
   "source": [
    "g(x)=(cos.(x)).^2 #Declaramos función"
   ]
  },
  {
   "cell_type": "code",
   "execution_count": 14,
   "metadata": {
    "collapsed": false
   },
   "outputs": [
    {
     "data": {
      "text/plain": [
       "10-element Array{Float64,1}:\n",
       " 1.0      \n",
       " 0.586824 \n",
       " 0.0301537\n",
       " 0.25     \n",
       " 0.883022 \n",
       " 0.883022 \n",
       " 0.25     \n",
       " 0.0301537\n",
       " 0.586824 \n",
       " 1.0      "
      ]
     },
     "execution_count": 14,
     "metadata": {},
     "output_type": "execute_result"
    }
   ],
   "source": [
    "generadorlistay(g,x0) #Evaluamos los elementos de la lista"
   ]
  },
  {
   "cell_type": "code",
   "execution_count": 15,
   "metadata": {
    "collapsed": false
   },
   "outputs": [
    {
     "name": "stderr",
     "output_type": "stream",
     "text": [
      "WARNING: Compat.UTF8String is deprecated, use String instead.\n",
      "  likely near In[15]:1\n",
      "WARNING: Compat.UTF8String is deprecated, use String instead.\n",
      "  likely near In[15]:1\n",
      "WARNING: Compat.UTF8String is deprecated, use String instead.\n",
      "  likely near In[15]:1\n",
      "in jprint at /home/juser/.julia/v0.6/SymPy/src/display.jl\n"
     ]
    },
    {
     "data": {
      "text/latex": [
       "$$1.0$$"
      ],
      "text/plain": [
       "1.00000000000000"
      ]
     },
     "execution_count": 15,
     "metadata": {},
     "output_type": "execute_result"
    }
   ],
   "source": [
    "interpolacion(x0,generadorlistay(g,x0),0) #Aplicamos la interpolación"
   ]
  },
  {
   "cell_type": "code",
   "execution_count": 16,
   "metadata": {
    "collapsed": false
   },
   "outputs": [
    {
     "data": {
      "image/png": "[encoded data removed]",
      "text/plain": [
       "PyPlot.Figure(PyObject <matplotlib.figure.Figure object at 0x7f62dd377f10>)"
      ]
     },
     "metadata": {},
     "output_type": "display_data"
    }
   ],
   "source": [
    "#Graficamos usando PyPlot\n",
    "scatter(x0,g(x0))\n",
    "plot(x0,L(x0));"
   ]
  },
  {
   "cell_type": "markdown",
   "metadata": {},
   "source": [
    "Interpolación de [(0,10),(2,-10),(3,-4),(4,0),(5,5),(6,20),(7,-1)]"
   ]
  },
  {
   "cell_type": "code",
   "execution_count": 102,
   "metadata": {
    "collapsed": false
   },
   "outputs": [
    {
     "data": {
      "text/plain": [
       "7-element Array{Int64,1}:\n",
       " 0\n",
       " 2\n",
       " 3\n",
       " 4\n",
       " 5\n",
       " 6\n",
       " 7"
      ]
     },
     "execution_count": 102,
     "metadata": {},
     "output_type": "execute_result"
    }
   ],
   "source": [
    "x=[0,2,3,4,5,6,7] #Arreglo de entradas en x"
   ]
  },
  {
   "cell_type": "code",
   "execution_count": 103,
   "metadata": {
    "collapsed": false
   },
   "outputs": [
    {
     "data": {
      "text/plain": [
       "7-element Array{Int64,1}:\n",
       "  10\n",
       " -10\n",
       "  -4\n",
       "   0\n",
       "   5\n",
       "  20\n",
       "  -1"
      ]
     },
     "execution_count": 103,
     "metadata": {},
     "output_type": "execute_result"
    }
   ],
   "source": [
    "y=[10,-10,-4,0,5,20,-1] #Arreglo de entradas en y"
   ]
  },
  {
   "cell_type": "code",
   "execution_count": 104,
   "metadata": {
    "collapsed": false
   },
   "outputs": [
    {
     "data": {
      "text/latex": [
       "$$10$$"
      ],
      "text/plain": [
       "10"
      ]
     },
     "execution_count": 104,
     "metadata": {},
     "output_type": "execute_result"
    }
   ],
   "source": [
    "interpolacion(x,y,0) #Interpolación evaluada en x,y"
   ]
  },
  {
   "cell_type": "code",
   "execution_count": 107,
   "metadata": {
    "collapsed": false
   },
   "outputs": [
    {
     "data": {
      "image/png": "[encoded data removed]",
      "text/plain": [
       "PyPlot.Figure(PyObject <matplotlib.figure.Figure object at 0x7f48321a7b50>)"
      ]
     },
     "metadata": {},
     "output_type": "display_data"
    }
   ],
   "source": [
    "#Graficamos\n",
    "scatter(x,y);\n",
    "plot(x,L(x));"
   ]
  },
  {
   "cell_type": "markdown",
   "metadata": {},
   "source": [
    "# Convergencia de los métodos de integración"
   ]
  },
  {
   "cell_type": "code",
   "execution_count": 34,
   "metadata": {
    "collapsed": true
   },
   "outputs": [],
   "source": [
    "#Para graficar la convergencia de los métodos de integración proponemos una función que evalue simultáneamente los parámetros deseados aprovechando que todas con función de f {función}, a {infimo del intervalo a evaluar}, b {máximo del intervalo a evaluar} y n {cantidad de subintervalos inducidos por la partición del intervalo de integración}\n",
    "function convergencia(f,a,b,n)\n",
    "    #Se declaran arreglos que almacenarán los valores de los tres métodos distintos\n",
    "    R=[] #Riemann\n",
    "    T=[] #Trapecios\n",
    "    S=[] #Simpson\n",
    "    #Se adjunta una variable que almacenará el inverso de la longitud de cada subintervallo (b-a)/n es decir n/(b-a)\n",
    "    h=[] #n/(b-a) para cada subintervalo\n",
    "    #Declaramos la variable simbólica x\n",
    "    x=Sym(\"x\")\n",
    "    g=f(x) #Función simbólica g\n",
    "    I=ones(length(n))*integrate(g,(x,a,b)) # Vector columna cuyas entradas son todas el valor exacto de la integral. \n",
    "    for i in 1:length(n)   # El ciclo sirve para calcular para los subintervalos la integral por los métodos propuestos. \n",
    "        push!(R,integralriemann(f,a,b,n[i])) #Agregamos el valor por Riemann a R\n",
    "        push!(T,integraltrapecios(f,a,b,n[i])) #Agregamos el valor por Trapecios a T\n",
    "        push!(S,integralsimpson(f,a,b,n[i])) #Agregamos el valor por Simpson a S\n",
    "        push!(h,n[i]/(b-a)) #Agregamos la inversa del ancho del intervalo\n",
    "    end\n",
    "    return R,T,S,h,I   #Se regresa un vector con primera entrada R, segunda T, tercer S, cuarta h y quinta I.\n",
    "end;"
   ]
  },
  {
   "cell_type": "code",
   "execution_count": 35,
   "metadata": {
    "collapsed": false
   },
   "outputs": [
    {
     "data": {
      "text/plain": [
       "f (generic function with 1 method)"
      ]
     },
     "execution_count": 35,
     "metadata": {},
     "output_type": "execute_result"
    }
   ],
   "source": [
    "f(x)=-sin(x) #Función de prueba"
   ]
  },
  {
   "cell_type": "code",
   "execution_count": 36,
   "metadata": {
    "collapsed": false
   },
   "outputs": [
    {
     "data": {
      "text/plain": [
       "1:10"
      ]
     },
     "execution_count": 36,
     "metadata": {},
     "output_type": "execute_result"
    }
   ],
   "source": [
    "n=1:10 #El valor de n fluctuará de 1 a 10"
   ]
  },
  {
   "cell_type": "code",
   "execution_count": 39,
   "metadata": {
    "collapsed": false
   },
   "outputs": [
    {
     "data": {
      "text/plain": [
       "(Any[-7.69468e-16, 0.0, 6.66134e-16, 2.22045e-16, -2.22045e-16, -3.33067e-16, 0.0, 5.55112e-17, 4.996e-16, -1.66533e-16], Any[7.69468e-16, 0.0, -2.0856e-16, -1.5642e-16, 1.43789e-17, 2.44507e-16, 2.09577e-16, 2.70577e-16, 7.98829e-18, 7.69468e-17], Any[-2.56489e-16, 0.0, 4.44089e-16, 2.22045e-16, -2.22045e-16, 2.22045e-16, 0.0, 5.55112e-17, 0.0, -1.38778e-16], Any[0.159155, 0.31831, 0.477465, 0.63662, 0.795775, 0.95493, 1.11408, 1.27324, 1.43239, 1.59155], SymPy.Sym[0, 0, 0, 0, 0, 0, 0, 0, 0, 0])"
      ]
     },
     "execution_count": 39,
     "metadata": {},
     "output_type": "execute_result"
    }
   ],
   "source": [
    "V=convergencia(f,0,2*pi,n) #Prueba de la función C"
   ]
  },
  {
   "cell_type": "code",
   "execution_count": 42,
   "metadata": {
    "collapsed": false
   },
   "outputs": [
    {
     "data": {
      "image/png": "[encoded data removed]",
      "text/plain": [
       "PyPlot.Figure(PyObject <matplotlib.figure.Figure object at 0x7f812a345e50>)"
      ]
     },
     "metadata": {},
     "output_type": "display_data"
    }
   ],
   "source": [
    "xlabel(L\"$\\frac{1}{h}$\")\n",
    "ylabel(L\"$\\int_{a}^{b}f(x)\\:dx$\")\n",
    "title(\"Convergencia de los métodos de integración\\n\")\n",
    "plot(V[4],V[1],label=\"Aproximación por rectángulos - Riemann\")\n",
    "plot(V[4],V[2],label=\"Aproximación por Trapecios\")\n",
    "plot(V[4],V[3],label=\"Aproximación por Simpson\")\n",
    "plot(V[4],V[5],label=\"Valor real\")\n",
    "legend()\n",
    "show();"
   ]
  },
  {
   "cell_type": "markdown",
   "metadata": {
    "collapsed": true
   },
   "source": [
    "Aqui observamos que los tres métodos trabajados presentan un comportamiento oscilatorio alrededor del valor real de la integral definida. El método de Riemann es el que presenta un comportamiento más inestable conforme avanzamos a valores más grandes de $1/h$ (para valores menores de $h$ significa subintervalos inducidos más pequeños) a comparación del método de Trapecios y Simpson  siendo este último método el más estable. "
   ]
  },
  {
   "cell_type": "markdown",
   "metadata": {},
   "source": [
    "FIN"
   ]
  }
 ],
 "metadata": {
  "kernelspec": {
   "display_name": "Julia 0.6.0",
   "language": "julia",
   "name": "julia-0.6"
  },
  "language_info": {
   "file_extension": ".jl",
   "mimetype": "application/julia",
   "name": "julia",
   "version": "0.6.0"
  }
 },
 "nbformat": 4,
 "nbformat_minor": 2
}
