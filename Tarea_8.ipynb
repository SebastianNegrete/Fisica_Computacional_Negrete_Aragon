{
 "cells": [
  {
   "cell_type": "markdown",
   "metadata": {},
   "source": [
    "# Tarea 8 - Sebastián Negrete Aragón - Física Computacional\n",
    "# Semestre 2017-2"
   ]
  },
  {
   "cell_type": "markdown",
   "metadata": {},
   "source": [
    "## Ejercicio 1"
   ]
  },
  {
   "cell_type": "markdown",
   "metadata": {},
   "source": [
    "Escribe una función `derivadaNumerica` que reciba: una función $f\\colon \\mathbb{R}\\mapsto\\mathbb{R}$, un punto $x_0\\in\\mathbb{R}$ y un número $h\\in\\mathbb{R}$. Esta función deberá calcular una aproximación a la derivada utilizando la definición indicada arriba ignorando la parte del límite. Es decir, algo como: `derivada_numerica(f,x,h)`.\n",
    "\n",
    "La idea detrás de las diferencias finitas es la de aproximar la derivada de una función $f$ en un punto $x_0$.\n",
    "Tenemos la definición de la derivada:\n",
    "$$\n",
    "f'(x) = \\lim_{h\\to0}\\frac{f(x+h)-f(x)}{h}.\n",
    "$$\n",
    "\n",
    "La derivada numérica _hacia adelante_ se define simplemente sustituyendo el límite por valores pequeños de $h$, digamos $0.1$ o $0.01$ típicamente. Esto es lo que programaré con la función derivadaNumerica"
   ]
  },
  {
   "cell_type": "code",
   "execution_count": 1,
   "metadata": {
    "collapsed": false
   },
   "outputs": [
    {
     "data": {
      "text/plain": [
       "derivadaNumerica (generic function with 1 method)"
      ]
     },
     "execution_count": 1,
     "metadata": {},
     "output_type": "execute_result"
    }
   ],
   "source": [
    "#Defino la función derivadaNumerica con la cual dada la función f, el punto x0 y una lista de incrementos h0 se puede dar una aproximación al valor de la derivada.\n",
    "#Esta función la defino para recibir arreglos e intervalos para así poder usarla en el ejercicio 2\n",
    "function derivadaNumerica(f,x0,h0)\n",
    "    #Defino la variable longitud que me da la cantidad de elementos del arreglo h0\n",
    "    longitud=length(h0)\n",
    "    #Propongo un arreglo en el cuál iré guardando las aproximaciones de la derivada dados distintos valores del arreglo h0\n",
    "    arreglo=[]\n",
    "    #Hago la función g(x) a partir de f\n",
    "    g(x)=f(x)\n",
    "    #Doy la función d(h) la cuál es simplemente la fórmula de derivada de Newton sin el límite\n",
    "    d(h)=(g(x0+h)-g(x0))/h\n",
    "    for i in 1:longitud #Ciclo for que aplica la función d(h) a los elementos de la lista\n",
    "        dif=d(h0[i]) #Variable dif que almacena el valor de la función d(h) aplicada al i-ésimo elemento del arreglo h0\n",
    "        push!(arreglo,dif) #Guardamos el valor de dif en el arreglo declarado anteriormente\n",
    "    end\n",
    "    #Doy como resultado el arreglo con todas las aproximaciones\n",
    "    return arreglo\n",
    "end"
   ]
  },
  {
   "cell_type": "markdown",
   "metadata": {},
   "source": [
    "Prueba de la función $derivadaNumerica(f,x_0,h_0)$"
   ]
  },
  {
   "cell_type": "code",
   "execution_count": 2,
   "metadata": {
    "collapsed": false
   },
   "outputs": [
    {
     "data": {
      "text/plain": [
       "f (generic function with 1 method)"
      ]
     },
     "execution_count": 2,
     "metadata": {},
     "output_type": "execute_result"
    }
   ],
   "source": [
    "#Propongo la función de prueba\n",
    "f(x)=x^2"
   ]
  },
  {
   "cell_type": "code",
   "execution_count": 3,
   "metadata": {
    "collapsed": false
   },
   "outputs": [
    {
     "data": {
      "text/plain": [
       "1-element Array{Any,1}:\n",
       " 2.001"
      ]
     },
     "execution_count": 3,
     "metadata": {},
     "output_type": "execute_result"
    }
   ],
   "source": [
    "#Notemos que h0 acepta valores individuales, los toma como arreglos de un solo elemento\n",
    "#Uso como x0=1, h0=0.001\n",
    "derivadaNumerica(f,1,0.001)"
   ]
  },
  {
   "cell_type": "markdown",
   "metadata": {},
   "source": [
    "## Ejercicio 7"
   ]
  },
  {
   "cell_type": "markdown",
   "metadata": {},
   "source": [
    "Sea $\\delta_{h}=\\Delta_h-\\Delta_{-h}$ el operador diferencia finita simétrica definida tal que:\n",
    "\n",
    "$$\\delta_{h}:\\:f(x)\\mapsto\\:f(x+h)-f(x-h)$$\n",
    "\n",
    "Notemos que:\n",
    "\n",
    "$$\\delta_{h}\\:f(x)=(\\Delta_{h}-\\Delta_{-h})\\:f(x)=\\Delta_{h}\\:f(x)-\\Delta_{-h}\\:f(x)=f(x+h)-f(x)-f(x-h)+f(x),$$\n",
    "\n",
    "$$\\delta_{h}\\:f(x)=(\\Delta_{h}-\\Delta_{-h})\\:f(x)=f(x+h)-f(x-h).$$\n",
    "\n",
    "Con:\n",
    "\n",
    "$$\\Delta_h=\\left(e^x-1\\right)\\left(h\\left.\\frac{d}{d\\xi}\\right|_{\\substack{ \\xi=x }}\\right)$$\n",
    "\n",
    "Entonces:\n",
    "\n",
    "$$\\delta_{h}=\\exp\\left(h\\left.\\frac{d}{d\\xi}\\right|_{\\substack{\\xi=x}}\\right)-\\left(h\\left.\\frac{d}{d\\xi}\\right|_{\\substack{ \\xi=x }}\\right)-\\exp\\left(-h\\left.\\frac{d}{d\\xi}\\right|_{\\substack{\\xi=x}}\\right)+\\left(h\\left.\\frac{d}{d\\xi}\\right|_{\\substack{ \\xi=x }}\\right)$$\n",
    "\n",
    "$$\\delta_{h}=\\exp\\left(h\\left.\\frac{d}{d\\xi}\\right|_{\\substack{\\xi=x}}\\right)-\\exp\\left(-h\\left.\\frac{d}{d\\xi}\\right|_{\\substack{\\xi=x}}\\right)$$\n",
    "\n",
    "$$\\delta_{h}=2\\:\\mathrm{sinh}\\left(h\\left.\\frac{d}{d\\xi}\\right|_{\\substack{\\xi=x}}\\right)$$\n",
    "\n",
    "De esto concluimos que si:\n",
    "\n",
    "$$\\delta_h=\\theta\\left(h\\left. \\frac{d}{d\\xi}\\right|_{\\xi=x}\\right).$$\n",
    "\n",
    "$$\\therefore\\ \\ \\theta=\\:2sinh(x)$$\n",
    "\n",
    "De aquí podemos dar la expresión para $\\left.\\frac{d}{d\\xi}\\right|_{\\substack{\\xi=x}}$\n",
    "\n",
    "$$\\left.\\frac{d}{d\\xi}\\right|_{\\substack{\\xi=x}}=\\frac{1}{h}\\:arcsinh\\left(\\frac{\\delta_{h}}{2}\\right)$$\n",
    "\n",
    "Por lo visto en cursos de Cálculo tenemos una expresión en serie para la función $\\:arcsinh(x)$:\n",
    "\n",
    "$$\\:arcsinh(x)=\\sum_{n=0}^{\\infty}\\frac{(-1)^{n}(2n)!}{4^{n}(n!)^{2}(2n+1)}x^{2n+1}$$\n",
    "\n",
    "Por lo que:\n",
    "\n",
    "$$\\:\\left.\\frac{d}{d\\xi}\\right|_{\\substack{\\xi=x}}=\\frac{1}{2h}\\sum_{n=0}^{\\infty}\\frac{(-1)^{n}(2n)!}{4^{2n}(n!)^{2}(2n+1)}\\delta_{h}^{\\:2n+1}=\\frac{1}{2h}\\left(\\delta_{h}-\\frac{1}{24}\\delta_{h}^{\\:2}+\\cdots\\right)$$"
   ]
  },
  {
   "cell_type": "code",
   "execution_count": null,
   "metadata": {
    "collapsed": true
   },
   "outputs": [],
   "source": []
  }
 ],
 "metadata": {
  "kernelspec": {
   "display_name": "Julia 0.6.0",
   "language": "julia",
   "name": "julia-0.6"
  },
  "language_info": {
   "file_extension": ".jl",
   "mimetype": "application/julia",
   "name": "julia",
   "version": "0.6.0"
  }
 },
 "nbformat": 4,
 "nbformat_minor": 2
}
