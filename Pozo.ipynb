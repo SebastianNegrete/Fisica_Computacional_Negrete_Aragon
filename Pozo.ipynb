{
 "cells": [
  {
   "cell_type": "code",
   "execution_count": null,
   "metadata": {
    "collapsed": false
   },
   "outputs": [],
   "source": []
  },
  {
   "cell_type": "code",
   "execution_count": 4,
   "metadata": {
    "collapsed": false
   },
   "outputs": [
    {
     "name": "stderr",
     "output_type": "stream",
     "text": [
      "\u001b[1m\u001b[33mWARNING: \u001b[39m\u001b[22m\u001b[33mreplacing docs for 'metodonewtonpozofinitocuadrado :: Tuple{Any,Any}' in module 'Main'.\u001b[39m\n"
     ]
    },
    {
     "data": {
      "text/plain": [
       "metodonewtonpozofinitocuadrado"
      ]
     },
     "execution_count": 4,
     "metadata": {},
     "output_type": "execute_result"
    }
   ],
   "source": [
    "\"\"\"\n",
    "Esta función calcula raíces cuadradas por el método de Newton Método Babilónico xtan(x)=sqrt(a-x²)\n",
    "\"\"\"\n",
    "function metodonewtonpozofinitocuadrado(a,b)\n",
    "    x=a+(sqrt(b-a*a)-a*tan(a))/(tan(a)+a*sec(a)*sec(a)+a/sqrt(b-a*a));\n",
    "    \n",
    "    for i in 1:400\n",
    "       x=x+(sqrt(b-x*x)-x*tan(x))/(tan(x)+x*sec(x)*sec(x)+x/sqrt(b-x*x));\n",
    "    end\n",
    "    return x;\n",
    "end"
   ]
  },
  {
   "cell_type": "code",
   "execution_count": 5,
   "metadata": {
    "collapsed": false
   },
   "outputs": [
    {
     "data": {
      "text/plain": [
       "7.06889123734267"
      ]
     },
     "execution_count": 5,
     "metadata": {},
     "output_type": "execute_result"
    }
   ],
   "source": [
    "metodonewtonpozofinitocuadrado(1,100)"
   ]
  },
  {
   "cell_type": "code",
   "execution_count": 6,
   "metadata": {
    "collapsed": false
   },
   "outputs": [
    {
     "name": "stderr",
     "output_type": "stream",
     "text": [
      "\u001b[1m\u001b[33mWARNING: \u001b[39m\u001b[22m\u001b[33mreplacing docs for 'evaluacion :: Tuple{Any,Any}' in module 'Main'.\u001b[39m\n"
     ]
    },
    {
     "data": {
      "text/plain": [
       "evaluacion"
      ]
     },
     "execution_count": 6,
     "metadata": {},
     "output_type": "execute_result"
    }
   ],
   "source": [
    "\"\"\"\n",
    "Esta función permite evaluar el resultado obtenido por la funcion anterior en la ecuación trascendental\n",
    "\"\"\"\n",
    "function evaluacion(a,b)\n",
    "    x=a*tan(a)-sqrt(b-a*a);\n",
    "    return x;\n",
    "end"
   ]
  },
  {
   "cell_type": "code",
   "execution_count": 7,
   "metadata": {
    "collapsed": false
   },
   "outputs": [
    {
     "data": {
      "text/plain": [
       "3.552713678800501e-15"
      ]
     },
     "execution_count": 7,
     "metadata": {},
     "output_type": "execute_result"
    }
   ],
   "source": [
    "evaluacion(metodonewtonpozofinitocuadrado(1,100),100)"
   ]
  },
  {
   "cell_type": "code",
   "execution_count": null,
   "metadata": {
    "collapsed": true
   },
   "outputs": [],
   "source": []
  }
 ],
 "metadata": {
  "kernelspec": {
   "display_name": "Julia 0.6.0",
   "language": "julia",
   "name": "julia-0.6"
  },
  "language_info": {
   "file_extension": ".jl",
   "mimetype": "application/julia",
   "name": "julia",
   "version": "0.6.0"
  }
 },
 "nbformat": 4,
 "nbformat_minor": 2
}
