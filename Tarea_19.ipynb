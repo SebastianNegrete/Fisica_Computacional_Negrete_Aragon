{
 "cells": [
  {
   "cell_type": "markdown",
   "metadata": {},
   "source": [
    "# Tarea 19 - Sebastián Negrete Aragón - Física Computacional\n",
    "# Semestre 2017-2"
   ]
  },
  {
   "cell_type": "markdown",
   "metadata": {},
   "source": [
    "__Nota:__ Debido a que hubo confusión con el número correspondiente a tareas anteriores dejo en claro que he entregado todas en tiempo y forma, y la numeración con la aclaración hecha por el profesor el 6 de noviembre queda:\n",
    "* Tarea 16: Ejercicio 1) de la tarea 16 de mi repositorio, se entregó en físico\n",
    "* Tarea 17: Ejercicios restantes de la tarea 16 de mi repositorio\n",
    "* Tarea 18: Tarea 17 de mi repositorio"
   ]
  },
  {
   "cell_type": "markdown",
   "metadata": {},
   "source": [
    "## Ejercicio 1"
   ]
  },
  {
   "cell_type": "markdown",
   "metadata": {},
   "source": [
    "_ Escriba la forma del operador laplaciano utilizando diferencias finitas simétricas. Es decir, discretice: $\\nabla^2=\\frac{\\partial^2 f}{\\partial x^2}+\\frac{\\partial^2 f}{\\partial y^2}+\\frac{\\partial^2 f}{\\partial z^2}$ _"
   ]
  },
  {
   "cell_type": "markdown",
   "metadata": {},
   "source": [
    "Para discretizar el operador laplaciano en una región del espacio damos una lattice contenida en dicha región cuya norma sea $h$, _id est_ que el espaciamiento en cada entrada entre dos puntos $\\Delta x, \\Delta y, \\Delta z$ sean iguales a $h$.\n",
    "\n",
    "Por lo visto en diferencias finitas podemos escribir la derivada de segundo orden de una función $u(x)$ en un punto $x_i$ contenido en una partición con norma $h$ como:\n",
    "\n",
    "$$\\displaystyle \\frac {d^2u}{dx^2} \\approx \\displaystyle \\frac {u_{i+1}-2u_i+u_{i-1}}{h^2}$$\n",
    "Con $u_i=u(x_i)$\n",
    "\n",
    "Es fácil notar que para una función escalar de tres variables $f(x,y,z)$ dicha definición se puede extender a sus derivadas parciales:\n",
    "\n",
    "$$\\displaystyle \\frac {\\partial^2f}{\\partial x^2} \\approx \\displaystyle \\frac {f_{i+1,\\:j,\\:k}-2f_{i,\\:j,\\:k}+f_{i-1,\\:j,\\:k}}{h^2}$$\n",
    "\n",
    "$$\\displaystyle \\frac {\\partial^2f}{\\partial y^2} \\approx \\displaystyle \\frac {f_{i,\\:j+1,\\:k}-2f_{i,\\:j,\\:k}+f_{i,\\:j-1,\\:k}}{h^2}$$\n",
    "\n",
    "$$\\displaystyle \\frac {\\partial^2f}{\\partial z^2} \\approx \\displaystyle \\frac {f_{i,\\:j,\\:k+1}-2f_{i,\\:j,\\:k}+f_{i,\\:j,\\:k-1}}{h^2}$$\n",
    "\n",
    "Donde $(f_{i,\\: j,\\: k}=f(x_i,y_j,z_k)$ y $\\vec{r}=(x,y,z)\\mapsto[i,j,k]$, el vector con índices $i,j,k$ es el punto de interés.\n",
    "\n",
    "Debido a lo confuso que puede resultar manejar índices aprovechamos que la norma de la lattice es $h$ y reescribimos las parciales de arriba como:\n",
    "\n",
    "$$\\displaystyle \\frac {\\partial^2f}{\\partial x^2} \\approx \\displaystyle \\frac {f(\\vec{r}+h\\vec{e}_1)-2f(\\vec{r})+f(\\vec{r}-h\\vec{e}_1)}{h^2}$$\n",
    "\n",
    "$$\\displaystyle \\frac {\\partial^2f}{\\partial y^2} \\approx \\displaystyle \\frac {f(\\vec{r}+h\\vec{e}_2)-2f(\\vec{r})+f(\\vec{r}-h\\vec{e}_2)}{h^2}$$\n",
    "\n",
    "$$\\displaystyle \\frac {\\partial^2f}{\\partial z^2} \\approx \\displaystyle \\frac {f(\\vec{r}+h\\vec{e}_3)-2f(\\vec{r})+f(\\vec{r}-h\\vec{e}_3)}{h^2}$$"
   ]
  },
  {
   "cell_type": "markdown",
   "metadata": {},
   "source": [
    "Siendo $\\{ \\vec{e}_i \\}$ son los vectores canónicos cartesianos respectivamente."
   ]
  },
  {
   "cell_type": "markdown",
   "metadata": {},
   "source": [
    "Por lo que el operador laplaciano en dicha región se puede expresar como:\n",
    "$$\\nabla^2 f(x,y,z) = \\displaystyle \\frac {\\partial^2f}{\\partial x^2} + \\displaystyle \\frac {\\partial^2f}{\\partial y^2} + \\displaystyle \\frac {\\partial^2f}{\\partial z^2} \\approx \\sum_{i=1}^3 \\displaystyle \\frac {f(\\vec{r}+h\\vec{e}_i)-2f(\\vec{r})+f(\\vec{r}-h\\vec{e}_i)}{h^2}$$"
   ]
  },
  {
   "cell_type": "markdown",
   "metadata": {},
   "source": [
    "Y esto se simplifica finalmente a:"
   ]
  },
  {
   "cell_type": "markdown",
   "metadata": {},
   "source": [
    "$$\\nabla^2 f(x,y,z) \\approx \\displaystyle \\frac {1}{h^2} \\left[-6f(\\vec{r}) + \\sum_{i=1}^3 \\left( f(\\vec{r}+h\\vec{e}_i)+f(\\vec{r}-h\\vec{e}_i)\\right)\\right]$$"
   ]
  },
  {
   "cell_type": "markdown",
   "metadata": {},
   "source": [
    "## Ejercicio 2"
   ]
  },
  {
   "cell_type": "markdown",
   "metadata": {},
   "source": [
    "Discretice la ecuación \n",
    "$$ \\frac{d^2f}{dx^2}=0 $$\n",
    "en el intervalo $[0,1]$, y aplicando el operador laplaciano discretizado obtenga el sistema de ecuaciones algebraicas lineales correspondientes al problema de _Dirichlet_:\n",
    "$f(0) = a$ y $f(1) = b$ dividiendo el intervalo $[0,1]$ en $5$ puntos separados por $h$."
   ]
  },
  {
   "cell_type": "markdown",
   "metadata": {},
   "source": [
    "### Solución"
   ]
  },
  {
   "cell_type": "markdown",
   "metadata": {},
   "source": [
    "Dado que es una función de una sola variable en una dimensión la segunda derivada de $f$ se expresa como:\n",
    "\n",
    "$$\\displaystyle \\frac {d^2f}{dx^2} \\approx \\displaystyle \\frac {f_{i+1}-2f_i+f_{i-1}}{h^2}$$\n",
    "\n",
    "Con $f_i=f(x_i)$. Aquí $\\{ x_i \\}$ son los puntos de la partición del intervalo $\\left[a,b\\right]$ donde es de nuestro interés discretizar.\n",
    "\n",
    "En nuestro problema $\\left[a,b\\right]=\\left[0,1\\right]$ y la norma de la partición es $h$ tal que $\\#\\{ x_i \\}=5$\n",
    "\n",
    "La partición del intervalo dado que cumple lo propuesta es aquella que induce el conjunto de puntos $\\{0,\\:0.25,\\:0.5,\\:0.75,\\:1\\}$ con $h=0.25$.\n",
    "\n",
    "Por conveniencia gracias a la definición de partición asociamos a cada punto un índice $i$ para identificarlos como $\\{x_i\\}$, _i.e._ $x_1=0,\\: x_2=0.25,\\: \\ldots \\:,\\: x_5=1$. "
   ]
  },
  {
   "cell_type": "markdown",
   "metadata": {},
   "source": [
    "Debido a que la aproximación por diferencias finitas simétricas para la derivada de segundo orden nos pide que por cada punto en el que deseamos aproximar se requiere de otros dos puntos solo aquellos $x_i$ con $i=2,3,4$ serán posibles estimarlos. Por lo que obtendremos 3 ecuaciones. Cada una de éstas es la aproximación igualada a cero."
   ]
  },
  {
   "cell_type": "markdown",
   "metadata": {},
   "source": [
    "Por lo tanto tenemos:\n",
    "\n",
    "* $i=2$\n",
    "$$\\displaystyle \\frac {f_3-2f_2+f_1}{h^2}=0$$\n",
    "\n",
    "* $i=3$\n",
    "$$\\displaystyle \\frac {f_4-2f_3+f_2}{h^2}=0$$\n",
    "\n",
    "* $i=4$\n",
    "$$\\displaystyle \\frac {f_5-2f_4+f_3}{h^2}=0$$"
   ]
  },
  {
   "cell_type": "markdown",
   "metadata": {},
   "source": [
    "Aplicando las condiciones a la frontera dadas (tipo Dirichlet) dadas:\n",
    "\n",
    "$$ f_1=f(0)=a$$\n",
    "$$ f_5=f(1)=b$$\n",
    "\n",
    "y, puesto que $h\\neq 0$, obtenemos el siguiente sistema de tres ecuaciones con tres incógnitas $\\{f_i\\},\\: i=2,3,4$:\n",
    "\n",
    "$$-2f_2+f_3+a=0$$\n",
    "\n",
    "$$f_2-2f_3+f_4=0$$\n",
    "\n",
    "$$f_3-2f_4+b=0$$"
   ]
  },
  {
   "cell_type": "markdown",
   "metadata": {},
   "source": [
    "## Ejercicio 3"
   ]
  },
  {
   "cell_type": "markdown",
   "metadata": {},
   "source": [
    "Hacer lo mismo para condiciones de _Neumann_, es decir, fijando en los extremos el valor de la primera derivada de la función. Para esto utilice la derivada _hacia adeltante_ en las orillas, es decir, si $f'(0)=a$ y $f'(1)=b$, entonces $(f_1-f_0)/h=a$, etc. No olvide que debe resultar un sistema de ecuación cuya dimensión sea el número de incognitas."
   ]
  },
  {
   "cell_type": "markdown",
   "metadata": {},
   "source": [
    "### Solución"
   ]
  },
  {
   "cell_type": "markdown",
   "metadata": {},
   "source": [
    "Para este caso notamos primero que las expresiones obtenidas usando diferencias finitas antes de introducir las condiciones tipo _Dirichlet_ son válidas. Debido a que las condiciones ahora son sobre las derivadas de primer orden en la frontera del intervalo se preserva la condición de incógnita para $f_1$ y $f_5$, es aquí donde  utilizamos la derivada hacia adelante (hacia atrás) en los puntos de la frontera para anexar las dos ecuaciones restantes para obtener un sistema de 5 ecuaciones con 5 incógnitas.\n",
    "\n",
    "Entonces recordando las expresiones para dichas aproximaciones de derivada:\n",
    "\n",
    "* __Derivada hacia adelante en $x_0$__\n",
    "\n",
    "$$f'(x_0) \\approx \\displaystyle \\frac {f(x_0+h)-f(x_0)}{h}$$\n",
    "\n",
    "* __Derivada hacia atrás en $x_0$__\n",
    "\n",
    "$$f'(x_0) \\approx \\displaystyle \\frac {f(x_0)-f(x_0-h)}{h}$$\n",
    "\n",
    "Recordemos que en este problema la norma de la partición $h$ es conocida (y hasta hemos probado que es $h=0.25$)."
   ]
  },
  {
   "cell_type": "markdown",
   "metadata": {},
   "source": [
    "Entonces aplicando la __derivada hacia adelante en $x_1$__:\n",
    "\n",
    "$$f'(x_1) \\approx \\displaystyle \\frac {f(x_1+h)-f(x_1)}{h}$$\n",
    "\n",
    "Pero $x_1+h=x_2$, por lo que la expresión anterior resulta ser:\n",
    "\n",
    "$$\\displaystyle \\frac {f(x_1+h)-f(x_1)}{h}=\\displaystyle \\frac {f(x_2)-f(x_1)}{h}$$\n",
    "\n",
    "Ahora utilizamos la condición de _Neumann_ para $f'(0)=f'(x_1)=a$ y obtenemos:\n",
    "\n",
    "$$\\displaystyle \\frac {f_2-f_1}{h}=a$$\n",
    "\n",
    "Y por ende tenemos:\n",
    "\n",
    "$$f_2-f_1-ah=0$$"
   ]
  },
  {
   "cell_type": "markdown",
   "metadata": {},
   "source": [
    "Ahora usando la __derivada hacia atrás en $x_5$__:\n",
    "\n",
    "$$f'(x_5) \\approx \\displaystyle \\frac {f(x_5)-f(x_5-h)}{h}$$\n",
    "\n",
    "Pero $x_5-h=x_4$, por lo que:\n",
    "\n",
    "$$\\displaystyle \\frac {f(x_5)-f(x_5-h)}{h}=\\displaystyle \\frac {f(x_5)-f(x_4)}{h}$$\n",
    "\n",
    "Utilizando la condición de _Neumann_ para $f'(1)=f'(x_5)=b$ se tiene:\n",
    "\n",
    "$$\\displaystyle \\frac {f_5-f_4}{h}=b$$\n",
    "\n",
    "Y por lo tanto:\n",
    "\n",
    "$$f_5-f_4-bh=0$$"
   ]
  },
  {
   "cell_type": "markdown",
   "metadata": {},
   "source": [
    "De esto finalmente obtenemos el sistema de 5 ecuaciones con 5 incógnitas de nuestro problema: 3 debido a la derivación simétrica y 2 debido a las condiciones tipo _Neumann_ dadas:\n",
    "\n",
    "$$-f_1+f_2-ah=0$$\n",
    "\n",
    "$$f_1-2f_2+f_3=0$$\n",
    "\n",
    "$$f_2-2f_3+f_4=0$$\n",
    "\n",
    "$$f_3-2f_4+f_5=0$$\n",
    "\n",
    "$$-f_4+f_5-bh=0$$"
   ]
  },
  {
   "cell_type": "markdown",
   "metadata": {},
   "source": [
    "## Ejercicio 4"
   ]
  },
  {
   "cell_type": "markdown",
   "metadata": {},
   "source": [
    "`Julia` es más eficiente\n",
    "si se utiliza un único índice para acceder a los elementos\n",
    "de una matriz, además que puede simplificar algunos problemas. Escribe una función $\\phi$ que traduzca un par de\n",
    "índices $i,j$ a un único índice $k$, es decir:\n",
    "$$\\phi: (i,j) \\mapsto k.$$\n",
    "También encuentren $\\phi^{-1}$. Note que $\\phi$ deberá depender de las dimensiones del arreglo, por lo menos de una de ellas."
   ]
  },
  {
   "cell_type": "markdown",
   "metadata": {},
   "source": [
    "### Solución"
   ]
  },
  {
   "cell_type": "markdown",
   "metadata": {},
   "source": [
    "#### Encontrando la función $\\phi$"
   ]
  },
  {
   "cell_type": "markdown",
   "metadata": {},
   "source": [
    "Se busca simplificar la presencia de los dos índices matriciales $i$ (asociado a renglones) y $j$ (asociado a columnas) en uno solo (denominado $k$) para simplificar algoritmos.\n",
    "\n",
    "Primero recordemos que para una matriz $A\\in \\{ \\mathscr{M}_{n\\times m}\\}$ el número de elementos es $nm$.\n",
    "\n",
    "Es sencillo ver que hay dos formas sencillas de  ir asignando el nuevo índice $k$ a cada elemento $A_{ij}$:\n",
    "* Ir asignando ordenamente  los valores a los elementos de la primer columna, después a los de la segunda y así sucesivamente hasta haberlo hecho con las $m$ columnas.\n",
    "* Hacerlo análogamente con los elementos del primer renglón, posteriormente los del segundo renglón y así hasta completar los $n$ renglones.\n",
    "\n",
    "En este caso utilizo la primera opción."
   ]
  },
  {
   "cell_type": "markdown",
   "metadata": {},
   "source": [
    "Para esto veamos las siguientes __observaciones__:\n",
    "* $i,j\\in \\mathrm{N}/\\{0\\}$\n",
    "* Para la primera columna el primer elemento $(A_1,1)$ se le asignaría $k=1$\n",
    "* El último elemento de la primera columna $(A_n,1)$ se le asigna $k=n$\n",
    "* El primer elemento de la segunda columna $(A_1,2)$ le toca $k=n+1$\n",
    "* El último elemento de la segunda  columna $(A_n,2)$ correspondería a $k=2n$\n",
    "\n",
    "De aquí podemos ver que:\n",
    "* El primer elemento de la j-ésima columna le es asignado $k=(j-1)n+1$\n",
    "* El último elemento de la j-ésima columna corresponde a $k=jn$\n",
    "\n",
    "Por lo que al n-ésimo elemento de la j-ésima columna se mandaría a $k=(j-1)n+i$\n",
    "\n",
    "Por lo tanto:\n",
    "\n",
    "$$\\phi:\\{(i,j)\\}\\subset\\mathrm{N}\\times\\mathrm{N}\\longrightarrow\\mathrm{N}$$\n",
    "\n",
    "Con $i=1,2,\\ldots,n$, $j=1,2,\\ldots,m$ tal que:\n",
    "\n",
    "$$\\phi(i,j)=k=(j-1)n+i$$\n"
   ]
  },
  {
   "cell_type": "markdown",
   "metadata": {},
   "source": [
    "#### Encontrando la función $\\phi^{-1}$"
   ]
  },
  {
   "cell_type": "markdown",
   "metadata": {},
   "source": [
    "De las observaciones realizadas para hallar $\\phi$ retomemos las siguientes para encontrar $j$ dada $k$:\n",
    "* El primer elemento de la j-ésima columna le es asignado $k=(j-1)n+1$\n",
    "* El último elemento de la j-ésima columna corresponde a $k=jn$\n",
    "\n",
    "Por lo que para alguna $j_0$ conocida coinciden todos los valores de $k=(j_0-1)n+i$ con $i=1,2,\\ldots,n$.\n",
    "\n",
    "De la segunda observación retomada como explicitamente ese valor de $k$ es la multiplicación de dos números naturales se cumplirá que $j_0=\\displaystyle \\frac {k}{n}\\in\\mathrm{N}$\n",
    "\n",
    "Si dividimos el mínimo valor posible $k$ para la $j=j_0$ entre $n$ obtenemos:\n",
    "\n",
    "$$\\displaystyle \\frac {k_{min}}{n}=(j_0-1)+\\displaystyle \\frac {1}{n}$$\n",
    "\n",
    "Por lo tanto para los valores intermedios donde $i=2,3,\\ldots,n-1$ se cumple:\n",
    "\n",
    "$$ j_0-1<(j_0-1)+\\displaystyle \\frac {1}{n}<(j_0-1)+\\displaystyle \\frac {i}{n}<(j_0-1)+\\displaystyle \\frac {k}{n}=j_0 $$\n",
    "\n",
    "De todo esto concluímos que para determinar apropiadamente $j$ dado $k$ aplicamos la función techo a $\\displaystyle \\frac {k}{n}$,es decir:\n",
    "\n",
    "$$j=\\lceil \\displaystyle \\frac {k}{n} \\rceil$$"
   ]
  },
  {
   "cell_type": "markdown",
   "metadata": {},
   "source": [
    "Para hallar $i$ la despejamos de la función $\\phi$:\n",
    "\n",
    "$$i=k-(j-1)n=k+(1-j)n$$\n",
    "\n",
    "Sustituyendo la expresión hallada para $j$ obtenemos:\n",
    "\n",
    "$$i=k+\\left( 1-\\lceil \\displaystyle \\frac {k}{n} \\rceil\\right)n$$\n",
    "\n",
    "Por lo tanto:\n",
    "\n",
    "$$\\phi^{-1}:\\{k\\}\\subset\\mathrm{N} \\longrightarrow \\mathrm{N}\\times\\mathrm{N}$$\n",
    "\n",
    "Con $k=1,2,\\ldots,mn$, tal que:\n",
    "\n",
    "$$\\phi^{-1}(k)=(i,j)=\\left(k+\\left( 1-\\lceil \\displaystyle \\frac {k}{n} \\rceil\\right)n,\\lceil \\displaystyle \\frac {k}{n} \\rceil\\right)$$\n",
    "\n",
    "__Ejemplo:__\n",
    "\n",
    "Para una matriz $A$ de $2\\times2$ $k=3$ corresponde a $A_{1,2}$\n",
    "\n",
    "Comprobando con $\\phi^{-1}$:\n",
    "\n",
    "$$\\phi^{-1}(3)=\\left(3+\\left( 1-\\lceil \\displaystyle \\frac {3}{2} \\rceil\\right)2,\\lceil \\displaystyle \\frac {3}{2} \\rceil\\right)=\\left(3+2(-1),2\\right)=(1,2)$$"
   ]
  },
  {
   "cell_type": "markdown",
   "metadata": {},
   "source": [
    "__FIN__"
   ]
  }
 ],
 "metadata": {
  "kernelspec": {
   "display_name": "Julia 0.6.0",
   "language": "julia",
   "name": "julia-0.6"
  },
  "language_info": {
   "file_extension": ".jl",
   "mimetype": "application/julia",
   "name": "julia",
   "version": "0.6.0"
  }
 },
 "nbformat": 4,
 "nbformat_minor": 2
}
